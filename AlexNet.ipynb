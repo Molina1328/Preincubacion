{
  "nbformat": 4,
  "nbformat_minor": 0,
  "metadata": {
    "colab": {
      "provenance": [],
      "collapsed_sections": []
    },
    "kernelspec": {
      "name": "python3",
      "display_name": "Python 3"
    },
    "language_info": {
      "name": "python"
    },
    "accelerator": "GPU",
    "gpuClass": "standard"
  },
  "cells": [
    {
      "cell_type": "code",
      "source": [
        "\"\"\"Librería para calculo numerico\"\"\"\n",
        "import numpy as np\n",
        "\"\"\"Libreria para graficas\"\"\"\n",
        "import matplotlib.pyplot as plt\n",
        "\"\"\"Importa para dividir el conjunto de datos en entrenamiento y prueba\"\"\"\n",
        "from sklearn.model_selection import train_test_split\n",
        "\"\"\"Librería que que ofrece metricas\"\"\"\n",
        "from sklearn.metrics import accuracy_score, precision_score, recall_score, f1_score\n",
        "import tensorflow as tf\n",
        "from tensorflow import keras\n",
        "from tensorflow.keras.callbacks import EarlyStopping\n",
        "from sklearn.metrics import classification_report, confusion_matrix\n",
        "from keras.regularizers import l2\n",
        "from keras.regularizers import l1\n",
        "from tensorflow.keras.utils import to_categorical\n",
        "\"\"\"Importa datos de señales de registro de archivos de ejecuciones\n",
        "de simulación disponibles para la aplicación en tiempo real seleccionadas\"\"\"\n",
        "import time\n",
        "import math\n",
        "import logging\n",
        "\"\"\"Importar librerias para realizar CNN\"\"\"\n",
        "import os\n",
        "\"\"\"Cargar las imagenes\"\"\"\n",
        "import cv2\n",
        "from PIL import Image"
      ],
      "metadata": {
        "id": "-rUd8MdWSHOZ"
      },
      "execution_count": 1,
      "outputs": []
    },
    {
      "cell_type": "code",
      "source": [
        "\"\"\"Definición del tamaño, array de las imagenes\"\"\"\n",
        "IMG_SHAPE  = 224\n",
        "batch_size = 32\n",
        "random_seed = 9"
      ],
      "metadata": {
        "id": "PH0nC188SEJS"
      },
      "execution_count": 2,
      "outputs": []
    },
    {
      "cell_type": "code",
      "source": [
        "from google.colab import drive\n",
        "drive.mount('/content/drive')"
      ],
      "metadata": {
        "colab": {
          "base_uri": "https://localhost:8080/"
        },
        "id": "2grWSxU5iLXS",
        "outputId": "3ee5eb8c-86cc-40c0-863f-90cd10c26298"
      },
      "execution_count": 4,
      "outputs": [
        {
          "output_type": "stream",
          "name": "stdout",
          "text": [
            "Mounted at /content/drive\n"
          ]
        }
      ]
    },
    {
      "cell_type": "code",
      "source": [
        "fpath = '/content/drive/MyDrive/Mineria/Vocales1BRG'\n",
        "categories = os.listdir(fpath)\n",
        "print(\"Lista de categorias = \",categories,\"\\n\\nNo. de categorias = \", len(categories))"
      ],
      "metadata": {
        "colab": {
          "base_uri": "https://localhost:8080/"
        },
        "id": "JxBTiWhXSMVd",
        "outputId": "46b8c19a-cc1a-4614-bed2-74bd1da96148"
      },
      "execution_count": 5,
      "outputs": [
        {
          "output_type": "stream",
          "name": "stdout",
          "text": [
            "Lista de categorias =  ['u', 'o', 'i', 'a', 'e'] \n",
            "\n",
            "No. de categorias =  5\n"
          ]
        }
      ]
    },
    {
      "cell_type": "code",
      "source": [
        "\"\"\"Funcion para cargar las imagenes por categorias\"\"\"\n",
        "def load_images_and_labels(categories):\n",
        "    img_lst=[]\n",
        "    labels=[]\n",
        "    for index, category in enumerate(categories):\n",
        "        for image_name in os.listdir(fpath+\"/\"+category):\n",
        "            img = cv2.imread(fpath+\"/\"+category+\"/\"+image_name)\n",
        "            img = cv2.cvtColor(img, cv2.COLOR_BGR2RGB)\n",
        "            img = cv2.resize(img, (IMG_SHAPE, IMG_SHAPE))\n",
        "            img_array = Image.fromarray(img, 'RGB')\n",
        "\n",
        "            img_lst.append(np.array(img_array))\n",
        "\n",
        "            labels.append(index)\n",
        "    return img_lst, labels\n",
        "\"\"\"Cargar las imagenes desde las categorias\"\"\"\n",
        "images, labels = load_images_and_labels(categories)\n",
        "\"\"\"Mostrar la cantidad de imagenes cargadas\"\"\"\n",
        "print(\"Nº de imágenes cargadas = \",len(images),\"\\nNo. de etiquetas cargadas = \",len(labels))\n",
        "print(type(images),type(labels))"
      ],
      "metadata": {
        "colab": {
          "base_uri": "https://localhost:8080/"
        },
        "id": "JSV3ghfSSUk0",
        "outputId": "95f435a4-2de7-4c6c-f0e5-2532bb7a5265"
      },
      "execution_count": 7,
      "outputs": [
        {
          "output_type": "stream",
          "name": "stdout",
          "text": [
            "Nº de imágenes cargadas =  1000 \n",
            "No. de etiquetas cargadas =  1000\n",
            "<class 'list'> <class 'list'>\n"
          ]
        }
      ]
    },
    {
      "cell_type": "code",
      "source": [
        "\"\"\"Variables para ver el array de las imagenes y los label\"\"\"\n",
        "images = np.array(images)\n",
        "labels = np.array(labels)\n",
        "\n",
        "print(\"Images shape = \",images.shape,\"\\nLabels shape = \",labels.shape)\n",
        "print(type(images),type(labels))"
      ],
      "metadata": {
        "colab": {
          "base_uri": "https://localhost:8080/"
        },
        "id": "3sr7cCojSbWK",
        "outputId": "ed68c8bf-c2c9-4296-d954-c40214ef079e"
      },
      "execution_count": 8,
      "outputs": [
        {
          "output_type": "stream",
          "name": "stdout",
          "text": [
            "Images shape =  (1000, 224, 224, 3) \n",
            "Labels shape =  (1000,)\n",
            "<class 'numpy.ndarray'> <class 'numpy.ndarray'>\n"
          ]
        }
      ]
    },
    {
      "cell_type": "code",
      "source": [
        "\"\"\"Función para visualizar imagenes aleatorias \"\"\"\n",
        "def display_rand_images(images, labels):\n",
        "    plt.figure(1 , figsize = (19 , 10))\n",
        "    n = 0 \n",
        "    for i in range(15):\n",
        "        n += 1 \n",
        "        r = np.random.randint(0 , images.shape[0] , 1)\n",
        "        \n",
        "        plt.subplot(5 , 5 , n)\n",
        "        plt.subplots_adjust(hspace = 0.3 , wspace = 0.3)\n",
        "        plt.imshow(images[r[0]])\n",
        "        \n",
        "        \"\"\"Array de las vocales\"\"\"\n",
        "        plt.title('Vocales: {}'.format(labels[r[0]]))\n",
        "        plt.xticks([])\n",
        "        plt.yticks([])\n",
        "        \n",
        "    plt.show()\n",
        "\"\"\"Mostrar imagenes con sus labels\"\"\"\n",
        "display_rand_images(images, labels)"
      ],
      "metadata": {
        "colab": {
          "base_uri": "https://localhost:8080/",
          "height": 366
        },
        "id": "VF0lRqwuTkSi",
        "outputId": "4d5dc03d-7357-4513-ae00-bf167301db82"
      },
      "execution_count": 9,
      "outputs": [
        {
          "output_type": "display_data",
          "data": {
            "text/plain": [
              "<Figure size 1368x720 with 15 Axes>"
            ],
            "image/png": "[encoded data removed]"
          },
          "metadata": {}
        }
      ]
    },
    {
      "cell_type": "markdown",
      "source": [
        "## Shuffling"
      ],
      "metadata": {
        "id": "gOL9CWq0ejpc"
      }
    },
    {
      "cell_type": "code",
      "source": [
        "\"\"\"Primero se reorganizan los datos\"\"\"\n",
        "\n",
        "\"\"\"Obtener números igualmente espaciados en un rango dado\"\"\"\n",
        "n = np.arange(images.shape[0])\n",
        "print(\"'n' values before shuffling = \",n)\n",
        "\n",
        "\"\"\"Mezclar todos los valores igualmente espaciados en la lista 'n'\"\"\"\n",
        "np.random.seed(random_seed)\n",
        "np.random.shuffle(n)\n",
        "print(\"\\n'n' values after shuffling = \",n)"
      ],
      "metadata": {
        "colab": {
          "base_uri": "https://localhost:8080/"
        },
        "id": "m1EuopX9Tm3J",
        "outputId": "ed737fba-d1da-47af-8373-379dde45f669"
      },
      "execution_count": 10,
      "outputs": [
        {
          "output_type": "stream",
          "name": "stdout",
          "text": [
            "'n' values before shuffling =  [  0   1   2   3   4   5   6   7   8   9  10  11  12  13  14  15  16  17\n",
            "  18  19  20  21  22  23  24  25  26  27  28  29  30  31  32  33  34  35\n",
            "  36  37  38  39  40  41  42  43  44  45  46  47  48  49  50  51  52  53\n",
            "  54  55  56  57  58  59  60  61  62  63  64  65  66  67  68  69  70  71\n",
            "  72  73  74  75  76  77  78  79  80  81  82  83  84  85  86  87  88  89\n",
            "  90  91  92  93  94  95  96  97  98  99 100 101 102 103 104 105 106 107\n",
            " 108 109 110 111 112 113 114 115 116 117 118 119 120 121 122 123 124 125\n",
            " 126 127 128 129 130 131 132 133 134 135 136 137 138 139 140 141 142 143\n",
            " 144 145 146 147 148 149 150 151 152 153 154 155 156 157 158 159 160 161\n",
            " 162 163 164 165 166 167 168 169 170 171 172 173 174 175 176 177 178 179\n",
            " 180 181 182 183 184 185 186 187 188 189 190 191 192 193 194 195 196 197\n",
            " 198 199 200 201 202 203 204 205 206 207 208 209 210 211 212 213 214 215\n",
            " 216 217 218 219 220 221 222 223 224 225 226 227 228 229 230 231 232 233\n",
            " 234 235 236 237 238 239 240 241 242 243 244 245 246 247 248 249 250 251\n",
            " 252 253 254 255 256 257 258 259 260 261 262 263 264 265 266 267 268 269\n",
            " 270 271 272 273 274 275 276 277 278 279 280 281 282 283 284 285 286 287\n",
            " 288 289 290 291 292 293 294 295 296 297 298 299 300 301 302 303 304 305\n",
            " 306 307 308 309 310 311 312 313 314 315 316 317 318 319 320 321 322 323\n",
            " 324 325 326 327 328 329 330 331 332 333 334 335 336 337 338 339 340 341\n",
            " 342 343 344 345 346 347 348 349 350 351 352 353 354 355 356 357 358 359\n",
            " 360 361 362 363 364 365 366 367 368 369 370 371 372 373 374 375 376 377\n",
            " 378 379 380 381 382 383 384 385 386 387 388 389 390 391 392 393 394 395\n",
            " 396 397 398 399 400 401 402 403 404 405 406 407 408 409 410 411 412 413\n",
            " 414 415 416 417 418 419 420 421 422 423 424 425 426 427 428 429 430 431\n",
            " 432 433 434 435 436 437 438 439 440 441 442 443 444 445 446 447 448 449\n",
            " 450 451 452 453 454 455 456 457 458 459 460 461 462 463 464 465 466 467\n",
            " 468 469 470 471 472 473 474 475 476 477 478 479 480 481 482 483 484 485\n",
            " 486 487 488 489 490 491 492 493 494 495 496 497 498 499 500 501 502 503\n",
            " 504 505 506 507 508 509 510 511 512 513 514 515 516 517 518 519 520 521\n",
            " 522 523 524 525 526 527 528 529 530 531 532 533 534 535 536 537 538 539\n",
            " 540 541 542 543 544 545 546 547 548 549 550 551 552 553 554 555 556 557\n",
            " 558 559 560 561 562 563 564 565 566 567 568 569 570 571 572 573 574 575\n",
            " 576 577 578 579 580 581 582 583 584 585 586 587 588 589 590 591 592 593\n",
            " 594 595 596 597 598 599 600 601 602 603 604 605 606 607 608 609 610 611\n",
            " 612 613 614 615 616 617 618 619 620 621 622 623 624 625 626 627 628 629\n",
            " 630 631 632 633 634 635 636 637 638 639 640 641 642 643 644 645 646 647\n",
            " 648 649 650 651 652 653 654 655 656 657 658 659 660 661 662 663 664 665\n",
            " 666 667 668 669 670 671 672 673 674 675 676 677 678 679 680 681 682 683\n",
            " 684 685 686 687 688 689 690 691 692 693 694 695 696 697 698 699 700 701\n",
            " 702 703 704 705 706 707 708 709 710 711 712 713 714 715 716 717 718 719\n",
            " 720 721 722 723 724 725 726 727 728 729 730 731 732 733 734 735 736 737\n",
            " 738 739 740 741 742 743 744 745 746 747 748 749 750 751 752 753 754 755\n",
            " 756 757 758 759 760 761 762 763 764 765 766 767 768 769 770 771 772 773\n",
            " 774 775 776 777 778 779 780 781 782 783 784 785 786 787 788 789 790 791\n",
            " 792 793 794 795 796 797 798 799 800 801 802 803 804 805 806 807 808 809\n",
            " 810 811 812 813 814 815 816 817 818 819 820 821 822 823 824 825 826 827\n",
            " 828 829 830 831 832 833 834 835 836 837 838 839 840 841 842 843 844 845\n",
            " 846 847 848 849 850 851 852 853 854 855 856 857 858 859 860 861 862 863\n",
            " 864 865 866 867 868 869 870 871 872 873 874 875 876 877 878 879 880 881\n",
            " 882 883 884 885 886 887 888 889 890 891 892 893 894 895 896 897 898 899\n",
            " 900 901 902 903 904 905 906 907 908 909 910 911 912 913 914 915 916 917\n",
            " 918 919 920 921 922 923 924 925 926 927 928 929 930 931 932 933 934 935\n",
            " 936 937 938 939 940 941 942 943 944 945 946 947 948 949 950 951 952 953\n",
            " 954 955 956 957 958 959 960 961 962 963 964 965 966 967 968 969 970 971\n",
            " 972 973 974 975 976 977 978 979 980 981 982 983 984 985 986 987 988 989\n",
            " 990 991 992 993 994 995 996 997 998 999]\n",
            "\n",
            "'n' values after shuffling =  [  2 879  57 496 611  45 200 665 603 299 213  65 450 128  98 856 148 697\n",
            "  10 916 514 834 249 504 580 255 369 376 132 316 994 712 723 280 558 767\n",
            " 520 451 768 604 761 421 393 343 840 799 120 346 999 912 826 116 345 666\n",
            " 563 736 996 548 527 304 968 164 794 309 542 269 841 807 429 862  72 572\n",
            " 608 844 267 962 462 193 857 600 584 251 650 884 793 482 914 311 330 246\n",
            "  62 489  40 495 398 111 344  55 917 759 211  16 564  91 342 122 724 781\n",
            " 519 259 284 453  39 889 103  18 985 124 408 237 628 586 560  24 533 644\n",
            " 845 748 380  44  30 569 412 602  60 906 300  77  17 729 228  54 335 704\n",
            "  68 325 334 744 444 944  32 609 279  47 576 843 764 865 370 811 921 934\n",
            " 660 804 976 706 189 143 675 989 657 150 437 716 562 771 765 410 635 655\n",
            " 210 372 159 362 945 509 673 445 923 551 911  27  81 735 295 987 441 684\n",
            " 582 503 981 829 634  97 836 621 322 672 141 612 692 446 607 352 461 848\n",
            " 170 529 662 409 837 281 913 787 825 109 782 990 713 271 707 648 130 647\n",
            " 927 878 199 658 561 506  25  99 613   4 888  41 425 106  80 471   3 815\n",
            " 901 152 977 324 146 745  90 627 194 851 494 785 788  37  87 618 590 550\n",
            " 131 900 254 368 546 323 363 196 449  34 191  14  21 606 774 872 780 801\n",
            " 874  89 591 831 957 287   6 100 961 181 283 480 775 975 895 337  11 679\n",
            " 192 176 321 743 828  70 777 174 498 448 742 953 415 887 433 819 418  20\n",
            " 958 583 835 814 935 854 730 954 907 257 294 151 750 784 367 384 221 705\n",
            " 351 813 594 288 327 757 570 721  94  71 926 260 258 178 126 740 641 394\n",
            " 795 459 732 964 616 578 920 112 983 478 466 195 485 997 454 392 197 184\n",
            " 715 439 678 949 383 464 265 218 458 373 165 821 411 145 289 525 690 868\n",
            "  88 277 880 574 476 948  42 173 107 252 134 359  50 233 268 402 993  36\n",
            " 397 273 543 681 789 341 875 969 431 313 414  51 903 180 365 442 493 947\n",
            " 223 589 687 614  38 649 699 379 123 256 661 855 512 207 490 792 565 863\n",
            " 838 396  73 250 728 755 741  13 910 941 668 544 798 597 930 518 861 568\n",
            " 517 175 475 754 671 822 479 308 138 516  63 567 601 185  84 422 147 783\n",
            " 691 231 499 922 361 535 502 302 908 406 139  74 166 487 932 216 119 390\n",
            " 227 155 593 827 297 639 549 674 579 317 427 276 802 816  26 114 651 885\n",
            " 766 160 349 215 955 105 559 538 719 967 329  93 846  28 847 387 331 292\n",
            " 645 530  83 474 460  95 212 428 556  15 677 171 756  23 424 617 581 566\n",
            " 747 693 167 881 488 270 758 899 869 709 336  76 905 595  75 592 140 110\n",
            " 235 931 307 378   9 800 702 749  31 356 423 456 364 689 217 610 770 101\n",
            " 554 615 220 731  69 172 432 149 236 481 670 385 951 893 340 803 127 776\n",
            " 701 805 858 636 588 389  53 229  35 667 622 314   7 537 683 318 310 686\n",
            " 301 404 708 852 532 995 521  86 942  61 452 511 630 188 162 242 700 531\n",
            " 915 357 867 806  96 244 113 886 988 426 769 817 416 966 823 163 391 796\n",
            " 791 286 505 264 282 943 293 206 232 909 753 919 400 978 839 157 940 654\n",
            " 491 866 832 339 726 377 401 447 883 156 386 179 664 663  78 652 890 904\n",
            " 779  92 694 319 643 484 695 198 104 524 711 620 982 850 438 936 133 118\n",
            " 646 541 407 937   5 278 680 315 115 734 587 820 849 333 208 718 585   8\n",
            " 222 557 468 262 539 515 528 239 553 894 272 984 457 419 810  79 676  59\n",
            " 773 430 202 183 320 177 897 605 168 201  82 998 158  85 703 153 154 642\n",
            " 405 633 991 522 598 547 946 725 381 540 746 303 117 619 710 637 508 738\n",
            " 971 353  29 435 523 142 891 833 285 737  67 778 483 338 375 298 248 812\n",
            " 263 473 305  19 818 121 545 136  43 714 596 965 625 963 555 938 973 902\n",
            " 877 871 226 470 291 698 623  33 685   0 135 465 808 358 925 974 225 326\n",
            " 513 190 960 797 860 243 266 786 873  48 204 102  66 809  22 959 463 510\n",
            " 332 350 752 253 727 467 853 656 864 469 882 161 374 599 876 870  64 420\n",
            " 722 859 669 203 526 624 824 898 929 992 224 209 688 924 497 306 682 169\n",
            " 659 366 573 354 939 413 230  46 500 240 399 626 247 455 205 371 108 219\n",
            " 290   1 328 507 928 552 403 536 261 751 388 144 440 842 640 186  52 355\n",
            " 245 772 986 434 790 575 182 492 979 717 980  58 443 653 360  49 312 720\n",
            " 137 631 486 275 933 395 739 972 129 696 214 274  12 632 892 234 830 477\n",
            " 952 970 472 187 238 956 896 733 417 347 629 760 241 762 296 571 436 534\n",
            " 577 125 918 763  56 950 501 638 348 382]\n"
          ]
        }
      ]
    },
    {
      "cell_type": "code",
      "source": [
        "\"\"\"El segundo paso es la mezcla de datos\"\"\"\n",
        "\n",
        "\"\"\"imágenes aleatorias y datos de etiquetas correspondientes en ambas listas\"\"\"\n",
        "images = images[n]\n",
        "labels = labels[n]\n",
        "\n",
        "print(\"Forma de las imágenes después de la mezcla = \",images.shape,\"\\nForma de las etiquetas después de mezclar= \",labels.shape)"
      ],
      "metadata": {
        "colab": {
          "base_uri": "https://localhost:8080/"
        },
        "id": "cEs8bRQBTm-h",
        "outputId": "99a8080d-6fec-40c5-f7a2-53982f17084e"
      },
      "execution_count": 11,
      "outputs": [
        {
          "output_type": "stream",
          "name": "stdout",
          "text": [
            "Forma de las imágenes después de la mezcla =  (1000, 224, 224, 3) \n",
            "Forma de las etiquetas después de mezclar=  (1000,)\n"
          ]
        }
      ]
    },
    {
      "cell_type": "code",
      "source": [
        "\"\"\"Normalizacion de los datos, segun su tipo: float, int\"\"\"\n",
        "images = images.astype(np.float32)\n",
        "labels = labels.astype(np.int32)\n",
        "images = images/255\n",
        "print(\"Forma de las imágenes después de la normalización = \",images.shape)"
      ],
      "metadata": {
        "colab": {
          "base_uri": "https://localhost:8080/"
        },
        "id": "mH_YNOBkTq9i",
        "outputId": "7f165330-471b-4f7a-c7e9-b13778523175"
      },
      "execution_count": 12,
      "outputs": [
        {
          "output_type": "stream",
          "name": "stdout",
          "text": [
            "Forma de las imágenes después de la normalización =  (1000, 224, 224, 3)\n"
          ]
        }
      ]
    },
    {
      "cell_type": "markdown",
      "source": [
        "## División del conjunto de datos "
      ],
      "metadata": {
        "id": "nuBGwEdPfP9h"
      }
    },
    {
      "cell_type": "code",
      "source": [
        "'''Se divide el conjunto de datos en 80% para entrenamiento y 20% para prueba'''\n",
        "x_train, x_test, y_train, y_test = train_test_split(images, labels, test_size = 0.2, random_state = random_seed)\n",
        "\n",
        "x_val = x_train[:58]\n",
        "y_val = y_train[:58]\n",
        "x_train = x_train[58:]\n",
        "y_train = y_train[58:]\n",
        "\n",
        "\"\"\"Mostrar los array en cada parte del entrenamiento y la prueba\"\"\"\n",
        "\n",
        "print(\"x_train shape = \",x_train.shape)\n",
        "print(\"y_train shape = \",y_train.shape)\n",
        "print(\"\\nx_test shape = \",x_test.shape)\n",
        "print(\"y_test shape = \",y_test.shape)\n",
        "\n",
        "print(\"\\nx_val shape = \",x_val.shape)\n",
        "print(\"y_val shape = \",y_val.shape)"
      ],
      "metadata": {
        "colab": {
          "base_uri": "https://localhost:8080/"
        },
        "id": "ywIvyoETTuas",
        "outputId": "9dd26b52-063b-4465-b9fe-29656f62c430"
      },
      "execution_count": 13,
      "outputs": [
        {
          "output_type": "stream",
          "name": "stdout",
          "text": [
            "x_train shape =  (742, 224, 224, 3)\n",
            "y_train shape =  (742,)\n",
            "\n",
            "x_test shape =  (200, 224, 224, 3)\n",
            "y_test shape =  (200,)\n",
            "\n",
            "x_val shape =  (58, 224, 224, 3)\n",
            "y_val shape =  (58,)\n"
          ]
        }
      ]
    },
    {
      "cell_type": "code",
      "source": [
        "\"\"\"Estructura One-hot-encode\"\"\"\n",
        "y_train = to_categorical(y_train, 5)\n",
        "y_test = to_categorical(y_test, 5)\n",
        "y_val = to_categorical(y_val, 5)"
      ],
      "metadata": {
        "id": "L5258OlFTxAz"
      },
      "execution_count": 14,
      "outputs": []
    },
    {
      "cell_type": "markdown",
      "source": [
        "## Definición del modelo "
      ],
      "metadata": {
        "id": "K5Kd8aplfnpg"
      }
    },
    {
      "cell_type": "markdown",
      "source": [
        "#### AlexNet se compone de cinco capas convolucionales y tres capas densas."
      ],
      "metadata": {
        "id": "KTZ-6jf1VBy3"
      }
    },
    {
      "cell_type": "markdown",
      "source": [
        "### Modelo 1"
      ],
      "metadata": {
        "id": "9x8j80wmJ6mE"
      }
    },
    {
      "cell_type": "code",
      "source": [
        "model_1=keras.models.Sequential([\n",
        "    \n",
        "    # Primera capa convolucional\n",
        "    keras.layers.Conv2D(filters=128, kernel_size=(11,11), strides=(4,4), activation='relu', input_shape=x_train[0].shape), \n",
        "    keras.layers.BatchNormalization(), # Nos permite normalizar por lotes los datos, para evitar así que se tengan distancias muy diferentes.\n",
        "    keras.layers.MaxPool2D(pool_size=(2,2)), # Nos permite reducir el tamaño\n",
        "    \n",
        "    # Segunda capa convolucional\n",
        "    keras.layers.Conv2D(filters=256, kernel_size=(5,5), strides=(1,1), activation='relu', padding=\"same\"),\n",
        "    keras.layers.BatchNormalization(),\n",
        "    keras.layers.MaxPool2D(pool_size=(3,3)),\n",
        "    # Tercera capa convolutional\n",
        "    keras.layers.Conv2D(filters=256, kernel_size=(3,3), strides=(1,1), activation='relu', padding=\"same\"),\n",
        "    keras.layers.BatchNormalization(),\n",
        "    \n",
        "    # Cuarta capa convolutional\n",
        "    keras.layers.Conv2D(filters=256, kernel_size=(1,1), strides=(1,1), activation='relu', padding=\"same\"),\n",
        "    keras.layers.BatchNormalization(),\n",
        "    # Quinta capa convolutional\n",
        "    keras.layers.Conv2D(filters=256, kernel_size=(1,1), strides=(1,1), activation='relu', padding=\"same\"),\n",
        "    keras.layers.BatchNormalization(),\n",
        "    keras.layers.MaxPool2D(pool_size=(2,2)),\n",
        "    \n",
        "    #Flatten nos ayuda a convertir los datos en un vector de características de 1D para ser utilizado por la siguiente capa que es la capa densa\n",
        "    keras.layers.Flatten(),\n",
        "    #  Las capas Dense son las capas que conectan cada neurona en una capa con todas las salidas de la capa anterior\n",
        "    keras.layers.Dense(1024,activation='relu'),\n",
        "    keras.layers.Dropout(0.5), # Nos permite apagar un porcentaje de neuronas para que no se sobreajuste nuestro modelo\n",
        "    keras.layers.Dense(1024,activation='relu'),\n",
        "    keras.layers.Dropout(0.5),\n",
        "    # Capa de salida\n",
        "    keras.layers.Dense(5,activation='softmax')  \n",
        "])"
      ],
      "metadata": {
        "id": "K4E0h8BFUr6x"
      },
      "execution_count": 16,
      "outputs": []
    },
    {
      "cell_type": "code",
      "source": [
        "\"\"\"Configuracion para compilar el modelo, tambien se optimiza\"\"\"\n",
        "model_1.compile(optimizer='adam', loss=tf.keras.losses.categorical_crossentropy, metrics=['acc'])"
      ],
      "metadata": {
        "id": "w6SlBp6AKD8M"
      },
      "execution_count": 17,
      "outputs": []
    },
    {
      "cell_type": "code",
      "source": [
        "\"\"\"Resumen del Modelo\"\"\"\n",
        "model_1.summary()"
      ],
      "metadata": {
        "colab": {
          "base_uri": "https://localhost:8080/"
        },
        "id": "aG3Xya1wKHsa",
        "outputId": "0beec71b-1254-41ab-fe3d-7c7bb33f0c7f"
      },
      "execution_count": 18,
      "outputs": [
        {
          "output_type": "stream",
          "name": "stdout",
          "text": [
            "Model: \"sequential_1\"\n",
            "_________________________________________________________________\n",
            " Layer (type)                Output Shape              Param #   \n",
            "=================================================================\n",
            " conv2d_5 (Conv2D)           (None, 54, 54, 128)       46592     \n",
            "                                                                 \n",
            " batch_normalization_5 (Batc  (None, 54, 54, 128)      512       \n",
            " hNormalization)                                                 \n",
            "                                                                 \n",
            " max_pooling2d_3 (MaxPooling  (None, 27, 27, 128)      0         \n",
            " 2D)                                                             \n",
            "                                                                 \n",
            " conv2d_6 (Conv2D)           (None, 27, 27, 256)       819456    \n",
            "                                                                 \n",
            " batch_normalization_6 (Batc  (None, 27, 27, 256)      1024      \n",
            " hNormalization)                                                 \n",
            "                                                                 \n",
            " max_pooling2d_4 (MaxPooling  (None, 9, 9, 256)        0         \n",
            " 2D)                                                             \n",
            "                                                                 \n",
            " conv2d_7 (Conv2D)           (None, 9, 9, 256)         590080    \n",
            "                                                                 \n",
            " batch_normalization_7 (Batc  (None, 9, 9, 256)        1024      \n",
            " hNormalization)                                                 \n",
            "                                                                 \n",
            " conv2d_8 (Conv2D)           (None, 9, 9, 256)         65792     \n",
            "                                                                 \n",
            " batch_normalization_8 (Batc  (None, 9, 9, 256)        1024      \n",
            " hNormalization)                                                 \n",
            "                                                                 \n",
            " conv2d_9 (Conv2D)           (None, 9, 9, 256)         65792     \n",
            "                                                                 \n",
            " batch_normalization_9 (Batc  (None, 9, 9, 256)        1024      \n",
            " hNormalization)                                                 \n",
            "                                                                 \n",
            " max_pooling2d_5 (MaxPooling  (None, 4, 4, 256)        0         \n",
            " 2D)                                                             \n",
            "                                                                 \n",
            " flatten_1 (Flatten)         (None, 4096)              0         \n",
            "                                                                 \n",
            " dense_3 (Dense)             (None, 1024)              4195328   \n",
            "                                                                 \n",
            " dropout_2 (Dropout)         (None, 1024)              0         \n",
            "                                                                 \n",
            " dense_4 (Dense)             (None, 1024)              1049600   \n",
            "                                                                 \n",
            " dropout_3 (Dropout)         (None, 1024)              0         \n",
            "                                                                 \n",
            " dense_5 (Dense)             (None, 5)                 5125      \n",
            "                                                                 \n",
            "=================================================================\n",
            "Total params: 6,842,373\n",
            "Trainable params: 6,840,069\n",
            "Non-trainable params: 2,304\n",
            "_________________________________________________________________\n"
          ]
        }
      ]
    },
    {
      "cell_type": "code",
      "source": [
        "'''EarlyStopping para controlar el sobreentrenamiento'''\n",
        "steps_per_epoch = (x_train.shape[0]//batch_size)\n",
        "validation_steps = (x_val.shape[0] // batch_size)\n",
        "\n",
        "es = EarlyStopping(monitor='val_loss', mode='min', verbose=1, patience=20)"
      ],
      "metadata": {
        "id": "USoD3uyiKOGq"
      },
      "execution_count": 19,
      "outputs": []
    },
    {
      "cell_type": "code",
      "source": [
        "'''Entrenamos el modelo '''\n",
        "\n",
        "history_model_1 = model_1.fit(x_train, y_train,\n",
        "    steps_per_epoch=steps_per_epoch,\n",
        "    epochs = 50,\n",
        "    validation_data=(x_val, y_val),\n",
        "    validation_steps=validation_steps,\n",
        "    batch_size = batch_size,\n",
        "    callbacks=[es],\n",
        "    verbose=1)"
      ],
      "metadata": {
        "colab": {
          "base_uri": "https://localhost:8080/"
        },
        "id": "CjMttKCYKTwi",
        "outputId": "09197a2f-9651-4543-8933-518c1dac6944"
      },
      "execution_count": 37,
      "outputs": [
        {
          "output_type": "stream",
          "name": "stdout",
          "text": [
            "Epoch 1/50\n",
            "23/23 [==============================] - 1s 41ms/step - loss: 0.0817 - acc: 0.9810 - val_loss: 0.5218 - val_acc: 0.9062\n",
            "Epoch 2/50\n",
            "23/23 [==============================] - 1s 34ms/step - loss: 0.3938 - acc: 0.9507 - val_loss: 0.4512 - val_acc: 0.8750\n",
            "Epoch 3/50\n",
            "23/23 [==============================] - 1s 34ms/step - loss: 0.1616 - acc: 0.9662 - val_loss: 0.9333 - val_acc: 0.8750\n",
            "Epoch 4/50\n",
            "23/23 [==============================] - 1s 34ms/step - loss: 0.1574 - acc: 0.9704 - val_loss: 0.3563 - val_acc: 0.9375\n",
            "Epoch 5/50\n",
            "23/23 [==============================] - 1s 34ms/step - loss: 0.0649 - acc: 0.9789 - val_loss: 0.4519 - val_acc: 0.9375\n",
            "Epoch 6/50\n",
            "23/23 [==============================] - 1s 33ms/step - loss: 0.1301 - acc: 0.9789 - val_loss: 0.3148 - val_acc: 0.9688\n",
            "Epoch 7/50\n",
            "23/23 [==============================] - 1s 34ms/step - loss: 0.0844 - acc: 0.9831 - val_loss: 0.2188 - val_acc: 0.9375\n",
            "Epoch 8/50\n",
            "23/23 [==============================] - 1s 34ms/step - loss: 0.1110 - acc: 0.9803 - val_loss: 0.6775 - val_acc: 0.8438\n",
            "Epoch 9/50\n",
            "23/23 [==============================] - 1s 34ms/step - loss: 0.1157 - acc: 0.9789 - val_loss: 1.9741 - val_acc: 0.8750\n",
            "Epoch 10/50\n",
            "23/23 [==============================] - 1s 34ms/step - loss: 0.1011 - acc: 0.9803 - val_loss: 0.4920 - val_acc: 0.9688\n",
            "Epoch 11/50\n",
            "23/23 [==============================] - 1s 34ms/step - loss: 0.0501 - acc: 0.9845 - val_loss: 0.1854 - val_acc: 0.9375\n",
            "Epoch 12/50\n",
            "23/23 [==============================] - 1s 33ms/step - loss: 0.0382 - acc: 0.9915 - val_loss: 0.3772 - val_acc: 0.9375\n",
            "Epoch 13/50\n",
            "23/23 [==============================] - 1s 34ms/step - loss: 0.0450 - acc: 0.9887 - val_loss: 1.3019 - val_acc: 0.9375\n",
            "Epoch 14/50\n",
            "23/23 [==============================] - 1s 34ms/step - loss: 0.1031 - acc: 0.9845 - val_loss: 0.6294 - val_acc: 0.9688\n",
            "Epoch 15/50\n",
            "23/23 [==============================] - 1s 34ms/step - loss: 0.0633 - acc: 0.9859 - val_loss: 0.6392 - val_acc: 0.9375\n",
            "Epoch 16/50\n",
            "23/23 [==============================] - 1s 34ms/step - loss: 0.1517 - acc: 0.9845 - val_loss: 0.1749 - val_acc: 0.9688\n",
            "Epoch 17/50\n",
            "23/23 [==============================] - 1s 34ms/step - loss: 0.1609 - acc: 0.9746 - val_loss: 0.2639 - val_acc: 0.9375\n",
            "Epoch 18/50\n",
            "23/23 [==============================] - 1s 34ms/step - loss: 0.1513 - acc: 0.9732 - val_loss: 0.0305 - val_acc: 0.9688\n",
            "Epoch 19/50\n",
            "23/23 [==============================] - 1s 34ms/step - loss: 0.2449 - acc: 0.9676 - val_loss: 0.1238 - val_acc: 0.9688\n",
            "Epoch 20/50\n",
            "23/23 [==============================] - 1s 35ms/step - loss: 0.0377 - acc: 0.9859 - val_loss: 0.1943 - val_acc: 0.9688\n",
            "Epoch 21/50\n",
            "23/23 [==============================] - 1s 34ms/step - loss: 0.1357 - acc: 0.9859 - val_loss: 0.0661 - val_acc: 0.9688\n",
            "Epoch 22/50\n",
            "23/23 [==============================] - 1s 34ms/step - loss: 0.1795 - acc: 0.9789 - val_loss: 0.1112 - val_acc: 0.9375\n",
            "Epoch 23/50\n",
            "23/23 [==============================] - 1s 34ms/step - loss: 0.0840 - acc: 0.9859 - val_loss: 0.2331 - val_acc: 0.9375\n",
            "Epoch 24/50\n",
            "23/23 [==============================] - 1s 34ms/step - loss: 0.0893 - acc: 0.9817 - val_loss: 0.9001 - val_acc: 0.8125\n",
            "Epoch 25/50\n",
            "23/23 [==============================] - 1s 35ms/step - loss: 0.0526 - acc: 0.9891 - val_loss: 0.6116 - val_acc: 0.9062\n",
            "Epoch 26/50\n",
            "23/23 [==============================] - 1s 35ms/step - loss: 0.0072 - acc: 0.9958 - val_loss: 0.4066 - val_acc: 0.9375\n",
            "Epoch 27/50\n",
            "23/23 [==============================] - 1s 34ms/step - loss: 0.0316 - acc: 0.9944 - val_loss: 0.5645 - val_acc: 0.9375\n",
            "Epoch 28/50\n",
            "23/23 [==============================] - 1s 34ms/step - loss: 0.1195 - acc: 0.9845 - val_loss: 0.3493 - val_acc: 0.9375\n",
            "Epoch 29/50\n",
            "23/23 [==============================] - 1s 34ms/step - loss: 0.2029 - acc: 0.9803 - val_loss: 0.5196 - val_acc: 0.9062\n",
            "Epoch 30/50\n",
            "23/23 [==============================] - 1s 33ms/step - loss: 0.2457 - acc: 0.9704 - val_loss: 0.3137 - val_acc: 0.9062\n",
            "Epoch 31/50\n",
            "23/23 [==============================] - 1s 34ms/step - loss: 0.1698 - acc: 0.9761 - val_loss: 0.0015 - val_acc: 1.0000\n",
            "Epoch 32/50\n",
            "23/23 [==============================] - 1s 34ms/step - loss: 0.0955 - acc: 0.9887 - val_loss: 0.0092 - val_acc: 1.0000\n",
            "Epoch 33/50\n",
            "23/23 [==============================] - 1s 33ms/step - loss: 0.1395 - acc: 0.9775 - val_loss: 0.2279 - val_acc: 0.9062\n",
            "Epoch 34/50\n",
            "23/23 [==============================] - 1s 35ms/step - loss: 0.0857 - acc: 0.9859 - val_loss: 0.2912 - val_acc: 0.9062\n",
            "Epoch 35/50\n",
            "23/23 [==============================] - 1s 34ms/step - loss: 0.0767 - acc: 0.9859 - val_loss: 0.3506 - val_acc: 0.9062\n",
            "Epoch 36/50\n",
            "23/23 [==============================] - 1s 34ms/step - loss: 0.0322 - acc: 0.9887 - val_loss: 0.4867 - val_acc: 0.9062\n",
            "Epoch 37/50\n",
            "23/23 [==============================] - 1s 34ms/step - loss: 0.1393 - acc: 0.9915 - val_loss: 0.8615 - val_acc: 0.9375\n",
            "Epoch 38/50\n",
            "23/23 [==============================] - 1s 34ms/step - loss: 0.0640 - acc: 0.9887 - val_loss: 0.2334 - val_acc: 0.9375\n",
            "Epoch 39/50\n",
            "23/23 [==============================] - 1s 34ms/step - loss: 0.1132 - acc: 0.9845 - val_loss: 0.6813 - val_acc: 0.8125\n",
            "Epoch 40/50\n",
            "23/23 [==============================] - 1s 34ms/step - loss: 0.0834 - acc: 0.9873 - val_loss: 0.0871 - val_acc: 0.9688\n",
            "Epoch 41/50\n",
            "23/23 [==============================] - 1s 34ms/step - loss: 0.0827 - acc: 0.9859 - val_loss: 0.0290 - val_acc: 1.0000\n",
            "Epoch 42/50\n",
            "23/23 [==============================] - 1s 34ms/step - loss: 0.0330 - acc: 0.9944 - val_loss: 0.0461 - val_acc: 0.9688\n",
            "Epoch 43/50\n",
            "23/23 [==============================] - 1s 34ms/step - loss: 0.0056 - acc: 0.9958 - val_loss: 0.0574 - val_acc: 0.9688\n",
            "Epoch 44/50\n",
            "23/23 [==============================] - 1s 34ms/step - loss: 0.0081 - acc: 0.9958 - val_loss: 0.2026 - val_acc: 0.9375\n",
            "Epoch 45/50\n",
            "23/23 [==============================] - 1s 34ms/step - loss: 0.0472 - acc: 0.9944 - val_loss: 0.4095 - val_acc: 0.9375\n",
            "Epoch 46/50\n",
            "23/23 [==============================] - 1s 34ms/step - loss: 0.0329 - acc: 0.9930 - val_loss: 0.5041 - val_acc: 0.9375\n",
            "Epoch 47/50\n",
            "23/23 [==============================] - 1s 35ms/step - loss: 0.0546 - acc: 0.9958 - val_loss: 0.5896 - val_acc: 0.9375\n",
            "Epoch 48/50\n",
            "23/23 [==============================] - 1s 34ms/step - loss: 0.0268 - acc: 0.9958 - val_loss: 0.3261 - val_acc: 0.9375\n",
            "Epoch 49/50\n",
            "23/23 [==============================] - 1s 35ms/step - loss: 0.0144 - acc: 0.9986 - val_loss: 0.1280 - val_acc: 0.9688\n",
            "Epoch 50/50\n",
            "23/23 [==============================] - 1s 35ms/step - loss: 0.0016 - acc: 0.9986 - val_loss: 0.1061 - val_acc: 0.9688\n"
          ]
        }
      ]
    },
    {
      "cell_type": "code",
      "source": [
        "'''Evaluamos el modelo'''\n",
        "loss, accuracy = model_1.evaluate(x_test,y_test,batch_size=batch_size)\n",
        "print('test_loss: %.2f' % (loss * 100.0))  \n",
        "print('test_accuracy: %.2f' % (accuracy * 100.0))"
      ],
      "metadata": {
        "colab": {
          "base_uri": "https://localhost:8080/"
        },
        "id": "EmWjY0v7Lpp0",
        "outputId": "9d9bb9ce-6ed5-4459-e121-076fe035f151"
      },
      "execution_count": 38,
      "outputs": [
        {
          "output_type": "stream",
          "name": "stdout",
          "text": [
            "7/7 [==============================] - 0s 17ms/step - loss: 0.2921 - acc: 0.9750\n",
            "test_loss: 29.21\n",
            "test_accuracy: 97.50\n"
          ]
        }
      ]
    },
    {
      "cell_type": "code",
      "source": [
        "\"\"\"Función para las pruebas del modelo\"\"\"\n",
        "model_probs = model_1.predict(x_test,batch_size=batch_size,verbose=0)\n",
        "\"\"\"predecir clases nítidas para el conjunto de prueba\"\"\"\n",
        "model_classes = np.argmax(model_probs,axis=1)\n",
        "\"\"\"reducir a matriz 1d\"\"\"\n",
        "model_probs = model_probs[:, 0]\n",
        "\n",
        "y_test_reduced = np.argmax(y_test,axis=1)\n",
        " \n",
        "\"\"\"Accuracy: (tp + tn) / (p + n)\"\"\"\n",
        "accuracy = accuracy_score(y_test_reduced, model_classes)*100\n",
        "\"\"\"Precision tp / (tp + fp)\"\"\"\n",
        "precision = precision_score(y_test_reduced, model_classes, average='weighted')*100\n",
        "\"\"\"Recall: tp / (tp + fn)\"\"\"\n",
        "recall = recall_score(y_test_reduced, model_classes, average='weighted')*100\n",
        "\"\"\"F1: 2 tp / (2 tp + fp + fn)\"\"\"\n",
        "f1 = f1_score(y_test_reduced, model_classes, average='weighted')*100\n",
        "\n",
        "print('Accuracy: %.2f' % accuracy)\n",
        "print('F1 score: %.2f' % f1)\n",
        "print('Precision: %.2f' % precision)\n",
        "print('Recall: %.2f' % recall)\n",
        "\n",
        "logging.info('Accuracy: %.2f' % accuracy)\n",
        "logging.info('F1 score: %.2f' % f1)\n",
        "logging.info('Precision: %.2f' % precision)\n",
        "logging.info('Recall: %.2f' % recall)"
      ],
      "metadata": {
        "colab": {
          "base_uri": "https://localhost:8080/"
        },
        "id": "zRoQxh6ALtvQ",
        "outputId": "07c19382-acfc-4b99-f00f-7608e8210c92"
      },
      "execution_count": 39,
      "outputs": [
        {
          "output_type": "stream",
          "name": "stdout",
          "text": [
            "Accuracy: 97.50\n",
            "F1 score: 97.50\n",
            "Precision: 97.52\n",
            "Recall: 97.50\n"
          ]
        }
      ]
    },
    {
      "cell_type": "code",
      "source": [
        "\"\"\"Funciones para graficar los history de validacion y el accuracy\"\"\"\n",
        "accuracy = history_model_1.history['acc']\n",
        "validation_accuracy = history_model_1.history['val_acc']\n",
        "epochs = range(len(accuracy))\n",
        "plt.plot(epochs, accuracy, 'r', label='Training accuracy')\n",
        "plt.plot(epochs, validation_accuracy, 'b', label='Validation accuracy')\n",
        "plt.title('Training and validation accuracy')\n",
        "plt.legend(loc=0)\n",
        "plt.savefig(\"Training and validation accuracy\")\n",
        "plt.show()"
      ],
      "metadata": {
        "colab": {
          "base_uri": "https://localhost:8080/",
          "height": 281
        },
        "id": "0SRNxCCWLz_g",
        "outputId": "01d59c50-b170-4157-bebc-153f78d1fe94"
      },
      "execution_count": 40,
      "outputs": [
        {
          "output_type": "display_data",
          "data": {
            "text/plain": [
              "<Figure size 432x288 with 1 Axes>"
            ],
            "image/png": "[encoded data removed]"
          },
          "metadata": {
            "needs_background": "light"
          }
        }
      ]
    },
    {
      "cell_type": "code",
      "source": [
        "'''Loss '''\n",
        "accuracy = history_model_1.history['loss']\n",
        "validation_accuracy = history_model_1.history['val_loss']\n",
        "epochs = range(len(accuracy))\n",
        "'''Primera linea ejecutada en la que se muestran el history del entrenamiento de la loss'''\n",
        "plt.plot(epochs, accuracy, 'r', label='Training loss')\n",
        "'''Segunda linea ejecutada en la que se muestran el history del validacion de la loss'''\n",
        "plt.plot(epochs, validation_accuracy, 'b', label='Validation loss')\n",
        "'''Titulo de la grafica'''\n",
        "plt.title('Training and validation loss')\n",
        "'''colocar leyenda en los ejes'''\n",
        "plt.legend(loc=0)\n",
        "plt.figure()\n",
        "'''Ejecucion de la grafica'''\n",
        "plt.show()"
      ],
      "metadata": {
        "colab": {
          "base_uri": "https://localhost:8080/",
          "height": 298
        },
        "id": "b_42UgjQTTWO",
        "outputId": "d4f5422a-9878-4cd5-8c62-a3406fb81af8"
      },
      "execution_count": 41,
      "outputs": [
        {
          "output_type": "display_data",
          "data": {
            "text/plain": [
              "<Figure size 432x288 with 1 Axes>"
            ],
            "image/png": "[encoded data removed]"
          },
          "metadata": {
            "needs_background": "light"
          }
        },
        {
          "output_type": "display_data",
          "data": {
            "text/plain": [
              "<Figure size 432x288 with 0 Axes>"
            ]
          },
          "metadata": {}
        }
      ]
    },
    {
      "cell_type": "code",
      "source": [
        "\"\"\"Predicción del Modelo\"\"\"\n",
        "y_pred = model_1.predict(x_test)"
      ],
      "metadata": {
        "id": "XjkVdrI8L5FS"
      },
      "execution_count": 42,
      "outputs": []
    },
    {
      "cell_type": "code",
      "source": [
        "\"\"\"Mostrar el array del y_pred\"\"\"\n",
        "y_pred.round()"
      ],
      "metadata": {
        "colab": {
          "base_uri": "https://localhost:8080/"
        },
        "id": "2pCiuFJRMEyK",
        "outputId": "d083a3ed-f2c7-4ce5-d335-95b2d8fd5ee3"
      },
      "execution_count": 43,
      "outputs": [
        {
          "output_type": "execute_result",
          "data": {
            "text/plain": [
              "array([[1., 0., 0., 0., 0.],\n",
              "       [0., 0., 0., 0., 1.],\n",
              "       [0., 0., 1., 0., 0.],\n",
              "       [1., 0., 0., 0., 0.],\n",
              "       [0., 0., 0., 1., 0.],\n",
              "       [0., 0., 0., 1., 0.],\n",
              "       [0., 0., 0., 0., 1.],\n",
              "       [0., 0., 0., 1., 0.],\n",
              "       [0., 0., 1., 0., 0.],\n",
              "       [0., 0., 1., 0., 0.],\n",
              "       [0., 1., 0., 0., 0.],\n",
              "       [0., 1., 0., 0., 0.],\n",
              "       [0., 0., 1., 0., 0.],\n",
              "       [0., 1., 0., 0., 0.],\n",
              "       [0., 0., 0., 0., 1.],\n",
              "       [0., 1., 0., 0., 0.],\n",
              "       [0., 0., 1., 0., 0.],\n",
              "       [0., 0., 0., 1., 0.],\n",
              "       [0., 1., 0., 0., 0.],\n",
              "       [1., 0., 0., 0., 0.],\n",
              "       [0., 0., 1., 0., 0.],\n",
              "       [0., 0., 0., 1., 0.],\n",
              "       [0., 0., 1., 0., 0.],\n",
              "       [0., 1., 0., 0., 0.],\n",
              "       [1., 0., 0., 0., 0.],\n",
              "       [0., 1., 0., 0., 0.],\n",
              "       [0., 0., 1., 0., 0.],\n",
              "       [1., 0., 0., 0., 0.],\n",
              "       [0., 0., 1., 0., 0.],\n",
              "       [0., 0., 0., 1., 0.],\n",
              "       [1., 0., 0., 0., 0.],\n",
              "       [0., 0., 0., 0., 1.],\n",
              "       [0., 0., 0., 0., 1.],\n",
              "       [1., 0., 0., 0., 0.],\n",
              "       [0., 0., 0., 1., 0.],\n",
              "       [0., 0., 0., 0., 1.],\n",
              "       [0., 0., 0., 1., 0.],\n",
              "       [0., 1., 0., 0., 0.],\n",
              "       [1., 0., 0., 0., 0.],\n",
              "       [0., 0., 0., 1., 0.],\n",
              "       [1., 0., 0., 0., 0.],\n",
              "       [0., 0., 0., 0., 1.],\n",
              "       [0., 0., 1., 0., 0.],\n",
              "       [0., 0., 0., 0., 1.],\n",
              "       [0., 0., 0., 0., 1.],\n",
              "       [0., 0., 0., 0., 1.],\n",
              "       [0., 0., 0., 1., 0.],\n",
              "       [0., 1., 0., 0., 0.],\n",
              "       [0., 1., 0., 0., 0.],\n",
              "       [0., 1., 0., 0., 0.],\n",
              "       [0., 0., 0., 0., 1.],\n",
              "       [0., 0., 0., 0., 1.],\n",
              "       [0., 1., 0., 0., 0.],\n",
              "       [0., 0., 0., 1., 0.],\n",
              "       [0., 1., 0., 0., 0.],\n",
              "       [0., 0., 1., 0., 0.],\n",
              "       [0., 0., 1., 0., 0.],\n",
              "       [0., 0., 1., 0., 0.],\n",
              "       [1., 0., 0., 0., 0.],\n",
              "       [1., 0., 0., 0., 0.],\n",
              "       [0., 0., 0., 0., 1.],\n",
              "       [0., 0., 0., 0., 1.],\n",
              "       [1., 0., 0., 0., 0.],\n",
              "       [0., 0., 0., 1., 0.],\n",
              "       [0., 1., 0., 0., 0.],\n",
              "       [0., 0., 1., 0., 0.],\n",
              "       [0., 1., 0., 0., 0.],\n",
              "       [0., 1., 0., 0., 0.],\n",
              "       [0., 0., 1., 0., 0.],\n",
              "       [0., 0., 1., 0., 0.],\n",
              "       [0., 0., 0., 1., 0.],\n",
              "       [1., 0., 0., 0., 0.],\n",
              "       [0., 1., 0., 0., 0.],\n",
              "       [0., 0., 0., 1., 0.],\n",
              "       [0., 0., 0., 1., 0.],\n",
              "       [1., 0., 0., 0., 0.],\n",
              "       [0., 0., 0., 1., 0.],\n",
              "       [0., 0., 0., 1., 0.],\n",
              "       [1., 0., 0., 0., 0.],\n",
              "       [0., 0., 1., 0., 0.],\n",
              "       [1., 0., 0., 0., 0.],\n",
              "       [0., 0., 0., 0., 1.],\n",
              "       [0., 0., 0., 0., 1.],\n",
              "       [0., 0., 0., 1., 0.],\n",
              "       [0., 1., 0., 0., 0.],\n",
              "       [1., 0., 0., 0., 0.],\n",
              "       [0., 1., 0., 0., 0.],\n",
              "       [1., 0., 0., 0., 0.],\n",
              "       [0., 0., 0., 1., 0.],\n",
              "       [0., 0., 1., 0., 0.],\n",
              "       [0., 0., 0., 1., 0.],\n",
              "       [0., 0., 0., 0., 1.],\n",
              "       [0., 0., 0., 1., 0.],\n",
              "       [0., 0., 1., 0., 0.],\n",
              "       [0., 0., 0., 0., 1.],\n",
              "       [0., 0., 1., 0., 0.],\n",
              "       [0., 0., 1., 0., 0.],\n",
              "       [0., 0., 0., 1., 0.],\n",
              "       [0., 1., 0., 0., 0.],\n",
              "       [1., 0., 0., 0., 0.],\n",
              "       [0., 0., 1., 0., 0.],\n",
              "       [1., 0., 0., 0., 0.],\n",
              "       [0., 0., 0., 1., 0.],\n",
              "       [0., 0., 1., 0., 0.],\n",
              "       [0., 1., 0., 0., 0.],\n",
              "       [0., 0., 1., 0., 0.],\n",
              "       [1., 0., 0., 0., 0.],\n",
              "       [0., 0., 0., 1., 0.],\n",
              "       [1., 0., 0., 0., 0.],\n",
              "       [0., 0., 0., 1., 0.],\n",
              "       [0., 0., 0., 1., 0.],\n",
              "       [0., 1., 0., 0., 0.],\n",
              "       [0., 0., 0., 1., 0.],\n",
              "       [0., 0., 0., 0., 1.],\n",
              "       [1., 0., 0., 0., 0.],\n",
              "       [1., 0., 0., 0., 0.],\n",
              "       [0., 0., 0., 1., 0.],\n",
              "       [0., 0., 1., 0., 0.],\n",
              "       [1., 0., 0., 0., 0.],\n",
              "       [0., 0., 0., 1., 0.],\n",
              "       [0., 1., 0., 0., 0.],\n",
              "       [0., 0., 1., 0., 0.],\n",
              "       [1., 0., 0., 0., 0.],\n",
              "       [0., 0., 1., 0., 0.],\n",
              "       [1., 0., 0., 0., 0.],\n",
              "       [1., 0., 0., 0., 0.],\n",
              "       [0., 1., 0., 0., 0.],\n",
              "       [0., 1., 0., 0., 0.],\n",
              "       [0., 0., 0., 1., 0.],\n",
              "       [0., 0., 0., 0., 1.],\n",
              "       [0., 0., 0., 0., 1.],\n",
              "       [1., 0., 0., 0., 0.],\n",
              "       [0., 0., 0., 0., 1.],\n",
              "       [0., 0., 0., 0., 0.],\n",
              "       [0., 0., 0., 0., 1.],\n",
              "       [0., 1., 0., 0., 0.],\n",
              "       [0., 0., 0., 1., 0.],\n",
              "       [1., 0., 0., 0., 0.],\n",
              "       [0., 0., 0., 1., 0.],\n",
              "       [0., 0., 0., 1., 0.],\n",
              "       [0., 0., 0., 1., 0.],\n",
              "       [0., 0., 1., 0., 0.],\n",
              "       [1., 0., 0., 0., 0.],\n",
              "       [0., 0., 0., 1., 0.],\n",
              "       [0., 0., 1., 0., 0.],\n",
              "       [0., 0., 1., 0., 0.],\n",
              "       [0., 1., 0., 0., 0.],\n",
              "       [0., 0., 1., 0., 0.],\n",
              "       [0., 0., 1., 0., 0.],\n",
              "       [0., 0., 0., 0., 1.],\n",
              "       [0., 0., 0., 1., 0.],\n",
              "       [0., 0., 0., 0., 1.],\n",
              "       [1., 0., 0., 0., 0.],\n",
              "       [0., 1., 0., 0., 0.],\n",
              "       [0., 1., 0., 0., 0.],\n",
              "       [0., 0., 0., 0., 1.],\n",
              "       [1., 0., 0., 0., 0.],\n",
              "       [0., 1., 0., 0., 0.],\n",
              "       [0., 0., 1., 0., 0.],\n",
              "       [0., 0., 1., 0., 0.],\n",
              "       [0., 0., 1., 0., 0.],\n",
              "       [1., 0., 0., 0., 0.],\n",
              "       [0., 0., 1., 0., 0.],\n",
              "       [0., 0., 1., 0., 0.],\n",
              "       [0., 1., 0., 0., 0.],\n",
              "       [0., 0., 0., 1., 0.],\n",
              "       [0., 0., 1., 0., 0.],\n",
              "       [0., 0., 0., 1., 0.],\n",
              "       [0., 0., 0., 0., 1.],\n",
              "       [0., 0., 1., 0., 0.],\n",
              "       [0., 0., 1., 0., 0.],\n",
              "       [1., 0., 0., 0., 0.],\n",
              "       [0., 0., 0., 1., 0.],\n",
              "       [0., 0., 1., 0., 0.],\n",
              "       [0., 0., 1., 0., 0.],\n",
              "       [1., 0., 0., 0., 0.],\n",
              "       [0., 1., 0., 0., 0.],\n",
              "       [0., 1., 0., 0., 0.],\n",
              "       [0., 0., 0., 0., 1.],\n",
              "       [0., 0., 0., 0., 1.],\n",
              "       [0., 0., 0., 1., 0.],\n",
              "       [0., 0., 1., 0., 0.],\n",
              "       [0., 0., 0., 0., 1.],\n",
              "       [0., 0., 0., 1., 0.],\n",
              "       [0., 0., 0., 1., 0.],\n",
              "       [0., 0., 0., 1., 0.],\n",
              "       [0., 0., 0., 1., 0.],\n",
              "       [0., 1., 0., 0., 0.],\n",
              "       [0., 0., 1., 0., 0.],\n",
              "       [1., 0., 0., 0., 0.],\n",
              "       [0., 0., 0., 1., 0.],\n",
              "       [0., 1., 0., 0., 0.],\n",
              "       [0., 1., 0., 0., 0.],\n",
              "       [0., 0., 0., 1., 0.],\n",
              "       [1., 0., 0., 0., 0.],\n",
              "       [0., 0., 1., 0., 0.],\n",
              "       [0., 1., 0., 0., 0.],\n",
              "       [0., 0., 1., 0., 0.],\n",
              "       [0., 0., 0., 1., 0.],\n",
              "       [0., 1., 0., 0., 0.]], dtype=float32)"
            ]
          },
          "metadata": {},
          "execution_count": 43
        }
      ]
    },
    {
      "cell_type": "code",
      "source": [
        "'''Puntuación del accuracy'''\n",
        "accuracy_score(y_test, y_pred.round())*100"
      ],
      "metadata": {
        "colab": {
          "base_uri": "https://localhost:8080/"
        },
        "id": "6Y4PeWwyMm60",
        "outputId": "881e948f-ea43-4c65-e25d-ae4ab7718847"
      },
      "execution_count": 44,
      "outputs": [
        {
          "output_type": "execute_result",
          "data": {
            "text/plain": [
              "97.0"
            ]
          },
          "metadata": {},
          "execution_count": 44
        }
      ]
    },
    {
      "cell_type": "code",
      "source": [
        "'''Definimos las variables Y_pred_classes & Y_true'''\n",
        "Y_pred_classes = np.argmax(y_pred,axis = 1) \n",
        "Y_true = np.argmax(y_test,axis = 1) "
      ],
      "metadata": {
        "id": "SEKuGJr8MHTs"
      },
      "execution_count": 45,
      "outputs": []
    },
    {
      "cell_type": "code",
      "source": [
        "\"\"\"Reporte de clasificación de las métricas\"\"\"\n",
        "report = classification_report(Y_true, Y_pred_classes, target_names=categories)\n",
        "print(report)"
      ],
      "metadata": {
        "colab": {
          "base_uri": "https://localhost:8080/"
        },
        "id": "KHmKwd87MUSc",
        "outputId": "dc8780a0-5c7d-427a-86da-5c5c225881b6"
      },
      "execution_count": 46,
      "outputs": [
        {
          "output_type": "stream",
          "name": "stdout",
          "text": [
            "              precision    recall  f1-score   support\n",
            "\n",
            "           u       1.00      0.97      0.99        39\n",
            "           o       0.97      0.95      0.96        40\n",
            "           i       0.98      1.00      0.99        45\n",
            "           a       0.96      0.98      0.97        46\n",
            "           e       0.97      0.97      0.97        30\n",
            "\n",
            "    accuracy                           0.97       200\n",
            "   macro avg       0.98      0.97      0.97       200\n",
            "weighted avg       0.98      0.97      0.97       200\n",
            "\n"
          ]
        }
      ]
    },
    {
      "cell_type": "code",
      "source": [
        "\"\"\"Estructurar la matriz de confusion\"\"\"\n",
        "confusion = confusion_matrix(Y_true,Y_pred_classes)\n",
        "print('Confusion Matrix\\n')\n",
        "print(confusion)"
      ],
      "metadata": {
        "colab": {
          "base_uri": "https://localhost:8080/"
        },
        "id": "Te6gG3GOMeQA",
        "outputId": "5ad43b1c-2c37-498a-b5ac-f85e6a09feb4"
      },
      "execution_count": 47,
      "outputs": [
        {
          "output_type": "stream",
          "name": "stdout",
          "text": [
            "Confusion Matrix\n",
            "\n",
            "[[38  1  0  0  0]\n",
            " [ 0 38  0  2  0]\n",
            " [ 0  0 45  0  0]\n",
            " [ 0  0  0 45  1]\n",
            " [ 0  0  1  0 29]]\n"
          ]
        }
      ]
    },
    {
      "cell_type": "code",
      "source": [
        "\"\"\"Librería para graficar la matriz de confusion\"\"\"\n",
        "import seaborn as sns\n",
        "plt.figure(figsize=(5, 5))\n",
        "\n",
        "ma = sns.heatmap(confusion, cmap=\"YlGnBu\", annot=True)\n",
        "ma.set_title('Confusion Matrix with labels')\n",
        "ma.set_xlabel('Predicted Values')\n",
        "ma.set_ylabel('Actual Values ')\n",
        "ma.xaxis.set_ticklabels(categories)\n",
        "ma.yaxis.set_ticklabels(categories)\n",
        "\n",
        "plt.show()"
      ],
      "metadata": {
        "colab": {
          "base_uri": "https://localhost:8080/",
          "height": 350
        },
        "id": "aE7EvDsuMZy2",
        "outputId": "debead36-fd05-4b4d-8bcd-74497f7fe1d5"
      },
      "execution_count": 48,
      "outputs": [
        {
          "output_type": "display_data",
          "data": {
            "text/plain": [
              "<Figure size 360x360 with 2 Axes>"
            ],
            "image/png": "[encoded data removed]"
          },
          "metadata": {
            "needs_background": "light"
          }
        }
      ]
    },
    {
      "cell_type": "markdown",
      "source": [
        "### Modelo 2"
      ],
      "metadata": {
        "id": "mIDwGdBlMyqV"
      }
    },
    {
      "cell_type": "markdown",
      "source": [
        "#### Regularización L2\n",
        "Reduce el valor de los parámetros para que sean pequeños.\n",
        "\n",
        "\n",
        "kernel_regularizer: Restringe los parámetros del kernel haciendolos que sean pequeños.\n",
        "\n",
        "bias_regularizer: Aplica una penalización solo al bias de la capa.\n",
        "\n",
        "Un sesgo alto hace que la neurona requiera una entrada más alta para generar una salida de 1. Un sesgo bajo lo hace más fácil.\n"
      ],
      "metadata": {
        "id": "Jgtavz7Ej3UP"
      }
    },
    {
      "cell_type": "code",
      "source": [
        "model_2=keras.models.Sequential([\n",
        "    \n",
        "    # Primera capa convolucional\n",
        "    keras.layers.Conv2D(filters=128, kernel_size=(11,11),kernel_regularizer=l2(0.01), bias_regularizer=l2(0.01) , strides=(4,4), activation='relu', input_shape=(x_train[0].shape)), \n",
        "    keras.layers.BatchNormalization(),\n",
        "    keras.layers.MaxPool2D(pool_size=(2,2)),\n",
        "    # Segunda capa convolucional\n",
        "    keras.layers.Conv2D(filters=256, kernel_size=(5,5), kernel_regularizer=l2(0.01), bias_regularizer=l2(0.01), strides=(1,1), activation='relu', padding=\"same\"),\n",
        "    keras.layers.BatchNormalization(),\n",
        "    keras.layers.MaxPool2D(pool_size=(3,3)),\n",
        "    # Tercera capa convolutional\n",
        "    keras.layers.Conv2D(filters=256, kernel_size=(3,3), kernel_regularizer=l2(0.01), bias_regularizer=l2(0.01),strides=(1,1), activation='relu', padding=\"same\"),\n",
        "    keras.layers.BatchNormalization(),\n",
        "    # Cuarta capa convolutional\n",
        "    keras.layers.Conv2D(filters=256, kernel_size=(1,1), kernel_regularizer=l2(0.01), bias_regularizer=l2(0.01),strides=(1,1), activation='relu', padding=\"same\"),\n",
        "    keras.layers.BatchNormalization(),\n",
        "    # Quinta capa convolutional\n",
        "    keras.layers.Conv2D(filters=256, kernel_size=(1,1),kernel_regularizer=l2(0.01), bias_regularizer=l2(0.01), strides=(1,1), activation='relu', padding=\"same\"),\n",
        "    keras.layers.BatchNormalization(),\n",
        "    keras.layers.MaxPool2D(pool_size=(2,2)),\n",
        "    \n",
        "    #Flatten nos ayuda a convertir los datos en un vector de características de 1D para ser utilizado por la siguiente capa que es la capa densa\n",
        "    keras.layers.Flatten(),\n",
        "    #  Las capas Dense son las capas que conectan cada neurona en una capa con todas las salidas de la capa anterior\n",
        "    keras.layers.Dense(1024,kernel_regularizer=l2(0.01), bias_regularizer=l2(0.01),activation='relu'), # Nos permite apagar un porcentaje de neuronas para que no se sobreajuste nuestro modelo\n",
        "    keras.layers.Dropout(0.5),\n",
        "    keras.layers.Dense(1024,kernel_regularizer=l2(0.01), bias_regularizer=l2(0.01),activation='relu'),\n",
        "    keras.layers.Dropout(0.5),\n",
        "    keras.layers.Dense(5,kernel_regularizer=l2(0.01), bias_regularizer=l2(0.01),activation='softmax')  \n",
        "])"
      ],
      "metadata": {
        "id": "P2tM4XMCqoMu"
      },
      "execution_count": 50,
      "outputs": []
    },
    {
      "cell_type": "code",
      "source": [
        "\"\"\"Configuracion para compilar el modelo, tambien se optimiza\"\"\"\n",
        "model_2.compile(optimizer='adam', loss=tf.keras.losses.categorical_crossentropy, metrics=['acc'])"
      ],
      "metadata": {
        "id": "4eNAkLC4NEyL"
      },
      "execution_count": 51,
      "outputs": []
    },
    {
      "cell_type": "code",
      "source": [
        "\"\"\"Resumen del Modelo\"\"\"\n",
        "model_2.summary()"
      ],
      "metadata": {
        "colab": {
          "base_uri": "https://localhost:8080/"
        },
        "id": "L_8KjxWoNLRL",
        "outputId": "db820663-d980-4db6-ad24-c75b2485d4b5"
      },
      "execution_count": 52,
      "outputs": [
        {
          "output_type": "stream",
          "name": "stdout",
          "text": [
            "Model: \"sequential_3\"\n",
            "_________________________________________________________________\n",
            " Layer (type)                Output Shape              Param #   \n",
            "=================================================================\n",
            " conv2d_15 (Conv2D)          (None, 54, 54, 128)       46592     \n",
            "                                                                 \n",
            " batch_normalization_15 (Bat  (None, 54, 54, 128)      512       \n",
            " chNormalization)                                                \n",
            "                                                                 \n",
            " max_pooling2d_9 (MaxPooling  (None, 27, 27, 128)      0         \n",
            " 2D)                                                             \n",
            "                                                                 \n",
            " conv2d_16 (Conv2D)          (None, 27, 27, 256)       819456    \n",
            "                                                                 \n",
            " batch_normalization_16 (Bat  (None, 27, 27, 256)      1024      \n",
            " chNormalization)                                                \n",
            "                                                                 \n",
            " max_pooling2d_10 (MaxPoolin  (None, 9, 9, 256)        0         \n",
            " g2D)                                                            \n",
            "                                                                 \n",
            " conv2d_17 (Conv2D)          (None, 9, 9, 256)         590080    \n",
            "                                                                 \n",
            " batch_normalization_17 (Bat  (None, 9, 9, 256)        1024      \n",
            " chNormalization)                                                \n",
            "                                                                 \n",
            " conv2d_18 (Conv2D)          (None, 9, 9, 256)         65792     \n",
            "                                                                 \n",
            " batch_normalization_18 (Bat  (None, 9, 9, 256)        1024      \n",
            " chNormalization)                                                \n",
            "                                                                 \n",
            " conv2d_19 (Conv2D)          (None, 9, 9, 256)         65792     \n",
            "                                                                 \n",
            " batch_normalization_19 (Bat  (None, 9, 9, 256)        1024      \n",
            " chNormalization)                                                \n",
            "                                                                 \n",
            " max_pooling2d_11 (MaxPoolin  (None, 4, 4, 256)        0         \n",
            " g2D)                                                            \n",
            "                                                                 \n",
            " flatten_3 (Flatten)         (None, 4096)              0         \n",
            "                                                                 \n",
            " dense_9 (Dense)             (None, 1024)              4195328   \n",
            "                                                                 \n",
            " dropout_6 (Dropout)         (None, 1024)              0         \n",
            "                                                                 \n",
            " dense_10 (Dense)            (None, 1024)              1049600   \n",
            "                                                                 \n",
            " dropout_7 (Dropout)         (None, 1024)              0         \n",
            "                                                                 \n",
            " dense_11 (Dense)            (None, 5)                 5125      \n",
            "                                                                 \n",
            "=================================================================\n",
            "Total params: 6,842,373\n",
            "Trainable params: 6,840,069\n",
            "Non-trainable params: 2,304\n",
            "_________________________________________________________________\n"
          ]
        }
      ]
    },
    {
      "cell_type": "code",
      "source": [
        "'''Entrenamos el modelo '''\n",
        "history_model_2 = model_2.fit(x_train, y_train,\n",
        "    steps_per_epoch=steps_per_epoch,\n",
        "    epochs = 50,\n",
        "    validation_data=(x_val, y_val),\n",
        "    validation_steps=validation_steps,\n",
        "    batch_size = batch_size,\n",
        "    callbacks=[es],\n",
        "    verbose=1)"
      ],
      "metadata": {
        "colab": {
          "base_uri": "https://localhost:8080/"
        },
        "id": "SlUEu5-HNRZI",
        "outputId": "812e1101-6d96-4daa-cd0c-03b21188a0fb"
      },
      "execution_count": 66,
      "outputs": [
        {
          "output_type": "stream",
          "name": "stdout",
          "text": [
            "Epoch 1/50\n",
            "23/23 [==============================] - 1s 43ms/step - loss: 1.3766 - acc: 0.9620 - val_loss: 1.5013 - val_acc: 0.9062\n",
            "Epoch 2/50\n",
            "23/23 [==============================] - 1s 36ms/step - loss: 1.1268 - acc: 0.9690 - val_loss: 2.4795 - val_acc: 0.5312\n",
            "Epoch 3/50\n",
            "23/23 [==============================] - 1s 36ms/step - loss: 0.9900 - acc: 0.9620 - val_loss: 3.7532 - val_acc: 0.2812\n",
            "Epoch 4/50\n",
            "23/23 [==============================] - 1s 35ms/step - loss: 0.9053 - acc: 0.9648 - val_loss: 2.9544 - val_acc: 0.3125\n",
            "Epoch 5/50\n",
            "23/23 [==============================] - 1s 35ms/step - loss: 1.0925 - acc: 0.9423 - val_loss: 1.6255 - val_acc: 0.7812\n",
            "Epoch 6/50\n",
            "23/23 [==============================] - 1s 35ms/step - loss: 1.2469 - acc: 0.9338 - val_loss: 1.8775 - val_acc: 0.7188\n",
            "Epoch 7/50\n",
            "23/23 [==============================] - 1s 35ms/step - loss: 1.2638 - acc: 0.9437 - val_loss: 1.4838 - val_acc: 0.8438\n",
            "Epoch 8/50\n",
            "23/23 [==============================] - 1s 35ms/step - loss: 1.1682 - acc: 0.9549 - val_loss: 1.3068 - val_acc: 0.8750\n",
            "Epoch 9/50\n",
            "23/23 [==============================] - 1s 35ms/step - loss: 1.1167 - acc: 0.9521 - val_loss: 1.7386 - val_acc: 0.7812\n",
            "Epoch 10/50\n",
            "23/23 [==============================] - 1s 35ms/step - loss: 1.0826 - acc: 0.9620 - val_loss: 1.6020 - val_acc: 0.7188\n",
            "Epoch 11/50\n",
            "23/23 [==============================] - 1s 35ms/step - loss: 1.1199 - acc: 0.9366 - val_loss: 1.6713 - val_acc: 0.7500\n",
            "Epoch 12/50\n",
            "23/23 [==============================] - 1s 36ms/step - loss: 1.1895 - acc: 0.9577 - val_loss: 1.2885 - val_acc: 0.8750\n",
            "Epoch 13/50\n",
            "23/23 [==============================] - 1s 36ms/step - loss: 1.1919 - acc: 0.9310 - val_loss: 3.3687 - val_acc: 0.3438\n",
            "Epoch 14/50\n",
            "23/23 [==============================] - 1s 36ms/step - loss: 1.5101 - acc: 0.9268 - val_loss: 1.8875 - val_acc: 0.8438\n",
            "Epoch 15/50\n",
            "23/23 [==============================] - 1s 35ms/step - loss: 1.4809 - acc: 0.9141 - val_loss: 1.7022 - val_acc: 0.8125\n",
            "Epoch 16/50\n",
            "23/23 [==============================] - 1s 35ms/step - loss: 1.3900 - acc: 0.9437 - val_loss: 1.6429 - val_acc: 0.9062\n",
            "Epoch 17/50\n",
            "23/23 [==============================] - 1s 36ms/step - loss: 1.4428 - acc: 0.9380 - val_loss: 1.8167 - val_acc: 0.8438\n",
            "Epoch 18/50\n",
            "23/23 [==============================] - 1s 36ms/step - loss: 1.2667 - acc: 0.9549 - val_loss: 1.7499 - val_acc: 0.7812\n",
            "Epoch 19/50\n",
            "23/23 [==============================] - 1s 36ms/step - loss: 1.3813 - acc: 0.9296 - val_loss: 1.8801 - val_acc: 0.8125\n",
            "Epoch 20/50\n",
            "23/23 [==============================] - 1s 36ms/step - loss: 1.3818 - acc: 0.9296 - val_loss: 1.8645 - val_acc: 0.7500\n",
            "Epoch 21/50\n",
            "23/23 [==============================] - 1s 37ms/step - loss: 1.3579 - acc: 0.9535 - val_loss: 1.4033 - val_acc: 0.9062\n",
            "Epoch 22/50\n",
            "23/23 [==============================] - 1s 36ms/step - loss: 1.2129 - acc: 0.9690 - val_loss: 1.3232 - val_acc: 0.9375\n",
            "Epoch 23/50\n",
            "23/23 [==============================] - 1s 35ms/step - loss: 1.1197 - acc: 0.9704 - val_loss: 1.8492 - val_acc: 0.6875\n",
            "Epoch 24/50\n",
            "23/23 [==============================] - 1s 35ms/step - loss: 1.0369 - acc: 0.9676 - val_loss: 1.7464 - val_acc: 0.7188\n",
            "Epoch 25/50\n",
            "23/23 [==============================] - 1s 37ms/step - loss: 1.0434 - acc: 0.9511 - val_loss: 1.3799 - val_acc: 0.8438\n",
            "Epoch 26/50\n",
            "23/23 [==============================] - 1s 37ms/step - loss: 1.1884 - acc: 0.9493 - val_loss: 1.3692 - val_acc: 0.9062\n",
            "Epoch 27/50\n",
            "23/23 [==============================] - 1s 36ms/step - loss: 1.2635 - acc: 0.9408 - val_loss: 1.4097 - val_acc: 0.8750\n",
            "Epoch 28/50\n",
            "23/23 [==============================] - 1s 36ms/step - loss: 1.2357 - acc: 0.9507 - val_loss: 2.2591 - val_acc: 0.6562\n",
            "Epoch 29/50\n",
            "23/23 [==============================] - 1s 35ms/step - loss: 1.1236 - acc: 0.9662 - val_loss: 1.7187 - val_acc: 0.7188\n",
            "Epoch 30/50\n",
            "23/23 [==============================] - 1s 36ms/step - loss: 0.9493 - acc: 0.9676 - val_loss: 1.1654 - val_acc: 0.9062\n",
            "Epoch 31/50\n",
            "23/23 [==============================] - 1s 35ms/step - loss: 0.9329 - acc: 0.9577 - val_loss: 1.6492 - val_acc: 0.7188\n",
            "Epoch 32/50\n",
            "23/23 [==============================] - 1s 36ms/step - loss: 1.0560 - acc: 0.9577 - val_loss: 1.3764 - val_acc: 0.8125\n",
            "Epoch 33/50\n",
            "23/23 [==============================] - 1s 36ms/step - loss: 0.9566 - acc: 0.9789 - val_loss: 1.0727 - val_acc: 0.8438\n",
            "Epoch 34/50\n",
            "23/23 [==============================] - 1s 35ms/step - loss: 0.7962 - acc: 0.9859 - val_loss: 1.0801 - val_acc: 0.9062\n",
            "Epoch 35/50\n",
            "23/23 [==============================] - 1s 36ms/step - loss: 0.7964 - acc: 0.9549 - val_loss: 1.4128 - val_acc: 0.7188\n",
            "Epoch 36/50\n",
            "23/23 [==============================] - 1s 35ms/step - loss: 0.8981 - acc: 0.9634 - val_loss: 1.0998 - val_acc: 0.9688\n",
            "Epoch 37/50\n",
            "23/23 [==============================] - 1s 36ms/step - loss: 0.9073 - acc: 0.9592 - val_loss: 1.2357 - val_acc: 0.8750\n",
            "Epoch 38/50\n",
            "23/23 [==============================] - 1s 36ms/step - loss: 0.9136 - acc: 0.9563 - val_loss: 1.0024 - val_acc: 0.9062\n",
            "Epoch 39/50\n",
            "23/23 [==============================] - 1s 35ms/step - loss: 0.9611 - acc: 0.9535 - val_loss: 1.4952 - val_acc: 0.7500\n",
            "Epoch 40/50\n",
            "23/23 [==============================] - 1s 35ms/step - loss: 1.3223 - acc: 0.9239 - val_loss: 4.2920 - val_acc: 0.5000\n",
            "Epoch 41/50\n",
            "23/23 [==============================] - 1s 35ms/step - loss: 1.5234 - acc: 0.9141 - val_loss: 2.5969 - val_acc: 0.6250\n",
            "Epoch 42/50\n",
            "23/23 [==============================] - 1s 35ms/step - loss: 1.5481 - acc: 0.9310 - val_loss: 1.7998 - val_acc: 0.8125\n",
            "Epoch 43/50\n",
            "23/23 [==============================] - 1s 36ms/step - loss: 1.2445 - acc: 0.9620 - val_loss: 1.7871 - val_acc: 0.8125\n",
            "Epoch 44/50\n",
            "23/23 [==============================] - 1s 35ms/step - loss: 0.9851 - acc: 0.9718 - val_loss: 1.5593 - val_acc: 0.7500\n",
            "Epoch 45/50\n",
            "23/23 [==============================] - 1s 35ms/step - loss: 0.9537 - acc: 0.9549 - val_loss: 1.8351 - val_acc: 0.6562\n",
            "Epoch 46/50\n",
            "23/23 [==============================] - 1s 36ms/step - loss: 1.0825 - acc: 0.9310 - val_loss: 1.2999 - val_acc: 0.8125\n",
            "Epoch 47/50\n",
            "23/23 [==============================] - 1s 35ms/step - loss: 0.9289 - acc: 0.9746 - val_loss: 1.8355 - val_acc: 0.6875\n",
            "Epoch 48/50\n",
            "23/23 [==============================] - 1s 35ms/step - loss: 0.8903 - acc: 0.9521 - val_loss: 1.1358 - val_acc: 0.8750\n",
            "Epoch 49/50\n",
            "23/23 [==============================] - 1s 36ms/step - loss: 0.9474 - acc: 0.9579 - val_loss: 1.2475 - val_acc: 0.9062\n",
            "Epoch 50/50\n",
            "23/23 [==============================] - 1s 36ms/step - loss: 0.9464 - acc: 0.9676 - val_loss: 1.6830 - val_acc: 0.8125\n"
          ]
        }
      ]
    },
    {
      "cell_type": "code",
      "source": [
        "'''Evaluamos el modelo'''\n",
        "loss, accuracy = model_2.evaluate(x_test,y_test,batch_size=batch_size)\n",
        "print('test_loss: %.2f' % (loss * 100.0))  \n",
        "print('test_accuracy: %.2f' % (accuracy * 100.0))"
      ],
      "metadata": {
        "colab": {
          "base_uri": "https://localhost:8080/"
        },
        "id": "j5cxns_qNwMS",
        "outputId": "d76fbcd9-4176-452e-fa68-9f99514b90b0"
      },
      "execution_count": 67,
      "outputs": [
        {
          "output_type": "stream",
          "name": "stdout",
          "text": [
            "7/7 [==============================] - 0s 19ms/step - loss: 1.5164 - acc: 0.7650\n",
            "test_loss: 151.64\n",
            "test_accuracy: 76.50\n"
          ]
        }
      ]
    },
    {
      "cell_type": "code",
      "source": [
        "\"\"\"Función para las pruebas del modelo\"\"\"\n",
        "model_probs = model_2.predict(x_test,batch_size=batch_size,verbose=0)\n",
        "\"\"\"predecir clases nítidas para el conjunto de prueba\"\"\"\n",
        "model_classes = np.argmax(model_probs,axis=1)\n",
        "\"\"\"reducir a matriz 1d\"\"\"\n",
        "model_probs = model_probs[:, 0]\n",
        "\n",
        "y_test_reduced = np.argmax(y_test,axis=1)\n",
        " \n",
        "\"\"\"Accuracy: (tp + tn) / (p + n)\"\"\"\n",
        "accuracy = accuracy_score(y_test_reduced, model_classes)*100\n",
        "\"\"\"Precision tp / (tp + fp)\"\"\"\n",
        "precision = precision_score(y_test_reduced, model_classes, average='weighted')*100\n",
        "\"\"\"Recall: tp / (tp + fn)\"\"\"\n",
        "recall = recall_score(y_test_reduced, model_classes, average='weighted')*100\n",
        "\"\"\"F1: 2 tp / (2 tp + fp + fn)\"\"\"\n",
        "f1 = f1_score(y_test_reduced, model_classes, average='weighted')*100\n",
        "\n",
        "print('Accuracy: %.2f' % accuracy)\n",
        "print('F1 score: %.2f' % f1)\n",
        "print('Precision: %.2f' % precision)\n",
        "print('Recall: %.2f' % recall)\n",
        "\n",
        "logging.info('Accuracy: %.2f' % accuracy)\n",
        "logging.info('F1 score: %.2f' % f1)\n",
        "logging.info('Precision: %.2f' % precision)\n",
        "logging.info('Recall: %.2f' % recall)"
      ],
      "metadata": {
        "colab": {
          "base_uri": "https://localhost:8080/"
        },
        "id": "89GUVwvhO-MF",
        "outputId": "af985b73-f53e-4a9f-ab16-959cec7f4738"
      },
      "execution_count": 68,
      "outputs": [
        {
          "output_type": "stream",
          "name": "stdout",
          "text": [
            "Accuracy: 76.50\n",
            "F1 score: 76.59\n",
            "Precision: 80.30\n",
            "Recall: 76.50\n"
          ]
        }
      ]
    },
    {
      "cell_type": "code",
      "source": [
        "\"\"\"Funciones para graficar los history de validacion y el accuracy\"\"\"\n",
        "accuracy = history_model_2.history['acc']\n",
        "validation_accuracy = history_model_2.history['val_acc']\n",
        "epochs = range(len(accuracy))\n",
        "plt.plot(epochs, accuracy, 'r', label='Training accuracy')\n",
        "plt.plot(epochs, validation_accuracy, 'b', label='Validation accuracy')\n",
        "plt.title('Training and validation accuracy')\n",
        "plt.legend(loc=0)\n",
        "plt.savefig(\"Training and validation accuracy\")\n",
        "plt.show()"
      ],
      "metadata": {
        "colab": {
          "base_uri": "https://localhost:8080/",
          "height": 281
        },
        "id": "v13W7DiEPIZD",
        "outputId": "65cc0d43-30db-48c7-c379-1f49013f592e"
      },
      "execution_count": 69,
      "outputs": [
        {
          "output_type": "display_data",
          "data": {
            "text/plain": [
              "<Figure size 432x288 with 1 Axes>"
            ],
            "image/png": "[encoded data removed]"
          },
          "metadata": {
            "needs_background": "light"
          }
        }
      ]
    },
    {
      "cell_type": "code",
      "source": [
        "'''Loss '''\n",
        "accuracy = history_model_2.history['loss']\n",
        "validation_accuracy = history_model_2.history['val_loss']\n",
        "epochs = range(len(accuracy))\n",
        "'''Primera linea ejecutada en la que se muestran el history del entrenamiento de la loss'''\n",
        "plt.plot(epochs, accuracy, 'r', label='Training loss')\n",
        "'''Segunda linea ejecutada en la que se muestran el history del validacion de la loss'''\n",
        "plt.plot(epochs, validation_accuracy, 'b', label='Validation loss')\n",
        "'''Titulo de la grafica'''\n",
        "plt.title('Training and validation loss')\n",
        "'''colocar leyenda en los ejes'''\n",
        "plt.legend(loc=0)\n",
        "plt.figure()\n",
        "'''Ejecucion de la grafica'''\n",
        "plt.show()"
      ],
      "metadata": {
        "colab": {
          "base_uri": "https://localhost:8080/",
          "height": 298
        },
        "id": "icLK1KTFTdyY",
        "outputId": "6d2927d6-6a6e-49c4-d818-583569438cab"
      },
      "execution_count": 70,
      "outputs": [
        {
          "output_type": "display_data",
          "data": {
            "text/plain": [
              "<Figure size 432x288 with 1 Axes>"
            ],
            "image/png": "[encoded data removed]"
          },
          "metadata": {
            "needs_background": "light"
          }
        },
        {
          "output_type": "display_data",
          "data": {
            "text/plain": [
              "<Figure size 432x288 with 0 Axes>"
            ]
          },
          "metadata": {}
        }
      ]
    },
    {
      "cell_type": "code",
      "source": [
        "\"\"\"Predicción del Modelo\"\"\"\n",
        "y_pred = model_2.predict(x_test)"
      ],
      "metadata": {
        "id": "JI5GoJn4PMAR"
      },
      "execution_count": 71,
      "outputs": []
    },
    {
      "cell_type": "code",
      "source": [
        "\"\"\"Mostrar el array del y_pred\"\"\"\n",
        "y_pred.round()"
      ],
      "metadata": {
        "colab": {
          "base_uri": "https://localhost:8080/"
        },
        "id": "ZJnAEj0UPPtQ",
        "outputId": "37662c4a-5a67-4c17-f11f-7e65790e0031"
      },
      "execution_count": 72,
      "outputs": [
        {
          "output_type": "execute_result",
          "data": {
            "text/plain": [
              "array([[1., 0., 0., 0., 0.],\n",
              "       [0., 0., 0., 0., 1.],\n",
              "       [0., 0., 0., 1., 0.],\n",
              "       [0., 0., 1., 0., 0.],\n",
              "       [0., 0., 0., 1., 0.],\n",
              "       [0., 0., 0., 1., 0.],\n",
              "       [0., 0., 0., 0., 1.],\n",
              "       [0., 0., 0., 1., 0.],\n",
              "       [0., 0., 1., 0., 0.],\n",
              "       [0., 0., 1., 0., 0.],\n",
              "       [0., 1., 0., 0., 0.],\n",
              "       [0., 1., 0., 0., 0.],\n",
              "       [0., 0., 0., 0., 1.],\n",
              "       [0., 1., 0., 0., 0.],\n",
              "       [0., 0., 0., 0., 1.],\n",
              "       [0., 1., 0., 0., 0.],\n",
              "       [0., 0., 1., 0., 0.],\n",
              "       [0., 0., 0., 0., 1.],\n",
              "       [0., 1., 0., 0., 0.],\n",
              "       [1., 0., 0., 0., 0.],\n",
              "       [0., 0., 0., 0., 1.],\n",
              "       [0., 0., 0., 1., 0.],\n",
              "       [0., 0., 1., 0., 0.],\n",
              "       [0., 1., 0., 0., 0.],\n",
              "       [1., 0., 0., 0., 0.],\n",
              "       [0., 1., 0., 0., 0.],\n",
              "       [0., 0., 1., 0., 0.],\n",
              "       [0., 0., 1., 0., 0.],\n",
              "       [0., 0., 1., 0., 0.],\n",
              "       [0., 0., 0., 1., 0.],\n",
              "       [1., 0., 0., 0., 0.],\n",
              "       [0., 0., 0., 0., 1.],\n",
              "       [0., 0., 0., 0., 1.],\n",
              "       [1., 0., 0., 0., 0.],\n",
              "       [0., 0., 0., 1., 0.],\n",
              "       [0., 0., 0., 0., 1.],\n",
              "       [0., 0., 0., 1., 0.],\n",
              "       [0., 0., 0., 0., 0.],\n",
              "       [0., 0., 1., 0., 0.],\n",
              "       [0., 0., 0., 1., 0.],\n",
              "       [0., 0., 0., 0., 0.],\n",
              "       [0., 0., 0., 0., 1.],\n",
              "       [0., 0., 1., 0., 0.],\n",
              "       [0., 0., 0., 0., 1.],\n",
              "       [0., 0., 0., 0., 1.],\n",
              "       [0., 0., 0., 0., 1.],\n",
              "       [0., 0., 0., 1., 0.],\n",
              "       [0., 1., 0., 0., 0.],\n",
              "       [0., 1., 0., 0., 0.],\n",
              "       [0., 1., 0., 0., 0.],\n",
              "       [0., 0., 0., 0., 1.],\n",
              "       [0., 0., 0., 0., 1.],\n",
              "       [0., 1., 0., 0., 0.],\n",
              "       [0., 0., 0., 1., 0.],\n",
              "       [0., 1., 0., 0., 0.],\n",
              "       [0., 0., 0., 0., 0.],\n",
              "       [0., 0., 1., 0., 0.],\n",
              "       [0., 0., 1., 0., 0.],\n",
              "       [1., 0., 0., 0., 0.],\n",
              "       [0., 0., 0., 0., 1.],\n",
              "       [0., 0., 0., 1., 0.],\n",
              "       [0., 0., 0., 0., 1.],\n",
              "       [0., 0., 1., 0., 0.],\n",
              "       [0., 0., 0., 1., 0.],\n",
              "       [1., 0., 0., 0., 0.],\n",
              "       [0., 0., 0., 0., 1.],\n",
              "       [0., 1., 0., 0., 0.],\n",
              "       [0., 1., 0., 0., 0.],\n",
              "       [0., 0., 1., 0., 0.],\n",
              "       [0., 0., 1., 0., 0.],\n",
              "       [0., 0., 0., 1., 0.],\n",
              "       [1., 0., 0., 0., 0.],\n",
              "       [0., 1., 0., 0., 0.],\n",
              "       [0., 1., 0., 0., 0.],\n",
              "       [0., 0., 0., 0., 1.],\n",
              "       [1., 0., 0., 0., 0.],\n",
              "       [0., 0., 0., 1., 0.],\n",
              "       [0., 0., 0., 1., 0.],\n",
              "       [0., 0., 0., 0., 0.],\n",
              "       [0., 0., 1., 0., 0.],\n",
              "       [1., 0., 0., 0., 0.],\n",
              "       [0., 0., 0., 0., 1.],\n",
              "       [1., 0., 0., 0., 0.],\n",
              "       [0., 0., 0., 1., 0.],\n",
              "       [0., 1., 0., 0., 0.],\n",
              "       [0., 0., 1., 0., 0.],\n",
              "       [0., 1., 0., 0., 0.],\n",
              "       [0., 0., 0., 0., 0.],\n",
              "       [0., 0., 0., 1., 0.],\n",
              "       [0., 0., 0., 0., 0.],\n",
              "       [0., 0., 0., 1., 0.],\n",
              "       [0., 0., 0., 0., 1.],\n",
              "       [0., 0., 0., 1., 0.],\n",
              "       [0., 0., 0., 1., 0.],\n",
              "       [0., 0., 0., 0., 1.],\n",
              "       [0., 0., 1., 0., 0.],\n",
              "       [0., 0., 1., 0., 0.],\n",
              "       [0., 0., 0., 1., 0.],\n",
              "       [0., 1., 0., 0., 0.],\n",
              "       [1., 0., 0., 0., 0.],\n",
              "       [0., 0., 1., 0., 0.],\n",
              "       [0., 0., 0., 0., 0.],\n",
              "       [0., 0., 0., 1., 0.],\n",
              "       [0., 0., 1., 0., 0.],\n",
              "       [0., 1., 0., 0., 0.],\n",
              "       [0., 0., 1., 0., 0.],\n",
              "       [1., 0., 0., 0., 0.],\n",
              "       [0., 0., 0., 1., 0.],\n",
              "       [0., 0., 0., 0., 1.],\n",
              "       [0., 0., 0., 0., 1.],\n",
              "       [0., 0., 0., 0., 1.],\n",
              "       [0., 0., 1., 0., 0.],\n",
              "       [0., 0., 0., 0., 1.],\n",
              "       [0., 0., 0., 0., 0.],\n",
              "       [1., 0., 0., 0., 0.],\n",
              "       [1., 0., 0., 0., 0.],\n",
              "       [0., 0., 0., 1., 0.],\n",
              "       [0., 0., 1., 0., 0.],\n",
              "       [1., 0., 0., 0., 0.],\n",
              "       [0., 0., 0., 0., 1.],\n",
              "       [0., 0., 1., 0., 0.],\n",
              "       [0., 0., 1., 0., 0.],\n",
              "       [0., 0., 0., 0., 0.],\n",
              "       [0., 0., 1., 0., 0.],\n",
              "       [1., 0., 0., 0., 0.],\n",
              "       [0., 0., 0., 0., 1.],\n",
              "       [0., 1., 0., 0., 0.],\n",
              "       [0., 0., 0., 0., 0.],\n",
              "       [0., 0., 0., 1., 0.],\n",
              "       [0., 0., 0., 0., 1.],\n",
              "       [0., 0., 0., 0., 1.],\n",
              "       [1., 0., 0., 0., 0.],\n",
              "       [0., 0., 0., 0., 1.],\n",
              "       [0., 1., 0., 0., 0.],\n",
              "       [0., 0., 0., 1., 0.],\n",
              "       [0., 1., 0., 0., 0.],\n",
              "       [0., 0., 0., 1., 0.],\n",
              "       [1., 0., 0., 0., 0.],\n",
              "       [0., 0., 0., 1., 0.],\n",
              "       [0., 0., 0., 1., 0.],\n",
              "       [0., 0., 0., 1., 0.],\n",
              "       [0., 0., 0., 0., 1.],\n",
              "       [1., 0., 0., 0., 0.],\n",
              "       [0., 0., 0., 1., 0.],\n",
              "       [0., 0., 1., 0., 0.],\n",
              "       [0., 0., 1., 0., 0.],\n",
              "       [0., 1., 0., 0., 0.],\n",
              "       [0., 0., 1., 0., 0.],\n",
              "       [0., 0., 1., 0., 0.],\n",
              "       [0., 0., 0., 0., 0.],\n",
              "       [0., 0., 0., 0., 1.],\n",
              "       [0., 0., 0., 0., 1.],\n",
              "       [1., 0., 0., 0., 0.],\n",
              "       [0., 1., 0., 0., 0.],\n",
              "       [0., 1., 0., 0., 0.],\n",
              "       [0., 0., 0., 0., 1.],\n",
              "       [0., 1., 0., 0., 0.],\n",
              "       [0., 1., 0., 0., 0.],\n",
              "       [0., 0., 1., 0., 0.],\n",
              "       [0., 0., 0., 0., 1.],\n",
              "       [0., 0., 1., 0., 0.],\n",
              "       [0., 1., 0., 0., 0.],\n",
              "       [0., 0., 0., 1., 0.],\n",
              "       [0., 0., 0., 0., 0.],\n",
              "       [0., 1., 0., 0., 0.],\n",
              "       [0., 0., 0., 0., 0.],\n",
              "       [0., 0., 1., 0., 0.],\n",
              "       [0., 0., 0., 1., 0.],\n",
              "       [0., 0., 0., 0., 1.],\n",
              "       [0., 0., 1., 0., 0.],\n",
              "       [0., 0., 1., 0., 0.],\n",
              "       [0., 0., 1., 0., 0.],\n",
              "       [0., 0., 0., 1., 0.],\n",
              "       [0., 0., 1., 0., 0.],\n",
              "       [0., 0., 1., 0., 0.],\n",
              "       [0., 0., 0., 0., 1.],\n",
              "       [0., 1., 0., 0., 0.],\n",
              "       [0., 1., 0., 0., 0.],\n",
              "       [0., 0., 0., 0., 1.],\n",
              "       [0., 0., 0., 0., 1.],\n",
              "       [0., 0., 0., 1., 0.],\n",
              "       [0., 0., 1., 0., 0.],\n",
              "       [0., 0., 0., 0., 1.],\n",
              "       [0., 0., 0., 1., 0.],\n",
              "       [0., 0., 0., 1., 0.],\n",
              "       [0., 0., 0., 1., 0.],\n",
              "       [0., 0., 0., 0., 1.],\n",
              "       [0., 1., 0., 0., 0.],\n",
              "       [0., 0., 1., 0., 0.],\n",
              "       [0., 0., 0., 0., 0.],\n",
              "       [0., 0., 0., 1., 0.],\n",
              "       [0., 1., 0., 0., 0.],\n",
              "       [0., 1., 0., 0., 0.],\n",
              "       [0., 0., 0., 1., 0.],\n",
              "       [0., 0., 1., 0., 0.],\n",
              "       [0., 0., 0., 1., 0.],\n",
              "       [0., 1., 0., 0., 0.],\n",
              "       [0., 0., 1., 0., 0.],\n",
              "       [0., 0., 0., 1., 0.],\n",
              "       [0., 1., 0., 0., 0.]], dtype=float32)"
            ]
          },
          "metadata": {},
          "execution_count": 72
        }
      ]
    },
    {
      "cell_type": "code",
      "source": [
        "'''Puntuación del accuracy'''\n",
        "accuracy_score(y_test, y_pred.round())*100"
      ],
      "metadata": {
        "colab": {
          "base_uri": "https://localhost:8080/"
        },
        "id": "oRwX0CpUPVLG",
        "outputId": "6921e6b4-98e1-4a9d-d83d-ae8e0cb69793"
      },
      "execution_count": 73,
      "outputs": [
        {
          "output_type": "execute_result",
          "data": {
            "text/plain": [
              "75.5"
            ]
          },
          "metadata": {},
          "execution_count": 73
        }
      ]
    },
    {
      "cell_type": "code",
      "source": [
        "'''Definimos las variables Y_pred_classes & Y_true'''\n",
        "Y_pred_classes = np.argmax(y_pred,axis = 1) \n",
        "Y_true = np.argmax(y_test,axis = 1) "
      ],
      "metadata": {
        "id": "zkFe4pGhPcmL"
      },
      "execution_count": 74,
      "outputs": []
    },
    {
      "cell_type": "code",
      "source": [
        "'''Realizaos el reporte de clasificación que obtuno nuestor modelo de acuerdo a cada vocal'''\n",
        "report = classification_report(Y_true, Y_pred_classes, target_names=categories)\n",
        "print(report)"
      ],
      "metadata": {
        "colab": {
          "base_uri": "https://localhost:8080/"
        },
        "id": "iaAy5LjlPe95",
        "outputId": "09047ac9-65a1-4b23-f761-6fd226f08454"
      },
      "execution_count": 75,
      "outputs": [
        {
          "output_type": "stream",
          "name": "stdout",
          "text": [
            "              precision    recall  f1-score   support\n",
            "\n",
            "           u       0.95      0.51      0.67        39\n",
            "           o       0.90      0.90      0.90        40\n",
            "           i       0.73      0.78      0.75        45\n",
            "           a       0.84      0.80      0.82        46\n",
            "           e       0.53      0.83      0.65        30\n",
            "\n",
            "    accuracy                           0.77       200\n",
            "   macro avg       0.79      0.77      0.76       200\n",
            "weighted avg       0.80      0.77      0.77       200\n",
            "\n"
          ]
        }
      ]
    },
    {
      "cell_type": "code",
      "source": [
        "'''Matriz de cunfusión'''\n",
        "confusion_model2 = confusion_matrix(Y_true,Y_pred_classes)\n",
        "print('Confusion Matrix\\n')\n",
        "print(confusion)"
      ],
      "metadata": {
        "colab": {
          "base_uri": "https://localhost:8080/"
        },
        "id": "oJTl0r7IPh0P",
        "outputId": "f5580dda-f522-48a2-8123-ee52c44c04d0"
      },
      "execution_count": 76,
      "outputs": [
        {
          "output_type": "stream",
          "name": "stdout",
          "text": [
            "Confusion Matrix\n",
            "\n",
            "[[38  1  0  0  0]\n",
            " [ 0 38  0  2  0]\n",
            " [ 0  0 45  0  0]\n",
            " [ 0  0  0 45  1]\n",
            " [ 0  0  1  0 29]]\n"
          ]
        }
      ]
    },
    {
      "cell_type": "code",
      "source": [
        "'''Gráfica de la matriz de confusión'''\n",
        "plt.figure(figsize=(5, 5))\n",
        "ma = sns.heatmap(confusion_model2, cmap=\"YlGnBu\", annot=True)\n",
        "ma.set_title('Confusion Matrix with labels')\n",
        "ma.set_xlabel('Predicted Values')\n",
        "ma.set_ylabel('Actual Values ')\n",
        "ma.xaxis.set_ticklabels(categories)\n",
        "ma.yaxis.set_ticklabels(categories)\n",
        "\n",
        "plt.show()"
      ],
      "metadata": {
        "colab": {
          "base_uri": "https://localhost:8080/",
          "height": 350
        },
        "id": "3AV2sBiiPk7N",
        "outputId": "0536eee5-1eff-44d3-9542-85a1f61b8246"
      },
      "execution_count": 77,
      "outputs": [
        {
          "output_type": "display_data",
          "data": {
            "text/plain": [
              "<Figure size 360x360 with 2 Axes>"
            ],
            "image/png": "[encoded data removed]"
          },
          "metadata": {
            "needs_background": "light"
          }
        }
      ]
    },
    {
      "cell_type": "code",
      "source": [
        "model_json = model_1.to_json()\n",
        "with open(\"AlexNet_Vocales_Classifier.json\", \"w\") as json_file:\n",
        "    json_file.write(model_json)\n",
        "model_1.save(\"AlexNet_Vocales_Classifier.h5\")\n",
        "print(\"Saved model to disk\")\n",
        "model_1.save_weights(\"AlexNet_Vocales.h5\")"
      ],
      "metadata": {
        "id": "8fvfpAwQXZxU",
        "colab": {
          "base_uri": "https://localhost:8080/"
        },
        "outputId": "8e9d0f1e-c3dd-4a12-bcb0-6375198b28b0"
      },
      "execution_count": 79,
      "outputs": [
        {
          "output_type": "stream",
          "name": "stdout",
          "text": [
            "Saved model to disk\n"
          ]
        }
      ]
    },
    {
      "cell_type": "code",
      "source": [
        "model_json = model_2.to_json()\n",
        "with open(\"AlexNet_L1L2_Vocales_Classifier.json\", \"w\") as json_file:\n",
        "    json_file.write(model_json)\n",
        "model_2.save(\"AlexNet_L1L2_Vocales_Classifier.h5\")\n",
        "print(\"Saved model to disk\")\n",
        "model_2.save_weights(\"AlexNet_L1L2_Vocales.h5\")"
      ],
      "metadata": {
        "colab": {
          "base_uri": "https://localhost:8080/"
        },
        "id": "zOlrJgODlbrY",
        "outputId": "27b5ece0-1621-4ba9-83b5-450fd9b1f111"
      },
      "execution_count": 80,
      "outputs": [
        {
          "output_type": "stream",
          "name": "stdout",
          "text": [
            "Saved model to disk\n"
          ]
        }
      ]
    }
  ]
}