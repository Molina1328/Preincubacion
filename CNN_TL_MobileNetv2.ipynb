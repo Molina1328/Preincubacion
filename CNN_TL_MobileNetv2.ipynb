{
  "cells": [
    {
      "cell_type": "markdown",
      "id": "fa884e9f",
      "metadata": {
        "id": "fa884e9f"
      },
      "source": [
        " <h1><center> <font color='green'>CNN-TL_MobileNetv2\n",
        " </font></center></h1> "
      ]
    },
    {
      "cell_type": "markdown",
      "id": "921c34a6",
      "metadata": {
        "id": "921c34a6"
      },
      "source": [
        " <h1><center> <font color='blue'>Librerías</font></center></h1>"
      ]
    },
    {
      "cell_type": "code",
      "execution_count": 2,
      "id": "7ef55a12",
      "metadata": {
        "id": "7ef55a12"
      },
      "outputs": [],
      "source": [
        "\"\"\"Importar librerias para realizar CNN\"\"\"\n",
        "import os\n",
        "\"\"\"Cargar las imagenes\"\"\"\n",
        "import cv2\n",
        "from PIL import Image\n",
        "\"\"\"Tensoflow para las redes neuronales\"\"\"\n",
        "import tensorflow as tf\n",
        "from tensorflow.keras.models import load_model\n",
        "from tensorflow.keras.utils import to_categorical\n",
        "from tensorflow.keras.optimizers import Adam, RMSprop\n",
        "from tensorflow.keras.callbacks import ReduceLROnPlateau\n",
        "from tensorflow.keras.preprocessing.image import ImageDataGenerator, img_to_array\n",
        "from tensorflow.keras.callbacks import EarlyStopping\n",
        "\"\"\"Librería para calculo numerico\"\"\"\n",
        "import numpy as np\n",
        "\"\"\"Libreria para graficas\"\"\"\n",
        "import matplotlib.pyplot as plt\n",
        "\"\"\"Importa para dividir el conjunto de datos en entrenamiento y prueba\"\"\"\n",
        "from sklearn.model_selection import train_test_split\n",
        "\"\"\"Librería que que ofrece metricas\"\"\"\n",
        "from sklearn.metrics import accuracy_score, precision_score, recall_score, f1_score\n",
        "\"\"\"Importa datos de señales de registro de archivos de ejecuciones\n",
        "de simulación disponibles para la aplicación en tiempo real seleccionadas\"\"\"\n",
        "import time\n",
        "import math\n",
        "import logging"
      ]
    },
    {
      "cell_type": "markdown",
      "id": "6f8f97ea",
      "metadata": {
        "id": "6f8f97ea"
      },
      "source": [
        "<h1><center> <font color='orange'>Carga y exploración de datos</font></center></h1> "
      ]
    },
    {
      "cell_type": "code",
      "execution_count": 3,
      "id": "e93ec98c",
      "metadata": {
        "id": "e93ec98c"
      },
      "outputs": [],
      "source": [
        "\"\"\"Definición del tamaño, array de las imagenes\"\"\"\n",
        "IMG_SHAPE  = 224\n",
        "batch_size = 32\n",
        "random_seed = 9"
      ]
    },
    {
      "cell_type": "code",
      "source": [
        "from google.colab import drive\n",
        "drive.mount('/content/drive')"
      ],
      "metadata": {
        "colab": {
          "base_uri": "https://localhost:8080/"
        },
        "id": "CDgH0aDYUB5G",
        "outputId": "ccec6b52-606b-48ae-8fcc-911db8e218aa"
      },
      "id": "CDgH0aDYUB5G",
      "execution_count": 3,
      "outputs": [
        {
          "output_type": "stream",
          "name": "stdout",
          "text": [
            "Mounted at /content/drive\n"
          ]
        }
      ]
    },
    {
      "cell_type": "code",
      "execution_count": 4,
      "id": "77fffd77",
      "metadata": {
        "colab": {
          "base_uri": "https://localhost:8080/"
        },
        "id": "77fffd77",
        "outputId": "23e8c0a1-e557-4bb1-e39c-c1242a801ee1"
      },
      "outputs": [
        {
          "output_type": "stream",
          "name": "stdout",
          "text": [
            "Lista de categorias =  ['u', 'o', 'i', 'a', 'e'] \n",
            "\n",
            "No. de categorias =  5\n"
          ]
        }
      ],
      "source": [
        "fpath = '/content/drive/MyDrive/Mineria/Vocales1BRG'\n",
        "categories = os.listdir(fpath)\n",
        "print(\"Lista de categorias = \",categories,\"\\n\\nNo. de categorias = \", len(categories))"
      ]
    },
    {
      "cell_type": "code",
      "execution_count": 5,
      "id": "4ee87ce8",
      "metadata": {
        "colab": {
          "base_uri": "https://localhost:8080/"
        },
        "id": "4ee87ce8",
        "outputId": "9a271cdc-b293-4a92-9564-45fb6a56a5e1"
      },
      "outputs": [
        {
          "output_type": "stream",
          "name": "stdout",
          "text": [
            "Nº de imágenes cargadas =  1000 \n",
            "No. de etiquetas cargadas =  1000\n",
            "<class 'list'> <class 'list'>\n"
          ]
        }
      ],
      "source": [
        "\"\"\"Funcion para cargar las imagenes por categorias\"\"\"\n",
        "def load_images_and_labels(categories):\n",
        "    img_lst=[]\n",
        "    labels=[]\n",
        "    for index, category in enumerate(categories):\n",
        "        for image_name in os.listdir(fpath+\"/\"+category):\n",
        "            img = cv2.imread(fpath+\"/\"+category+\"/\"+image_name)\n",
        "            img = cv2.cvtColor(img, cv2.COLOR_BGR2RGB)\n",
        "            img = cv2.resize(img, (IMG_SHAPE, IMG_SHAPE))\n",
        "            img_array = Image.fromarray(img, 'RGB')\n",
        "\n",
        "            img_lst.append(np.array(img_array))\n",
        "\n",
        "            labels.append(index)\n",
        "    return img_lst, labels\n",
        "\"\"\"Cargar las imagenes desde las categorias\"\"\"\n",
        "images, labels = load_images_and_labels(categories)\n",
        "\"\"\"Mostrar la cantidad de imagenes cargadas\"\"\"\n",
        "print(\"Nº de imágenes cargadas = \",len(images),\"\\nNo. de etiquetas cargadas = \",len(labels))\n",
        "print(type(images),type(labels))"
      ]
    },
    {
      "cell_type": "code",
      "execution_count": 6,
      "id": "37edc62e",
      "metadata": {
        "colab": {
          "base_uri": "https://localhost:8080/"
        },
        "id": "37edc62e",
        "outputId": "f2dc5b89-58a0-4320-a3cb-e03b4948f498"
      },
      "outputs": [
        {
          "output_type": "stream",
          "name": "stdout",
          "text": [
            "Images shape =  (1000, 224, 224, 3) \n",
            "Labels shape =  (1000,)\n",
            "<class 'numpy.ndarray'> <class 'numpy.ndarray'>\n"
          ]
        }
      ],
      "source": [
        "\"\"\"Variables para ver el array de las imagenes y los label\"\"\"\n",
        "images = np.array(images)\n",
        "labels = np.array(labels)\n",
        "\n",
        "print(\"Images shape = \",images.shape,\"\\nLabels shape = \",labels.shape)\n",
        "print(type(images),type(labels))"
      ]
    },
    {
      "cell_type": "code",
      "execution_count": 7,
      "id": "f013ca3d",
      "metadata": {
        "colab": {
          "base_uri": "https://localhost:8080/",
          "height": 594
        },
        "id": "f013ca3d",
        "outputId": "f34d94e0-2cae-44ab-dba0-a2ee5a15eace",
        "scrolled": true
      },
      "outputs": [
        {
          "output_type": "display_data",
          "data": {
            "text/plain": [
              "<Figure size 1368x720 with 9 Axes>"
            ],
            "image/png": "[encoded data removed]"
          },
          "metadata": {}
        }
      ],
      "source": [
        "\"\"\"Función para visualizar imagenes aleatorias \"\"\"\n",
        "def display_rand_images(images, labels):\n",
        "    plt.figure(1 , figsize = (19 , 10))\n",
        "    n = 0 \n",
        "    for i in range(9):\n",
        "        n += 1 \n",
        "        r = np.random.randint(0 , images.shape[0] , 1)\n",
        "        \n",
        "        plt.subplot(3 , 3 , n)\n",
        "        plt.subplots_adjust(hspace = 0.3 , wspace = 0.3)\n",
        "        plt.imshow(images[r[0]])\n",
        "        \n",
        " \n",
        "        plt.title('Vocales: {}'.format(labels[r[0]]))\n",
        "        plt.xticks([])\n",
        "        plt.yticks([])\n",
        "        \n",
        "    plt.show()\n",
        "\"\"\"Mostrar imagenes con sus labels\"\"\"\n",
        "display_rand_images(images, labels)"
      ]
    },
    {
      "cell_type": "markdown",
      "id": "6a25e8d9",
      "metadata": {
        "id": "6a25e8d9"
      },
      "source": [
        "<h1><center> <font color='brow'>Definición del conjunto de datos para pruebas y entrenamiento</font></center></h1>"
      ]
    },
    {
      "cell_type": "code",
      "execution_count": 8,
      "id": "21aeb03d",
      "metadata": {
        "colab": {
          "base_uri": "https://localhost:8080/"
        },
        "id": "21aeb03d",
        "outputId": "9770b45c-767d-4b23-d0a4-69b6b0e754af"
      },
      "outputs": [
        {
          "output_type": "stream",
          "name": "stdout",
          "text": [
            "'n' values before shuffling =  [  0   1   2   3   4   5   6   7   8   9  10  11  12  13  14  15  16  17\n",
            "  18  19  20  21  22  23  24  25  26  27  28  29  30  31  32  33  34  35\n",
            "  36  37  38  39  40  41  42  43  44  45  46  47  48  49  50  51  52  53\n",
            "  54  55  56  57  58  59  60  61  62  63  64  65  66  67  68  69  70  71\n",
            "  72  73  74  75  76  77  78  79  80  81  82  83  84  85  86  87  88  89\n",
            "  90  91  92  93  94  95  96  97  98  99 100 101 102 103 104 105 106 107\n",
            " 108 109 110 111 112 113 114 115 116 117 118 119 120 121 122 123 124 125\n",
            " 126 127 128 129 130 131 132 133 134 135 136 137 138 139 140 141 142 143\n",
            " 144 145 146 147 148 149 150 151 152 153 154 155 156 157 158 159 160 161\n",
            " 162 163 164 165 166 167 168 169 170 171 172 173 174 175 176 177 178 179\n",
            " 180 181 182 183 184 185 186 187 188 189 190 191 192 193 194 195 196 197\n",
            " 198 199 200 201 202 203 204 205 206 207 208 209 210 211 212 213 214 215\n",
            " 216 217 218 219 220 221 222 223 224 225 226 227 228 229 230 231 232 233\n",
            " 234 235 236 237 238 239 240 241 242 243 244 245 246 247 248 249 250 251\n",
            " 252 253 254 255 256 257 258 259 260 261 262 263 264 265 266 267 268 269\n",
            " 270 271 272 273 274 275 276 277 278 279 280 281 282 283 284 285 286 287\n",
            " 288 289 290 291 292 293 294 295 296 297 298 299 300 301 302 303 304 305\n",
            " 306 307 308 309 310 311 312 313 314 315 316 317 318 319 320 321 322 323\n",
            " 324 325 326 327 328 329 330 331 332 333 334 335 336 337 338 339 340 341\n",
            " 342 343 344 345 346 347 348 349 350 351 352 353 354 355 356 357 358 359\n",
            " 360 361 362 363 364 365 366 367 368 369 370 371 372 373 374 375 376 377\n",
            " 378 379 380 381 382 383 384 385 386 387 388 389 390 391 392 393 394 395\n",
            " 396 397 398 399 400 401 402 403 404 405 406 407 408 409 410 411 412 413\n",
            " 414 415 416 417 418 419 420 421 422 423 424 425 426 427 428 429 430 431\n",
            " 432 433 434 435 436 437 438 439 440 441 442 443 444 445 446 447 448 449\n",
            " 450 451 452 453 454 455 456 457 458 459 460 461 462 463 464 465 466 467\n",
            " 468 469 470 471 472 473 474 475 476 477 478 479 480 481 482 483 484 485\n",
            " 486 487 488 489 490 491 492 493 494 495 496 497 498 499 500 501 502 503\n",
            " 504 505 506 507 508 509 510 511 512 513 514 515 516 517 518 519 520 521\n",
            " 522 523 524 525 526 527 528 529 530 531 532 533 534 535 536 537 538 539\n",
            " 540 541 542 543 544 545 546 547 548 549 550 551 552 553 554 555 556 557\n",
            " 558 559 560 561 562 563 564 565 566 567 568 569 570 571 572 573 574 575\n",
            " 576 577 578 579 580 581 582 583 584 585 586 587 588 589 590 591 592 593\n",
            " 594 595 596 597 598 599 600 601 602 603 604 605 606 607 608 609 610 611\n",
            " 612 613 614 615 616 617 618 619 620 621 622 623 624 625 626 627 628 629\n",
            " 630 631 632 633 634 635 636 637 638 639 640 641 642 643 644 645 646 647\n",
            " 648 649 650 651 652 653 654 655 656 657 658 659 660 661 662 663 664 665\n",
            " 666 667 668 669 670 671 672 673 674 675 676 677 678 679 680 681 682 683\n",
            " 684 685 686 687 688 689 690 691 692 693 694 695 696 697 698 699 700 701\n",
            " 702 703 704 705 706 707 708 709 710 711 712 713 714 715 716 717 718 719\n",
            " 720 721 722 723 724 725 726 727 728 729 730 731 732 733 734 735 736 737\n",
            " 738 739 740 741 742 743 744 745 746 747 748 749 750 751 752 753 754 755\n",
            " 756 757 758 759 760 761 762 763 764 765 766 767 768 769 770 771 772 773\n",
            " 774 775 776 777 778 779 780 781 782 783 784 785 786 787 788 789 790 791\n",
            " 792 793 794 795 796 797 798 799 800 801 802 803 804 805 806 807 808 809\n",
            " 810 811 812 813 814 815 816 817 818 819 820 821 822 823 824 825 826 827\n",
            " 828 829 830 831 832 833 834 835 836 837 838 839 840 841 842 843 844 845\n",
            " 846 847 848 849 850 851 852 853 854 855 856 857 858 859 860 861 862 863\n",
            " 864 865 866 867 868 869 870 871 872 873 874 875 876 877 878 879 880 881\n",
            " 882 883 884 885 886 887 888 889 890 891 892 893 894 895 896 897 898 899\n",
            " 900 901 902 903 904 905 906 907 908 909 910 911 912 913 914 915 916 917\n",
            " 918 919 920 921 922 923 924 925 926 927 928 929 930 931 932 933 934 935\n",
            " 936 937 938 939 940 941 942 943 944 945 946 947 948 949 950 951 952 953\n",
            " 954 955 956 957 958 959 960 961 962 963 964 965 966 967 968 969 970 971\n",
            " 972 973 974 975 976 977 978 979 980 981 982 983 984 985 986 987 988 989\n",
            " 990 991 992 993 994 995 996 997 998 999]\n",
            "\n",
            "'n' values after shuffling =  [  2 879  57 496 611  45 200 665 603 299 213  65 450 128  98 856 148 697\n",
            "  10 916 514 834 249 504 580 255 369 376 132 316 994 712 723 280 558 767\n",
            " 520 451 768 604 761 421 393 343 840 799 120 346 999 912 826 116 345 666\n",
            " 563 736 996 548 527 304 968 164 794 309 542 269 841 807 429 862  72 572\n",
            " 608 844 267 962 462 193 857 600 584 251 650 884 793 482 914 311 330 246\n",
            "  62 489  40 495 398 111 344  55 917 759 211  16 564  91 342 122 724 781\n",
            " 519 259 284 453  39 889 103  18 985 124 408 237 628 586 560  24 533 644\n",
            " 845 748 380  44  30 569 412 602  60 906 300  77  17 729 228  54 335 704\n",
            "  68 325 334 744 444 944  32 609 279  47 576 843 764 865 370 811 921 934\n",
            " 660 804 976 706 189 143 675 989 657 150 437 716 562 771 765 410 635 655\n",
            " 210 372 159 362 945 509 673 445 923 551 911  27  81 735 295 987 441 684\n",
            " 582 503 981 829 634  97 836 621 322 672 141 612 692 446 607 352 461 848\n",
            " 170 529 662 409 837 281 913 787 825 109 782 990 713 271 707 648 130 647\n",
            " 927 878 199 658 561 506  25  99 613   4 888  41 425 106  80 471   3 815\n",
            " 901 152 977 324 146 745  90 627 194 851 494 785 788  37  87 618 590 550\n",
            " 131 900 254 368 546 323 363 196 449  34 191  14  21 606 774 872 780 801\n",
            " 874  89 591 831 957 287   6 100 961 181 283 480 775 975 895 337  11 679\n",
            " 192 176 321 743 828  70 777 174 498 448 742 953 415 887 433 819 418  20\n",
            " 958 583 835 814 935 854 730 954 907 257 294 151 750 784 367 384 221 705\n",
            " 351 813 594 288 327 757 570 721  94  71 926 260 258 178 126 740 641 394\n",
            " 795 459 732 964 616 578 920 112 983 478 466 195 485 997 454 392 197 184\n",
            " 715 439 678 949 383 464 265 218 458 373 165 821 411 145 289 525 690 868\n",
            "  88 277 880 574 476 948  42 173 107 252 134 359  50 233 268 402 993  36\n",
            " 397 273 543 681 789 341 875 969 431 313 414  51 903 180 365 442 493 947\n",
            " 223 589 687 614  38 649 699 379 123 256 661 855 512 207 490 792 565 863\n",
            " 838 396  73 250 728 755 741  13 910 941 668 544 798 597 930 518 861 568\n",
            " 517 175 475 754 671 822 479 308 138 516  63 567 601 185  84 422 147 783\n",
            " 691 231 499 922 361 535 502 302 908 406 139  74 166 487 932 216 119 390\n",
            " 227 155 593 827 297 639 549 674 579 317 427 276 802 816  26 114 651 885\n",
            " 766 160 349 215 955 105 559 538 719 967 329  93 846  28 847 387 331 292\n",
            " 645 530  83 474 460  95 212 428 556  15 677 171 756  23 424 617 581 566\n",
            " 747 693 167 881 488 270 758 899 869 709 336  76 905 595  75 592 140 110\n",
            " 235 931 307 378   9 800 702 749  31 356 423 456 364 689 217 610 770 101\n",
            " 554 615 220 731  69 172 432 149 236 481 670 385 951 893 340 803 127 776\n",
            " 701 805 858 636 588 389  53 229  35 667 622 314   7 537 683 318 310 686\n",
            " 301 404 708 852 532 995 521  86 942  61 452 511 630 188 162 242 700 531\n",
            " 915 357 867 806  96 244 113 886 988 426 769 817 416 966 823 163 391 796\n",
            " 791 286 505 264 282 943 293 206 232 909 753 919 400 978 839 157 940 654\n",
            " 491 866 832 339 726 377 401 447 883 156 386 179 664 663  78 652 890 904\n",
            " 779  92 694 319 643 484 695 198 104 524 711 620 982 850 438 936 133 118\n",
            " 646 541 407 937   5 278 680 315 115 734 587 820 849 333 208 718 585   8\n",
            " 222 557 468 262 539 515 528 239 553 894 272 984 457 419 810  79 676  59\n",
            " 773 430 202 183 320 177 897 605 168 201  82 998 158  85 703 153 154 642\n",
            " 405 633 991 522 598 547 946 725 381 540 746 303 117 619 710 637 508 738\n",
            " 971 353  29 435 523 142 891 833 285 737  67 778 483 338 375 298 248 812\n",
            " 263 473 305  19 818 121 545 136  43 714 596 965 625 963 555 938 973 902\n",
            " 877 871 226 470 291 698 623  33 685   0 135 465 808 358 925 974 225 326\n",
            " 513 190 960 797 860 243 266 786 873  48 204 102  66 809  22 959 463 510\n",
            " 332 350 752 253 727 467 853 656 864 469 882 161 374 599 876 870  64 420\n",
            " 722 859 669 203 526 624 824 898 929 992 224 209 688 924 497 306 682 169\n",
            " 659 366 573 354 939 413 230  46 500 240 399 626 247 455 205 371 108 219\n",
            " 290   1 328 507 928 552 403 536 261 751 388 144 440 842 640 186  52 355\n",
            " 245 772 986 434 790 575 182 492 979 717 980  58 443 653 360  49 312 720\n",
            " 137 631 486 275 933 395 739 972 129 696 214 274  12 632 892 234 830 477\n",
            " 952 970 472 187 238 956 896 733 417 347 629 760 241 762 296 571 436 534\n",
            " 577 125 918 763  56 950 501 638 348 382]\n"
          ]
        }
      ],
      "source": [
        "\"\"\"Primero se reorganizan los datos\"\"\"\n",
        "\n",
        "\"\"\"Obtener números igualmente espaciados en un rango dado\"\"\"\n",
        "n = np.arange(images.shape[0])\n",
        "print(\"'n' values before shuffling = \",n)\n",
        "\n",
        "\"\"\"Mezclar todos los valores igualmente espaciados en la lista 'n'\"\"\"\n",
        "np.random.seed(random_seed)\n",
        "np.random.shuffle(n)\n",
        "print(\"\\n'n' values after shuffling = \",n)"
      ]
    },
    {
      "cell_type": "markdown",
      "id": "c5e3f93d",
      "metadata": {
        "id": "c5e3f93d"
      },
      "source": [
        "### Shuffling"
      ]
    },
    {
      "cell_type": "code",
      "execution_count": 9,
      "id": "95eaefed",
      "metadata": {
        "colab": {
          "base_uri": "https://localhost:8080/"
        },
        "id": "95eaefed",
        "outputId": "2b8d8fc0-977e-4bb2-af2e-05becc3e6fe9"
      },
      "outputs": [
        {
          "output_type": "stream",
          "name": "stdout",
          "text": [
            "Forma de las imágenes después de la mezcla =  (1000, 224, 224, 3) \n",
            "Forma de las etiquetas después de mezclar=  (1000,)\n"
          ]
        }
      ],
      "source": [
        "\"\"\"El segundo paso es la mezcla de datos\"\"\"\n",
        "\n",
        "\"\"\"imágenes aleatorias y datos de etiquetas correspondientes en ambas listas\"\"\"\n",
        "images = images[n]\n",
        "labels = labels[n]\n",
        "\n",
        "print(\"Forma de las imágenes después de la mezcla = \",images.shape,\"\\nForma de las etiquetas después de mezclar= \",labels.shape)"
      ]
    },
    {
      "cell_type": "markdown",
      "id": "44becc74",
      "metadata": {
        "id": "44becc74"
      },
      "source": [
        "### Normalización"
      ]
    },
    {
      "cell_type": "code",
      "execution_count": 10,
      "id": "ca3671b7",
      "metadata": {
        "colab": {
          "base_uri": "https://localhost:8080/"
        },
        "id": "ca3671b7",
        "outputId": "4a76fd4b-f81f-4870-825f-da0b4b158b28"
      },
      "outputs": [
        {
          "output_type": "stream",
          "name": "stdout",
          "text": [
            "Forma de las imágenes después de la normalización =  (1000, 224, 224, 3)\n"
          ]
        }
      ],
      "source": [
        "\"\"\"Normalizacion de los datos, segun su tipo: float, int\"\"\"\n",
        "images = images.astype(np.float32)\n",
        "labels = labels.astype(np.int32)\n",
        "images = images/255\n",
        "print(\"Forma de las imágenes después de la normalización = \",images.shape)"
      ]
    },
    {
      "cell_type": "markdown",
      "id": "aa13ed93",
      "metadata": {
        "id": "aa13ed93"
      },
      "source": [
        "# Training and Testing"
      ]
    },
    {
      "cell_type": "code",
      "execution_count": 11,
      "id": "b45e51e8",
      "metadata": {
        "colab": {
          "base_uri": "https://localhost:8080/"
        },
        "id": "b45e51e8",
        "outputId": "58f834cc-3351-44a5-bb4b-fb8219bd64f8"
      },
      "outputs": [
        {
          "output_type": "stream",
          "name": "stdout",
          "text": [
            "x_train shape =  (742, 224, 224, 3)\n",
            "y_train shape =  (742,)\n",
            "\n",
            "x_test shape =  (200, 224, 224, 3)\n",
            "y_test shape =  (200,)\n",
            "\n",
            "x_val shape =  (58, 224, 224, 3)\n",
            "y_val shape =  (58,)\n"
          ]
        }
      ],
      "source": [
        "'''Se divide el conjunto de datos en 80% para entrenamiento y 20% para prueba'''\n",
        "x_train, x_test, y_train, y_test = train_test_split(images, labels, test_size = 0.2, random_state = random_seed)\n",
        "\n",
        "x_val = x_train[:58]\n",
        "y_val = y_train[:58]\n",
        "x_train = x_train[58:]\n",
        "y_train = y_train[58:]\n",
        "\n",
        "\"\"\"Mostrar los array en cada parte del entrenamiento y la prueba\"\"\"\n",
        "\n",
        "print(\"x_train shape = \",x_train.shape)\n",
        "print(\"y_train shape = \",y_train.shape)\n",
        "print(\"\\nx_test shape = \",x_test.shape)\n",
        "print(\"y_test shape = \",y_test.shape)\n",
        "\n",
        "print(\"\\nx_val shape = \",x_val.shape)\n",
        "print(\"y_val shape = \",y_val.shape)"
      ]
    },
    {
      "cell_type": "code",
      "execution_count": 12,
      "id": "1931e52e",
      "metadata": {
        "id": "1931e52e"
      },
      "outputs": [],
      "source": [
        "\"\"\"Estructura One-hot-encode\"\"\"\n",
        "y_train = to_categorical(y_train, 5)\n",
        "y_test = to_categorical(y_test, 5)\n",
        "y_val = to_categorical(y_val, 5)"
      ]
    },
    {
      "cell_type": "markdown",
      "id": "891f12cc",
      "metadata": {
        "id": "891f12cc"
      },
      "source": [
        "\n",
        " <h1><center> <font color='purple'>Implementación del modelo CNN con MobileNetV2</font></center></h1> "
      ]
    },
    {
      "cell_type": "code",
      "execution_count": 13,
      "id": "1aef6e83",
      "metadata": {
        "id": "1aef6e83"
      },
      "outputs": [],
      "source": [
        "\"\"\"Función para el pre-entrenamiento del modelo, con MobileNetV2\"\"\"\n",
        "pre_trained_model = tf.keras.applications.MobileNetV2(input_shape=x_train[0].shape, include_top=False, weights=\"imagenet\")\n"
      ]
    },
    {
      "cell_type": "code",
      "execution_count": 14,
      "id": "VLS_GzbPe0vC",
      "metadata": {
        "colab": {
          "base_uri": "https://localhost:8080/"
        },
        "id": "VLS_GzbPe0vC",
        "outputId": "bb1e6ed6-20ea-4302-995b-0b4b41ce698b"
      },
      "outputs": [
        {
          "output_type": "stream",
          "name": "stdout",
          "text": [
            "input_1\n",
            "Conv1\n",
            "bn_Conv1\n",
            "Conv1_relu\n",
            "expanded_conv_depthwise\n",
            "expanded_conv_depthwise_BN\n",
            "expanded_conv_depthwise_relu\n",
            "expanded_conv_project\n",
            "expanded_conv_project_BN\n",
            "block_1_expand\n",
            "block_1_expand_BN\n",
            "block_1_expand_relu\n",
            "block_1_pad\n",
            "block_1_depthwise\n",
            "block_1_depthwise_BN\n",
            "block_1_depthwise_relu\n",
            "block_1_project\n",
            "block_1_project_BN\n",
            "block_2_expand\n",
            "block_2_expand_BN\n",
            "block_2_expand_relu\n",
            "block_2_depthwise\n",
            "block_2_depthwise_BN\n",
            "block_2_depthwise_relu\n",
            "block_2_project\n",
            "block_2_project_BN\n",
            "block_2_add\n",
            "block_3_expand\n",
            "block_3_expand_BN\n",
            "block_3_expand_relu\n",
            "block_3_pad\n",
            "block_3_depthwise\n",
            "block_3_depthwise_BN\n",
            "block_3_depthwise_relu\n",
            "block_3_project\n",
            "block_3_project_BN\n",
            "block_4_expand\n",
            "block_4_expand_BN\n",
            "block_4_expand_relu\n",
            "block_4_depthwise\n",
            "block_4_depthwise_BN\n",
            "block_4_depthwise_relu\n",
            "block_4_project\n",
            "block_4_project_BN\n",
            "block_4_add\n",
            "block_5_expand\n",
            "block_5_expand_BN\n",
            "block_5_expand_relu\n",
            "block_5_depthwise\n",
            "block_5_depthwise_BN\n",
            "block_5_depthwise_relu\n",
            "block_5_project\n",
            "block_5_project_BN\n",
            "block_5_add\n",
            "block_6_expand\n",
            "block_6_expand_BN\n",
            "block_6_expand_relu\n",
            "block_6_pad\n",
            "block_6_depthwise\n",
            "block_6_depthwise_BN\n",
            "block_6_depthwise_relu\n",
            "block_6_project\n",
            "block_6_project_BN\n",
            "block_7_expand\n",
            "block_7_expand_BN\n",
            "block_7_expand_relu\n",
            "block_7_depthwise\n",
            "block_7_depthwise_BN\n",
            "block_7_depthwise_relu\n",
            "block_7_project\n",
            "block_7_project_BN\n",
            "block_7_add\n",
            "block_8_expand\n",
            "block_8_expand_BN\n",
            "block_8_expand_relu\n",
            "block_8_depthwise\n",
            "block_8_depthwise_BN\n",
            "block_8_depthwise_relu\n",
            "block_8_project\n",
            "block_8_project_BN\n",
            "block_8_add\n",
            "block_9_expand\n",
            "block_9_expand_BN\n",
            "block_9_expand_relu\n",
            "block_9_depthwise\n",
            "block_9_depthwise_BN\n",
            "block_9_depthwise_relu\n",
            "block_9_project\n",
            "block_9_project_BN\n",
            "block_9_add\n",
            "block_10_expand\n",
            "block_10_expand_BN\n",
            "block_10_expand_relu\n",
            "block_10_depthwise\n",
            "block_10_depthwise_BN\n",
            "block_10_depthwise_relu\n",
            "block_10_project\n",
            "block_10_project_BN\n",
            "block_11_expand\n",
            "block_11_expand_BN\n",
            "block_11_expand_relu\n",
            "block_11_depthwise\n",
            "block_11_depthwise_BN\n",
            "block_11_depthwise_relu\n",
            "block_11_project\n",
            "block_11_project_BN\n",
            "block_11_add\n",
            "block_12_expand\n",
            "block_12_expand_BN\n",
            "block_12_expand_relu\n",
            "block_12_depthwise\n",
            "block_12_depthwise_BN\n",
            "block_12_depthwise_relu\n",
            "block_12_project\n",
            "block_12_project_BN\n",
            "block_12_add\n",
            "block_13_expand\n",
            "block_13_expand_BN\n",
            "block_13_expand_relu\n",
            "block_13_pad\n",
            "block_13_depthwise\n",
            "block_13_depthwise_BN\n",
            "block_13_depthwise_relu\n",
            "block_13_project\n",
            "block_13_project_BN\n",
            "block_14_expand\n",
            "block_14_expand_BN\n",
            "block_14_expand_relu\n",
            "block_14_depthwise\n",
            "block_14_depthwise_BN\n",
            "block_14_depthwise_relu\n",
            "block_14_project\n",
            "block_14_project_BN\n",
            "block_14_add\n",
            "block_15_expand\n",
            "block_15_expand_BN\n",
            "block_15_expand_relu\n",
            "block_15_depthwise\n",
            "block_15_depthwise_BN\n",
            "block_15_depthwise_relu\n",
            "block_15_project\n",
            "block_15_project_BN\n",
            "block_15_add\n",
            "block_16_expand\n",
            "block_16_expand_BN\n",
            "block_16_expand_relu\n",
            "block_16_depthwise\n",
            "block_16_depthwise_BN\n",
            "block_16_depthwise_relu\n",
            "block_16_project\n",
            "block_16_project_BN\n",
            "Conv_1\n",
            "Conv_1_bn\n",
            "out_relu\n"
          ]
        }
      ],
      "source": [
        "\"\"\"Pre-entrenar el modelo por capas\"\"\"\n",
        "for layer in pre_trained_model.layers:\n",
        "    print(layer.name)\n",
        "    layer.trainable = False"
      ]
    },
    {
      "cell_type": "code",
      "execution_count": 15,
      "id": "43711f83",
      "metadata": {
        "id": "43711f83"
      },
      "outputs": [],
      "source": [
        "\"\"\"Configuracion de la ultima capa y la capa de salida\"\"\"\n",
        "last_layer = pre_trained_model.get_layer('out_relu')\n",
        "last_output = last_layer.output\n",
        "x = tf.keras.layers.GlobalMaxPooling2D()(last_output)\n",
        "x = tf.keras.layers.GlobalMaxPooling2D()(last_output)\n",
        "\n",
        "\n",
        "x = tf.keras.layers.Dense(units= 784, activation='relu')(x)\n",
        "x = tf.keras.layers.Dense(units= 784, activation='relu')(x)\n",
        "x = tf.keras.layers.BatchNormalization()(x)\n",
        "x = tf.keras.layers.Dropout(0.4)(x)\n",
        "\n",
        "x = tf.keras.layers.Dense(units= 784, activation='relu')(x)\n",
        "x = tf.keras.layers.Dense(units= 784, activation='relu')(x)\n",
        "x = tf.keras.layers.BatchNormalization()(x)\n",
        "x = tf.keras.layers.Dropout(0.4)(x)\n",
        "\n",
        "\n",
        "x = tf.keras.layers.Dense(5, activation='softmax')(x)\n",
        "model = tf.keras.Model(pre_trained_model.input, x)"
      ]
    },
    {
      "cell_type": "markdown",
      "id": "6b94f5bb",
      "metadata": {
        "id": "6b94f5bb"
      },
      "source": [
        "# Entrenamiento del Modelo"
      ]
    },
    {
      "cell_type": "code",
      "execution_count": 16,
      "id": "8bc5ab13",
      "metadata": {
        "id": "8bc5ab13"
      },
      "outputs": [],
      "source": [
        "\"\"\"Configuracion para compilar el modelo, tambien se optimiza\"\"\"\n",
        "model.compile(optimizer='adam', loss=tf.keras.losses.categorical_crossentropy, metrics=['acc'])"
      ]
    },
    {
      "cell_type": "code",
      "execution_count": 17,
      "id": "c3e20f07",
      "metadata": {
        "colab": {
          "base_uri": "https://localhost:8080/"
        },
        "id": "c3e20f07",
        "outputId": "c96f5a9e-9b3d-4082-e857-798019afcc7d"
      },
      "outputs": [
        {
          "output_type": "stream",
          "name": "stdout",
          "text": [
            "Model: \"model\"\n",
            "__________________________________________________________________________________________________\n",
            " Layer (type)                   Output Shape         Param #     Connected to                     \n",
            "==================================================================================================\n",
            " input_1 (InputLayer)           [(None, 224, 224, 3  0           []                               \n",
            "                                )]                                                                \n",
            "                                                                                                  \n",
            " Conv1 (Conv2D)                 (None, 112, 112, 32  864         ['input_1[0][0]']                \n",
            "                                )                                                                 \n",
            "                                                                                                  \n",
            " bn_Conv1 (BatchNormalization)  (None, 112, 112, 32  128         ['Conv1[0][0]']                  \n",
            "                                )                                                                 \n",
            "                                                                                                  \n",
            " Conv1_relu (ReLU)              (None, 112, 112, 32  0           ['bn_Conv1[0][0]']               \n",
            "                                )                                                                 \n",
            "                                                                                                  \n",
            " expanded_conv_depthwise (Depth  (None, 112, 112, 32  288        ['Conv1_relu[0][0]']             \n",
            " wiseConv2D)                    )                                                                 \n",
            "                                                                                                  \n",
            " expanded_conv_depthwise_BN (Ba  (None, 112, 112, 32  128        ['expanded_conv_depthwise[0][0]']\n",
            " tchNormalization)              )                                                                 \n",
            "                                                                                                  \n",
            " expanded_conv_depthwise_relu (  (None, 112, 112, 32  0          ['expanded_conv_depthwise_BN[0][0\n",
            " ReLU)                          )                                ]']                              \n",
            "                                                                                                  \n",
            " expanded_conv_project (Conv2D)  (None, 112, 112, 16  512        ['expanded_conv_depthwise_relu[0]\n",
            "                                )                                [0]']                            \n",
            "                                                                                                  \n",
            " expanded_conv_project_BN (Batc  (None, 112, 112, 16  64         ['expanded_conv_project[0][0]']  \n",
            " hNormalization)                )                                                                 \n",
            "                                                                                                  \n",
            " block_1_expand (Conv2D)        (None, 112, 112, 96  1536        ['expanded_conv_project_BN[0][0]'\n",
            "                                )                                ]                                \n",
            "                                                                                                  \n",
            " block_1_expand_BN (BatchNormal  (None, 112, 112, 96  384        ['block_1_expand[0][0]']         \n",
            " ization)                       )                                                                 \n",
            "                                                                                                  \n",
            " block_1_expand_relu (ReLU)     (None, 112, 112, 96  0           ['block_1_expand_BN[0][0]']      \n",
            "                                )                                                                 \n",
            "                                                                                                  \n",
            " block_1_pad (ZeroPadding2D)    (None, 113, 113, 96  0           ['block_1_expand_relu[0][0]']    \n",
            "                                )                                                                 \n",
            "                                                                                                  \n",
            " block_1_depthwise (DepthwiseCo  (None, 56, 56, 96)  864         ['block_1_pad[0][0]']            \n",
            " nv2D)                                                                                            \n",
            "                                                                                                  \n",
            " block_1_depthwise_BN (BatchNor  (None, 56, 56, 96)  384         ['block_1_depthwise[0][0]']      \n",
            " malization)                                                                                      \n",
            "                                                                                                  \n",
            " block_1_depthwise_relu (ReLU)  (None, 56, 56, 96)   0           ['block_1_depthwise_BN[0][0]']   \n",
            "                                                                                                  \n",
            " block_1_project (Conv2D)       (None, 56, 56, 24)   2304        ['block_1_depthwise_relu[0][0]'] \n",
            "                                                                                                  \n",
            " block_1_project_BN (BatchNorma  (None, 56, 56, 24)  96          ['block_1_project[0][0]']        \n",
            " lization)                                                                                        \n",
            "                                                                                                  \n",
            " block_2_expand (Conv2D)        (None, 56, 56, 144)  3456        ['block_1_project_BN[0][0]']     \n",
            "                                                                                                  \n",
            " block_2_expand_BN (BatchNormal  (None, 56, 56, 144)  576        ['block_2_expand[0][0]']         \n",
            " ization)                                                                                         \n",
            "                                                                                                  \n",
            " block_2_expand_relu (ReLU)     (None, 56, 56, 144)  0           ['block_2_expand_BN[0][0]']      \n",
            "                                                                                                  \n",
            " block_2_depthwise (DepthwiseCo  (None, 56, 56, 144)  1296       ['block_2_expand_relu[0][0]']    \n",
            " nv2D)                                                                                            \n",
            "                                                                                                  \n",
            " block_2_depthwise_BN (BatchNor  (None, 56, 56, 144)  576        ['block_2_depthwise[0][0]']      \n",
            " malization)                                                                                      \n",
            "                                                                                                  \n",
            " block_2_depthwise_relu (ReLU)  (None, 56, 56, 144)  0           ['block_2_depthwise_BN[0][0]']   \n",
            "                                                                                                  \n",
            " block_2_project (Conv2D)       (None, 56, 56, 24)   3456        ['block_2_depthwise_relu[0][0]'] \n",
            "                                                                                                  \n",
            " block_2_project_BN (BatchNorma  (None, 56, 56, 24)  96          ['block_2_project[0][0]']        \n",
            " lization)                                                                                        \n",
            "                                                                                                  \n",
            " block_2_add (Add)              (None, 56, 56, 24)   0           ['block_1_project_BN[0][0]',     \n",
            "                                                                  'block_2_project_BN[0][0]']     \n",
            "                                                                                                  \n",
            " block_3_expand (Conv2D)        (None, 56, 56, 144)  3456        ['block_2_add[0][0]']            \n",
            "                                                                                                  \n",
            " block_3_expand_BN (BatchNormal  (None, 56, 56, 144)  576        ['block_3_expand[0][0]']         \n",
            " ization)                                                                                         \n",
            "                                                                                                  \n",
            " block_3_expand_relu (ReLU)     (None, 56, 56, 144)  0           ['block_3_expand_BN[0][0]']      \n",
            "                                                                                                  \n",
            " block_3_pad (ZeroPadding2D)    (None, 57, 57, 144)  0           ['block_3_expand_relu[0][0]']    \n",
            "                                                                                                  \n",
            " block_3_depthwise (DepthwiseCo  (None, 28, 28, 144)  1296       ['block_3_pad[0][0]']            \n",
            " nv2D)                                                                                            \n",
            "                                                                                                  \n",
            " block_3_depthwise_BN (BatchNor  (None, 28, 28, 144)  576        ['block_3_depthwise[0][0]']      \n",
            " malization)                                                                                      \n",
            "                                                                                                  \n",
            " block_3_depthwise_relu (ReLU)  (None, 28, 28, 144)  0           ['block_3_depthwise_BN[0][0]']   \n",
            "                                                                                                  \n",
            " block_3_project (Conv2D)       (None, 28, 28, 32)   4608        ['block_3_depthwise_relu[0][0]'] \n",
            "                                                                                                  \n",
            " block_3_project_BN (BatchNorma  (None, 28, 28, 32)  128         ['block_3_project[0][0]']        \n",
            " lization)                                                                                        \n",
            "                                                                                                  \n",
            " block_4_expand (Conv2D)        (None, 28, 28, 192)  6144        ['block_3_project_BN[0][0]']     \n",
            "                                                                                                  \n",
            " block_4_expand_BN (BatchNormal  (None, 28, 28, 192)  768        ['block_4_expand[0][0]']         \n",
            " ization)                                                                                         \n",
            "                                                                                                  \n",
            " block_4_expand_relu (ReLU)     (None, 28, 28, 192)  0           ['block_4_expand_BN[0][0]']      \n",
            "                                                                                                  \n",
            " block_4_depthwise (DepthwiseCo  (None, 28, 28, 192)  1728       ['block_4_expand_relu[0][0]']    \n",
            " nv2D)                                                                                            \n",
            "                                                                                                  \n",
            " block_4_depthwise_BN (BatchNor  (None, 28, 28, 192)  768        ['block_4_depthwise[0][0]']      \n",
            " malization)                                                                                      \n",
            "                                                                                                  \n",
            " block_4_depthwise_relu (ReLU)  (None, 28, 28, 192)  0           ['block_4_depthwise_BN[0][0]']   \n",
            "                                                                                                  \n",
            " block_4_project (Conv2D)       (None, 28, 28, 32)   6144        ['block_4_depthwise_relu[0][0]'] \n",
            "                                                                                                  \n",
            " block_4_project_BN (BatchNorma  (None, 28, 28, 32)  128         ['block_4_project[0][0]']        \n",
            " lization)                                                                                        \n",
            "                                                                                                  \n",
            " block_4_add (Add)              (None, 28, 28, 32)   0           ['block_3_project_BN[0][0]',     \n",
            "                                                                  'block_4_project_BN[0][0]']     \n",
            "                                                                                                  \n",
            " block_5_expand (Conv2D)        (None, 28, 28, 192)  6144        ['block_4_add[0][0]']            \n",
            "                                                                                                  \n",
            " block_5_expand_BN (BatchNormal  (None, 28, 28, 192)  768        ['block_5_expand[0][0]']         \n",
            " ization)                                                                                         \n",
            "                                                                                                  \n",
            " block_5_expand_relu (ReLU)     (None, 28, 28, 192)  0           ['block_5_expand_BN[0][0]']      \n",
            "                                                                                                  \n",
            " block_5_depthwise (DepthwiseCo  (None, 28, 28, 192)  1728       ['block_5_expand_relu[0][0]']    \n",
            " nv2D)                                                                                            \n",
            "                                                                                                  \n",
            " block_5_depthwise_BN (BatchNor  (None, 28, 28, 192)  768        ['block_5_depthwise[0][0]']      \n",
            " malization)                                                                                      \n",
            "                                                                                                  \n",
            " block_5_depthwise_relu (ReLU)  (None, 28, 28, 192)  0           ['block_5_depthwise_BN[0][0]']   \n",
            "                                                                                                  \n",
            " block_5_project (Conv2D)       (None, 28, 28, 32)   6144        ['block_5_depthwise_relu[0][0]'] \n",
            "                                                                                                  \n",
            " block_5_project_BN (BatchNorma  (None, 28, 28, 32)  128         ['block_5_project[0][0]']        \n",
            " lization)                                                                                        \n",
            "                                                                                                  \n",
            " block_5_add (Add)              (None, 28, 28, 32)   0           ['block_4_add[0][0]',            \n",
            "                                                                  'block_5_project_BN[0][0]']     \n",
            "                                                                                                  \n",
            " block_6_expand (Conv2D)        (None, 28, 28, 192)  6144        ['block_5_add[0][0]']            \n",
            "                                                                                                  \n",
            " block_6_expand_BN (BatchNormal  (None, 28, 28, 192)  768        ['block_6_expand[0][0]']         \n",
            " ization)                                                                                         \n",
            "                                                                                                  \n",
            " block_6_expand_relu (ReLU)     (None, 28, 28, 192)  0           ['block_6_expand_BN[0][0]']      \n",
            "                                                                                                  \n",
            " block_6_pad (ZeroPadding2D)    (None, 29, 29, 192)  0           ['block_6_expand_relu[0][0]']    \n",
            "                                                                                                  \n",
            " block_6_depthwise (DepthwiseCo  (None, 14, 14, 192)  1728       ['block_6_pad[0][0]']            \n",
            " nv2D)                                                                                            \n",
            "                                                                                                  \n",
            " block_6_depthwise_BN (BatchNor  (None, 14, 14, 192)  768        ['block_6_depthwise[0][0]']      \n",
            " malization)                                                                                      \n",
            "                                                                                                  \n",
            " block_6_depthwise_relu (ReLU)  (None, 14, 14, 192)  0           ['block_6_depthwise_BN[0][0]']   \n",
            "                                                                                                  \n",
            " block_6_project (Conv2D)       (None, 14, 14, 64)   12288       ['block_6_depthwise_relu[0][0]'] \n",
            "                                                                                                  \n",
            " block_6_project_BN (BatchNorma  (None, 14, 14, 64)  256         ['block_6_project[0][0]']        \n",
            " lization)                                                                                        \n",
            "                                                                                                  \n",
            " block_7_expand (Conv2D)        (None, 14, 14, 384)  24576       ['block_6_project_BN[0][0]']     \n",
            "                                                                                                  \n",
            " block_7_expand_BN (BatchNormal  (None, 14, 14, 384)  1536       ['block_7_expand[0][0]']         \n",
            " ization)                                                                                         \n",
            "                                                                                                  \n",
            " block_7_expand_relu (ReLU)     (None, 14, 14, 384)  0           ['block_7_expand_BN[0][0]']      \n",
            "                                                                                                  \n",
            " block_7_depthwise (DepthwiseCo  (None, 14, 14, 384)  3456       ['block_7_expand_relu[0][0]']    \n",
            " nv2D)                                                                                            \n",
            "                                                                                                  \n",
            " block_7_depthwise_BN (BatchNor  (None, 14, 14, 384)  1536       ['block_7_depthwise[0][0]']      \n",
            " malization)                                                                                      \n",
            "                                                                                                  \n",
            " block_7_depthwise_relu (ReLU)  (None, 14, 14, 384)  0           ['block_7_depthwise_BN[0][0]']   \n",
            "                                                                                                  \n",
            " block_7_project (Conv2D)       (None, 14, 14, 64)   24576       ['block_7_depthwise_relu[0][0]'] \n",
            "                                                                                                  \n",
            " block_7_project_BN (BatchNorma  (None, 14, 14, 64)  256         ['block_7_project[0][0]']        \n",
            " lization)                                                                                        \n",
            "                                                                                                  \n",
            " block_7_add (Add)              (None, 14, 14, 64)   0           ['block_6_project_BN[0][0]',     \n",
            "                                                                  'block_7_project_BN[0][0]']     \n",
            "                                                                                                  \n",
            " block_8_expand (Conv2D)        (None, 14, 14, 384)  24576       ['block_7_add[0][0]']            \n",
            "                                                                                                  \n",
            " block_8_expand_BN (BatchNormal  (None, 14, 14, 384)  1536       ['block_8_expand[0][0]']         \n",
            " ization)                                                                                         \n",
            "                                                                                                  \n",
            " block_8_expand_relu (ReLU)     (None, 14, 14, 384)  0           ['block_8_expand_BN[0][0]']      \n",
            "                                                                                                  \n",
            " block_8_depthwise (DepthwiseCo  (None, 14, 14, 384)  3456       ['block_8_expand_relu[0][0]']    \n",
            " nv2D)                                                                                            \n",
            "                                                                                                  \n",
            " block_8_depthwise_BN (BatchNor  (None, 14, 14, 384)  1536       ['block_8_depthwise[0][0]']      \n",
            " malization)                                                                                      \n",
            "                                                                                                  \n",
            " block_8_depthwise_relu (ReLU)  (None, 14, 14, 384)  0           ['block_8_depthwise_BN[0][0]']   \n",
            "                                                                                                  \n",
            " block_8_project (Conv2D)       (None, 14, 14, 64)   24576       ['block_8_depthwise_relu[0][0]'] \n",
            "                                                                                                  \n",
            " block_8_project_BN (BatchNorma  (None, 14, 14, 64)  256         ['block_8_project[0][0]']        \n",
            " lization)                                                                                        \n",
            "                                                                                                  \n",
            " block_8_add (Add)              (None, 14, 14, 64)   0           ['block_7_add[0][0]',            \n",
            "                                                                  'block_8_project_BN[0][0]']     \n",
            "                                                                                                  \n",
            " block_9_expand (Conv2D)        (None, 14, 14, 384)  24576       ['block_8_add[0][0]']            \n",
            "                                                                                                  \n",
            " block_9_expand_BN (BatchNormal  (None, 14, 14, 384)  1536       ['block_9_expand[0][0]']         \n",
            " ization)                                                                                         \n",
            "                                                                                                  \n",
            " block_9_expand_relu (ReLU)     (None, 14, 14, 384)  0           ['block_9_expand_BN[0][0]']      \n",
            "                                                                                                  \n",
            " block_9_depthwise (DepthwiseCo  (None, 14, 14, 384)  3456       ['block_9_expand_relu[0][0]']    \n",
            " nv2D)                                                                                            \n",
            "                                                                                                  \n",
            " block_9_depthwise_BN (BatchNor  (None, 14, 14, 384)  1536       ['block_9_depthwise[0][0]']      \n",
            " malization)                                                                                      \n",
            "                                                                                                  \n",
            " block_9_depthwise_relu (ReLU)  (None, 14, 14, 384)  0           ['block_9_depthwise_BN[0][0]']   \n",
            "                                                                                                  \n",
            " block_9_project (Conv2D)       (None, 14, 14, 64)   24576       ['block_9_depthwise_relu[0][0]'] \n",
            "                                                                                                  \n",
            " block_9_project_BN (BatchNorma  (None, 14, 14, 64)  256         ['block_9_project[0][0]']        \n",
            " lization)                                                                                        \n",
            "                                                                                                  \n",
            " block_9_add (Add)              (None, 14, 14, 64)   0           ['block_8_add[0][0]',            \n",
            "                                                                  'block_9_project_BN[0][0]']     \n",
            "                                                                                                  \n",
            " block_10_expand (Conv2D)       (None, 14, 14, 384)  24576       ['block_9_add[0][0]']            \n",
            "                                                                                                  \n",
            " block_10_expand_BN (BatchNorma  (None, 14, 14, 384)  1536       ['block_10_expand[0][0]']        \n",
            " lization)                                                                                        \n",
            "                                                                                                  \n",
            " block_10_expand_relu (ReLU)    (None, 14, 14, 384)  0           ['block_10_expand_BN[0][0]']     \n",
            "                                                                                                  \n",
            " block_10_depthwise (DepthwiseC  (None, 14, 14, 384)  3456       ['block_10_expand_relu[0][0]']   \n",
            " onv2D)                                                                                           \n",
            "                                                                                                  \n",
            " block_10_depthwise_BN (BatchNo  (None, 14, 14, 384)  1536       ['block_10_depthwise[0][0]']     \n",
            " rmalization)                                                                                     \n",
            "                                                                                                  \n",
            " block_10_depthwise_relu (ReLU)  (None, 14, 14, 384)  0          ['block_10_depthwise_BN[0][0]']  \n",
            "                                                                                                  \n",
            " block_10_project (Conv2D)      (None, 14, 14, 96)   36864       ['block_10_depthwise_relu[0][0]']\n",
            "                                                                                                  \n",
            " block_10_project_BN (BatchNorm  (None, 14, 14, 96)  384         ['block_10_project[0][0]']       \n",
            " alization)                                                                                       \n",
            "                                                                                                  \n",
            " block_11_expand (Conv2D)       (None, 14, 14, 576)  55296       ['block_10_project_BN[0][0]']    \n",
            "                                                                                                  \n",
            " block_11_expand_BN (BatchNorma  (None, 14, 14, 576)  2304       ['block_11_expand[0][0]']        \n",
            " lization)                                                                                        \n",
            "                                                                                                  \n",
            " block_11_expand_relu (ReLU)    (None, 14, 14, 576)  0           ['block_11_expand_BN[0][0]']     \n",
            "                                                                                                  \n",
            " block_11_depthwise (DepthwiseC  (None, 14, 14, 576)  5184       ['block_11_expand_relu[0][0]']   \n",
            " onv2D)                                                                                           \n",
            "                                                                                                  \n",
            " block_11_depthwise_BN (BatchNo  (None, 14, 14, 576)  2304       ['block_11_depthwise[0][0]']     \n",
            " rmalization)                                                                                     \n",
            "                                                                                                  \n",
            " block_11_depthwise_relu (ReLU)  (None, 14, 14, 576)  0          ['block_11_depthwise_BN[0][0]']  \n",
            "                                                                                                  \n",
            " block_11_project (Conv2D)      (None, 14, 14, 96)   55296       ['block_11_depthwise_relu[0][0]']\n",
            "                                                                                                  \n",
            " block_11_project_BN (BatchNorm  (None, 14, 14, 96)  384         ['block_11_project[0][0]']       \n",
            " alization)                                                                                       \n",
            "                                                                                                  \n",
            " block_11_add (Add)             (None, 14, 14, 96)   0           ['block_10_project_BN[0][0]',    \n",
            "                                                                  'block_11_project_BN[0][0]']    \n",
            "                                                                                                  \n",
            " block_12_expand (Conv2D)       (None, 14, 14, 576)  55296       ['block_11_add[0][0]']           \n",
            "                                                                                                  \n",
            " block_12_expand_BN (BatchNorma  (None, 14, 14, 576)  2304       ['block_12_expand[0][0]']        \n",
            " lization)                                                                                        \n",
            "                                                                                                  \n",
            " block_12_expand_relu (ReLU)    (None, 14, 14, 576)  0           ['block_12_expand_BN[0][0]']     \n",
            "                                                                                                  \n",
            " block_12_depthwise (DepthwiseC  (None, 14, 14, 576)  5184       ['block_12_expand_relu[0][0]']   \n",
            " onv2D)                                                                                           \n",
            "                                                                                                  \n",
            " block_12_depthwise_BN (BatchNo  (None, 14, 14, 576)  2304       ['block_12_depthwise[0][0]']     \n",
            " rmalization)                                                                                     \n",
            "                                                                                                  \n",
            " block_12_depthwise_relu (ReLU)  (None, 14, 14, 576)  0          ['block_12_depthwise_BN[0][0]']  \n",
            "                                                                                                  \n",
            " block_12_project (Conv2D)      (None, 14, 14, 96)   55296       ['block_12_depthwise_relu[0][0]']\n",
            "                                                                                                  \n",
            " block_12_project_BN (BatchNorm  (None, 14, 14, 96)  384         ['block_12_project[0][0]']       \n",
            " alization)                                                                                       \n",
            "                                                                                                  \n",
            " block_12_add (Add)             (None, 14, 14, 96)   0           ['block_11_add[0][0]',           \n",
            "                                                                  'block_12_project_BN[0][0]']    \n",
            "                                                                                                  \n",
            " block_13_expand (Conv2D)       (None, 14, 14, 576)  55296       ['block_12_add[0][0]']           \n",
            "                                                                                                  \n",
            " block_13_expand_BN (BatchNorma  (None, 14, 14, 576)  2304       ['block_13_expand[0][0]']        \n",
            " lization)                                                                                        \n",
            "                                                                                                  \n",
            " block_13_expand_relu (ReLU)    (None, 14, 14, 576)  0           ['block_13_expand_BN[0][0]']     \n",
            "                                                                                                  \n",
            " block_13_pad (ZeroPadding2D)   (None, 15, 15, 576)  0           ['block_13_expand_relu[0][0]']   \n",
            "                                                                                                  \n",
            " block_13_depthwise (DepthwiseC  (None, 7, 7, 576)   5184        ['block_13_pad[0][0]']           \n",
            " onv2D)                                                                                           \n",
            "                                                                                                  \n",
            " block_13_depthwise_BN (BatchNo  (None, 7, 7, 576)   2304        ['block_13_depthwise[0][0]']     \n",
            " rmalization)                                                                                     \n",
            "                                                                                                  \n",
            " block_13_depthwise_relu (ReLU)  (None, 7, 7, 576)   0           ['block_13_depthwise_BN[0][0]']  \n",
            "                                                                                                  \n",
            " block_13_project (Conv2D)      (None, 7, 7, 160)    92160       ['block_13_depthwise_relu[0][0]']\n",
            "                                                                                                  \n",
            " block_13_project_BN (BatchNorm  (None, 7, 7, 160)   640         ['block_13_project[0][0]']       \n",
            " alization)                                                                                       \n",
            "                                                                                                  \n",
            " block_14_expand (Conv2D)       (None, 7, 7, 960)    153600      ['block_13_project_BN[0][0]']    \n",
            "                                                                                                  \n",
            " block_14_expand_BN (BatchNorma  (None, 7, 7, 960)   3840        ['block_14_expand[0][0]']        \n",
            " lization)                                                                                        \n",
            "                                                                                                  \n",
            " block_14_expand_relu (ReLU)    (None, 7, 7, 960)    0           ['block_14_expand_BN[0][0]']     \n",
            "                                                                                                  \n",
            " block_14_depthwise (DepthwiseC  (None, 7, 7, 960)   8640        ['block_14_expand_relu[0][0]']   \n",
            " onv2D)                                                                                           \n",
            "                                                                                                  \n",
            " block_14_depthwise_BN (BatchNo  (None, 7, 7, 960)   3840        ['block_14_depthwise[0][0]']     \n",
            " rmalization)                                                                                     \n",
            "                                                                                                  \n",
            " block_14_depthwise_relu (ReLU)  (None, 7, 7, 960)   0           ['block_14_depthwise_BN[0][0]']  \n",
            "                                                                                                  \n",
            " block_14_project (Conv2D)      (None, 7, 7, 160)    153600      ['block_14_depthwise_relu[0][0]']\n",
            "                                                                                                  \n",
            " block_14_project_BN (BatchNorm  (None, 7, 7, 160)   640         ['block_14_project[0][0]']       \n",
            " alization)                                                                                       \n",
            "                                                                                                  \n",
            " block_14_add (Add)             (None, 7, 7, 160)    0           ['block_13_project_BN[0][0]',    \n",
            "                                                                  'block_14_project_BN[0][0]']    \n",
            "                                                                                                  \n",
            " block_15_expand (Conv2D)       (None, 7, 7, 960)    153600      ['block_14_add[0][0]']           \n",
            "                                                                                                  \n",
            " block_15_expand_BN (BatchNorma  (None, 7, 7, 960)   3840        ['block_15_expand[0][0]']        \n",
            " lization)                                                                                        \n",
            "                                                                                                  \n",
            " block_15_expand_relu (ReLU)    (None, 7, 7, 960)    0           ['block_15_expand_BN[0][0]']     \n",
            "                                                                                                  \n",
            " block_15_depthwise (DepthwiseC  (None, 7, 7, 960)   8640        ['block_15_expand_relu[0][0]']   \n",
            " onv2D)                                                                                           \n",
            "                                                                                                  \n",
            " block_15_depthwise_BN (BatchNo  (None, 7, 7, 960)   3840        ['block_15_depthwise[0][0]']     \n",
            " rmalization)                                                                                     \n",
            "                                                                                                  \n",
            " block_15_depthwise_relu (ReLU)  (None, 7, 7, 960)   0           ['block_15_depthwise_BN[0][0]']  \n",
            "                                                                                                  \n",
            " block_15_project (Conv2D)      (None, 7, 7, 160)    153600      ['block_15_depthwise_relu[0][0]']\n",
            "                                                                                                  \n",
            " block_15_project_BN (BatchNorm  (None, 7, 7, 160)   640         ['block_15_project[0][0]']       \n",
            " alization)                                                                                       \n",
            "                                                                                                  \n",
            " block_15_add (Add)             (None, 7, 7, 160)    0           ['block_14_add[0][0]',           \n",
            "                                                                  'block_15_project_BN[0][0]']    \n",
            "                                                                                                  \n",
            " block_16_expand (Conv2D)       (None, 7, 7, 960)    153600      ['block_15_add[0][0]']           \n",
            "                                                                                                  \n",
            " block_16_expand_BN (BatchNorma  (None, 7, 7, 960)   3840        ['block_16_expand[0][0]']        \n",
            " lization)                                                                                        \n",
            "                                                                                                  \n",
            " block_16_expand_relu (ReLU)    (None, 7, 7, 960)    0           ['block_16_expand_BN[0][0]']     \n",
            "                                                                                                  \n",
            " block_16_depthwise (DepthwiseC  (None, 7, 7, 960)   8640        ['block_16_expand_relu[0][0]']   \n",
            " onv2D)                                                                                           \n",
            "                                                                                                  \n",
            " block_16_depthwise_BN (BatchNo  (None, 7, 7, 960)   3840        ['block_16_depthwise[0][0]']     \n",
            " rmalization)                                                                                     \n",
            "                                                                                                  \n",
            " block_16_depthwise_relu (ReLU)  (None, 7, 7, 960)   0           ['block_16_depthwise_BN[0][0]']  \n",
            "                                                                                                  \n",
            " block_16_project (Conv2D)      (None, 7, 7, 320)    307200      ['block_16_depthwise_relu[0][0]']\n",
            "                                                                                                  \n",
            " block_16_project_BN (BatchNorm  (None, 7, 7, 320)   1280        ['block_16_project[0][0]']       \n",
            " alization)                                                                                       \n",
            "                                                                                                  \n",
            " Conv_1 (Conv2D)                (None, 7, 7, 1280)   409600      ['block_16_project_BN[0][0]']    \n",
            "                                                                                                  \n",
            " Conv_1_bn (BatchNormalization)  (None, 7, 7, 1280)  5120        ['Conv_1[0][0]']                 \n",
            "                                                                                                  \n",
            " out_relu (ReLU)                (None, 7, 7, 1280)   0           ['Conv_1_bn[0][0]']              \n",
            "                                                                                                  \n",
            " global_max_pooling2d_1 (Global  (None, 1280)        0           ['out_relu[0][0]']               \n",
            " MaxPooling2D)                                                                                    \n",
            "                                                                                                  \n",
            " dense (Dense)                  (None, 784)          1004304     ['global_max_pooling2d_1[0][0]'] \n",
            "                                                                                                  \n",
            " dense_1 (Dense)                (None, 784)          615440      ['dense[0][0]']                  \n",
            "                                                                                                  \n",
            " batch_normalization (BatchNorm  (None, 784)         3136        ['dense_1[0][0]']                \n",
            " alization)                                                                                       \n",
            "                                                                                                  \n",
            " dropout (Dropout)              (None, 784)          0           ['batch_normalization[0][0]']    \n",
            "                                                                                                  \n",
            " dense_2 (Dense)                (None, 784)          615440      ['dropout[0][0]']                \n",
            "                                                                                                  \n",
            " dense_3 (Dense)                (None, 784)          615440      ['dense_2[0][0]']                \n",
            "                                                                                                  \n",
            " batch_normalization_1 (BatchNo  (None, 784)         3136        ['dense_3[0][0]']                \n",
            " rmalization)                                                                                     \n",
            "                                                                                                  \n",
            " dropout_1 (Dropout)            (None, 784)          0           ['batch_normalization_1[0][0]']  \n",
            "                                                                                                  \n",
            " dense_4 (Dense)                (None, 5)            3925        ['dropout_1[0][0]']              \n",
            "                                                                                                  \n",
            "==================================================================================================\n",
            "Total params: 5,118,805\n",
            "Trainable params: 2,857,685\n",
            "Non-trainable params: 2,261,120\n",
            "__________________________________________________________________________________________________\n"
          ]
        }
      ],
      "source": [
        "\"\"\"Resumen del Modelo\"\"\"\n",
        "model.summary()"
      ]
    },
    {
      "cell_type": "code",
      "execution_count": 18,
      "id": "a67ddd3a",
      "metadata": {
        "id": "a67ddd3a"
      },
      "outputs": [],
      "source": [
        "\"\"\"Estructuras los espoch y su tamaño\"\"\"\n",
        "steps_per_epoch = (x_train.shape[0]//batch_size)\n",
        "\"\"\"Validar los pesos\"\"\"\n",
        "validation_steps = (x_val.shape[0] // batch_size)\n",
        "es = EarlyStopping(monitor='val_loss', mode='min', verbose=1, patience=20)"
      ]
    },
    {
      "cell_type": "code",
      "execution_count": 19,
      "id": "5f98bf9e",
      "metadata": {
        "colab": {
          "base_uri": "https://localhost:8080/"
        },
        "id": "5f98bf9e",
        "outputId": "764c61b6-0ceb-45b0-a13b-ee02158d285f"
      },
      "outputs": [
        {
          "output_type": "execute_result",
          "data": {
            "text/plain": [
              "((742, 224, 224, 3), (742, 5))"
            ]
          },
          "metadata": {},
          "execution_count": 19
        }
      ],
      "source": [
        "\"\"\"Visualizar el array de los datos de entrenamiento\"\"\"\n",
        "x_train.shape,y_train.shape"
      ]
    },
    {
      "cell_type": "markdown",
      "id": "c949203d",
      "metadata": {
        "id": "c949203d"
      },
      "source": [
        "## Evaluación del modelo"
      ]
    },
    {
      "cell_type": "code",
      "execution_count": 40,
      "id": "11543200",
      "metadata": {
        "colab": {
          "base_uri": "https://localhost:8080/"
        },
        "id": "11543200",
        "outputId": "382c95a9-2961-42b0-b50d-f6d2f9f593f7",
        "scrolled": true
      },
      "outputs": [
        {
          "output_type": "stream",
          "name": "stdout",
          "text": [
            "Epoch 1/50\n",
            "23/23 [==============================] - 1s 56ms/step - loss: 0.0042 - acc: 0.9986 - val_loss: 1.7323 - val_acc: 0.8438\n",
            "Epoch 2/50\n",
            "23/23 [==============================] - 1s 49ms/step - loss: 0.0093 - acc: 0.9986 - val_loss: 1.7279 - val_acc: 0.8438\n",
            "Epoch 3/50\n",
            "23/23 [==============================] - 1s 48ms/step - loss: 0.0413 - acc: 0.9901 - val_loss: 1.5494 - val_acc: 0.7500\n",
            "Epoch 4/50\n",
            "23/23 [==============================] - 1s 48ms/step - loss: 0.0115 - acc: 0.9972 - val_loss: 1.6404 - val_acc: 0.8438\n",
            "Epoch 5/50\n",
            "23/23 [==============================] - 1s 48ms/step - loss: 0.0086 - acc: 0.9958 - val_loss: 1.2404 - val_acc: 0.8125\n",
            "Epoch 6/50\n",
            "23/23 [==============================] - 1s 48ms/step - loss: 0.0059 - acc: 0.9972 - val_loss: 1.1037 - val_acc: 0.8125\n",
            "Epoch 7/50\n",
            "23/23 [==============================] - 1s 48ms/step - loss: 0.0277 - acc: 0.9901 - val_loss: 1.8083 - val_acc: 0.6875\n",
            "Epoch 8/50\n",
            "23/23 [==============================] - 1s 48ms/step - loss: 0.0360 - acc: 0.9901 - val_loss: 16.4077 - val_acc: 0.3750\n",
            "Epoch 9/50\n",
            "23/23 [==============================] - 1s 48ms/step - loss: 0.0187 - acc: 0.9944 - val_loss: 1.8171 - val_acc: 0.8125\n",
            "Epoch 10/50\n",
            "23/23 [==============================] - 1s 49ms/step - loss: 0.0040 - acc: 0.9986 - val_loss: 1.5553 - val_acc: 0.7812\n",
            "Epoch 11/50\n",
            "23/23 [==============================] - 1s 49ms/step - loss: 0.0272 - acc: 0.9915 - val_loss: 2.7649 - val_acc: 0.6875\n",
            "Epoch 12/50\n",
            "23/23 [==============================] - 1s 47ms/step - loss: 0.0417 - acc: 0.9845 - val_loss: 2.1309 - val_acc: 0.7812\n",
            "Epoch 13/50\n",
            "23/23 [==============================] - 1s 48ms/step - loss: 0.0054 - acc: 1.0000 - val_loss: 1.1925 - val_acc: 0.8750\n",
            "Epoch 14/50\n",
            "23/23 [==============================] - 1s 48ms/step - loss: 0.0300 - acc: 0.9873 - val_loss: 0.7799 - val_acc: 0.9375\n",
            "Epoch 15/50\n",
            "23/23 [==============================] - 1s 48ms/step - loss: 0.0303 - acc: 0.9901 - val_loss: 0.9150 - val_acc: 0.9062\n",
            "Epoch 16/50\n",
            "23/23 [==============================] - 1s 48ms/step - loss: 0.0269 - acc: 0.9972 - val_loss: 5.8681 - val_acc: 0.5000\n",
            "Epoch 17/50\n",
            "23/23 [==============================] - 1s 49ms/step - loss: 0.0990 - acc: 0.9789 - val_loss: 2.8200 - val_acc: 0.6562\n",
            "Epoch 18/50\n",
            "23/23 [==============================] - 1s 48ms/step - loss: 0.0238 - acc: 0.9915 - val_loss: 1.6467 - val_acc: 0.8125\n",
            "Epoch 19/50\n",
            "23/23 [==============================] - 1s 48ms/step - loss: 0.0063 - acc: 0.9986 - val_loss: 1.2461 - val_acc: 0.8750\n",
            "Epoch 20/50\n",
            "23/23 [==============================] - 1s 49ms/step - loss: 0.0434 - acc: 0.9915 - val_loss: 0.7611 - val_acc: 0.7812\n",
            "Epoch 21/50\n",
            "23/23 [==============================] - 1s 48ms/step - loss: 0.0618 - acc: 0.9845 - val_loss: 0.7523 - val_acc: 0.8750\n",
            "Epoch 22/50\n",
            "23/23 [==============================] - 1s 48ms/step - loss: 0.0161 - acc: 0.9958 - val_loss: 0.6812 - val_acc: 0.9062\n",
            "Epoch 23/50\n",
            "23/23 [==============================] - 1s 48ms/step - loss: 0.0023 - acc: 1.0000 - val_loss: 0.5432 - val_acc: 0.9062\n",
            "Epoch 24/50\n",
            "23/23 [==============================] - 1s 48ms/step - loss: 0.0091 - acc: 0.9972 - val_loss: 0.7550 - val_acc: 0.8438\n",
            "Epoch 25/50\n",
            "23/23 [==============================] - 1s 49ms/step - loss: 0.0371 - acc: 0.9905 - val_loss: 0.8372 - val_acc: 0.8750\n",
            "Epoch 26/50\n",
            "23/23 [==============================] - 1s 49ms/step - loss: 0.0068 - acc: 0.9972 - val_loss: 0.5967 - val_acc: 0.9375\n",
            "Epoch 27/50\n",
            "23/23 [==============================] - 1s 49ms/step - loss: 0.0100 - acc: 0.9972 - val_loss: 0.4698 - val_acc: 0.9062\n",
            "Epoch 28/50\n",
            "23/23 [==============================] - 1s 49ms/step - loss: 0.0155 - acc: 0.9958 - val_loss: 1.1580 - val_acc: 0.8750\n",
            "Epoch 29/50\n",
            "23/23 [==============================] - 1s 48ms/step - loss: 0.0214 - acc: 0.9930 - val_loss: 3.3123 - val_acc: 0.7188\n",
            "Epoch 30/50\n",
            "23/23 [==============================] - 1s 48ms/step - loss: 0.0709 - acc: 0.9845 - val_loss: 3.0116 - val_acc: 0.6875\n",
            "Epoch 31/50\n",
            "23/23 [==============================] - 1s 49ms/step - loss: 0.0880 - acc: 0.9718 - val_loss: 1.2389 - val_acc: 0.7812\n",
            "Epoch 32/50\n",
            "23/23 [==============================] - 1s 49ms/step - loss: 0.0291 - acc: 0.9859 - val_loss: 1.2297 - val_acc: 0.7500\n",
            "Epoch 33/50\n",
            "23/23 [==============================] - 1s 48ms/step - loss: 0.0490 - acc: 0.9845 - val_loss: 0.9605 - val_acc: 0.8125\n",
            "Epoch 34/50\n",
            "23/23 [==============================] - 1s 49ms/step - loss: 0.0091 - acc: 0.9930 - val_loss: 0.6936 - val_acc: 0.8750\n",
            "Epoch 35/50\n",
            "23/23 [==============================] - 1s 49ms/step - loss: 0.0320 - acc: 0.9944 - val_loss: 0.7025 - val_acc: 0.9375\n",
            "Epoch 36/50\n",
            "23/23 [==============================] - 1s 49ms/step - loss: 0.0088 - acc: 0.9958 - val_loss: 0.4274 - val_acc: 0.9375\n",
            "Epoch 37/50\n",
            "23/23 [==============================] - 1s 48ms/step - loss: 0.1030 - acc: 0.9761 - val_loss: 0.4509 - val_acc: 0.9375\n",
            "Epoch 38/50\n",
            "23/23 [==============================] - 1s 49ms/step - loss: 0.0266 - acc: 0.9901 - val_loss: 0.5207 - val_acc: 0.9062\n",
            "Epoch 39/50\n",
            "23/23 [==============================] - 1s 49ms/step - loss: 0.0091 - acc: 0.9986 - val_loss: 0.6665 - val_acc: 0.9062\n",
            "Epoch 40/50\n",
            "23/23 [==============================] - 1s 48ms/step - loss: 0.0333 - acc: 0.9944 - val_loss: 1.4375 - val_acc: 0.8125\n",
            "Epoch 41/50\n",
            "23/23 [==============================] - 1s 49ms/step - loss: 0.0385 - acc: 0.9873 - val_loss: 0.7893 - val_acc: 0.9375\n",
            "Epoch 42/50\n",
            "23/23 [==============================] - 1s 48ms/step - loss: 0.0024 - acc: 1.0000 - val_loss: 0.6504 - val_acc: 0.9375\n",
            "Epoch 43/50\n",
            "23/23 [==============================] - 1s 49ms/step - loss: 0.0049 - acc: 0.9972 - val_loss: 0.4713 - val_acc: 0.9062\n",
            "Epoch 44/50\n",
            "23/23 [==============================] - 1s 48ms/step - loss: 0.0041 - acc: 0.9986 - val_loss: 0.4967 - val_acc: 0.9062\n",
            "Epoch 45/50\n",
            "23/23 [==============================] - 1s 48ms/step - loss: 0.0045 - acc: 0.9986 - val_loss: 0.5168 - val_acc: 0.9375\n",
            "Epoch 46/50\n",
            "23/23 [==============================] - 1s 48ms/step - loss: 0.0042 - acc: 1.0000 - val_loss: 0.4316 - val_acc: 0.8750\n",
            "Epoch 47/50\n",
            "23/23 [==============================] - 1s 48ms/step - loss: 0.0019 - acc: 0.9986 - val_loss: 0.5085 - val_acc: 0.9375\n",
            "Epoch 48/50\n",
            "23/23 [==============================] - 1s 48ms/step - loss: 5.9833e-04 - acc: 1.0000 - val_loss: 0.5070 - val_acc: 0.9375\n",
            "Epoch 49/50\n",
            "23/23 [==============================] - 1s 50ms/step - loss: 0.0010 - acc: 1.0000 - val_loss: 0.4689 - val_acc: 0.9375\n",
            "Epoch 50/50\n",
            "23/23 [==============================] - 1s 50ms/step - loss: 5.4571e-04 - acc: 1.0000 - val_loss: 0.4633 - val_acc: 0.9375\n"
          ]
        }
      ],
      "source": [
        "\"\"\"Función de inicio del tiempo\"\"\"\n",
        "start_time = time.time()\n",
        "\n",
        "\"\"\"Estructura de los historys para el entrenamiento del modelo\"\"\"\n",
        "history = model.fit(x_train, y_train,\n",
        "    steps_per_epoch=steps_per_epoch,\n",
        "    epochs = 50,\n",
        "    validation_data=(x_val, y_val),\n",
        "    validation_steps=validation_steps,\n",
        "    batch_size = batch_size,\n",
        "    callbacks=[es],\n",
        "    verbose=1)\n",
        "\"\"\"Guardar todo el proceso en un archivo txt\"\"\"\n",
        "logging.basicConfig(filename=\"CNN-basedTL_MobileNet_log.txt\", level=logging.INFO)\n",
        "logging.info(\"Training Execution Time:\" + time.strftime(\"%H:%M:%S\", time.gmtime(time.time() - start_time)))"
      ]
    },
    {
      "cell_type": "markdown",
      "id": "449054d6",
      "metadata": {
        "id": "449054d6"
      },
      "source": [
        "# Evaluación del modelo"
      ]
    },
    {
      "cell_type": "code",
      "execution_count": 41,
      "id": "fe4c2ec1",
      "metadata": {
        "colab": {
          "base_uri": "https://localhost:8080/"
        },
        "id": "fe4c2ec1",
        "outputId": "7ca4ce27-b29a-4983-ab27-e8be725a3da1"
      },
      "outputs": [
        {
          "output_type": "stream",
          "name": "stdout",
          "text": [
            "7/7 [==============================] - 0s 49ms/step - loss: 0.0589 - acc: 0.9850\n",
            "test_loss: 5.89\n",
            "test_accuracy: 98.50\n"
          ]
        }
      ],
      "source": [
        "\"\"\"Función de inicio del tiempo\"\"\"\n",
        "start_time = time.time()\n",
        "\n",
        "loss, accuracy = model.evaluate(x_test,y_test,batch_size=batch_size)\n",
        "print('test_loss: %.2f' % (loss * 100.0))  \n",
        "print('test_accuracy: %.2f' % (accuracy * 100.0))\n",
        "\n",
        "logging.info(\"Tiempo de ejecución de la evaluación: \" + time.strftime(\"%H:%M:%S\", time.gmtime(time.time() - start_time)))\n",
        "logging.info(\"test_loss:\" + str(loss))\n",
        "logging.info(\"test accuracy:\" + str(accuracy))"
      ]
    },
    {
      "cell_type": "markdown",
      "id": "645e96aa",
      "metadata": {
        "id": "645e96aa"
      },
      "source": [
        "### Métricas de Evaluación"
      ]
    },
    {
      "cell_type": "code",
      "execution_count": 42,
      "id": "75725467",
      "metadata": {
        "colab": {
          "base_uri": "https://localhost:8080/"
        },
        "id": "75725467",
        "outputId": "2bdad696-749d-43cd-9f8b-b7122eb4e322"
      },
      "outputs": [
        {
          "output_type": "stream",
          "name": "stdout",
          "text": [
            "Accuracy: 98.50\n",
            "F1 score: 98.50\n",
            "Precision: 98.56\n",
            "Recall: 98.50\n"
          ]
        }
      ],
      "source": [
        "\"\"\"Función para las pruebas del modelo\"\"\"\n",
        "model_probs = model.predict(x_test,batch_size=batch_size,verbose=0)\n",
        "\"\"\"predecir clases nítidas para el conjunto de prueba\"\"\"\n",
        "model_classes = np.argmax(model_probs,axis=1)\n",
        "\"\"\"reducir a matriz 1d\"\"\"\n",
        "model_probs = model_probs[:, 0]\n",
        "\n",
        "y_test_reduced = np.argmax(y_test,axis=1)\n",
        " \n",
        "\"\"\"Accuracy: (tp + tn) / (p + n)\"\"\"\n",
        "accuracy = accuracy_score(y_test_reduced, model_classes)*100\n",
        "\"\"\"Precision tp / (tp + fp)\"\"\"\n",
        "precision = precision_score(y_test_reduced, model_classes, average='weighted')*100\n",
        "\"\"\"Recall: tp / (tp + fn)\"\"\"\n",
        "recall = recall_score(y_test_reduced, model_classes, average='weighted')*100\n",
        "\"\"\"F1: 2 tp / (2 tp + fp + fn)\"\"\"\n",
        "f1 = f1_score(y_test_reduced, model_classes, average='weighted')*100\n",
        "\n",
        "print('Accuracy: %.2f' % accuracy)\n",
        "print('F1 score: %.2f' % f1)\n",
        "print('Precision: %.2f' % precision)\n",
        "print('Recall: %.2f' % recall)\n",
        "\n",
        "logging.info('Accuracy: %.2f' % accuracy)\n",
        "logging.info('F1 score: %.2f' % f1)\n",
        "logging.info('Precision: %.2f' % precision)\n",
        "logging.info('Recall: %.2f' % recall)"
      ]
    },
    {
      "cell_type": "markdown",
      "id": "1136caa3",
      "metadata": {
        "id": "1136caa3"
      },
      "source": [
        "## Gráfica de los History"
      ]
    },
    {
      "cell_type": "code",
      "execution_count": 43,
      "id": "cb3d9f9b",
      "metadata": {
        "colab": {
          "base_uri": "https://localhost:8080/",
          "height": 281
        },
        "id": "cb3d9f9b",
        "outputId": "d0728534-c091-46d5-c3a1-cca213ff24ca"
      },
      "outputs": [
        {
          "output_type": "display_data",
          "data": {
            "text/plain": [
              "<Figure size 432x288 with 1 Axes>"
            ],
            "image/png": "[encoded data removed]"
          },
          "metadata": {
            "needs_background": "light"
          }
        }
      ],
      "source": [
        "\"\"\"Funciones para graficar los history de validacion y el accuracy\"\"\"\n",
        "accuracy = history.history['acc']\n",
        "validation_accuracy = history.history['val_acc']\n",
        "epochs = range(len(accuracy))\n",
        "plt.plot(epochs, accuracy, 'r', label='Training accuracy')\n",
        "plt.plot(epochs, validation_accuracy, 'b', label='Validation accuracy')\n",
        "plt.title('Training and validation accuracy')\n",
        "plt.legend(loc=0)\n",
        "plt.savefig(\"Training and validation accuracy - CNN-based TLMobileNetv2.png\")\n",
        "plt.show()"
      ]
    },
    {
      "cell_type": "code",
      "execution_count": 44,
      "id": "mkPx7RVrgdhi",
      "metadata": {
        "id": "mkPx7RVrgdhi"
      },
      "outputs": [],
      "source": [
        "\"\"\"Predicción del Modelo\"\"\"\n",
        "y_pred = model.predict(x_test)"
      ]
    },
    {
      "cell_type": "code",
      "execution_count": 45,
      "id": "xMUAh-1Wgy8K",
      "metadata": {
        "colab": {
          "base_uri": "https://localhost:8080/"
        },
        "id": "xMUAh-1Wgy8K",
        "outputId": "7643460a-7727-4466-94be-66a936deff7b"
      },
      "outputs": [
        {
          "output_type": "execute_result",
          "data": {
            "text/plain": [
              "array([[1., 0., 0., 0., 0.],\n",
              "       [0., 0., 0., 0., 1.],\n",
              "       [0., 0., 1., 0., 0.],\n",
              "       [1., 0., 0., 0., 0.],\n",
              "       [0., 0., 0., 1., 0.],\n",
              "       [0., 0., 0., 1., 0.],\n",
              "       [0., 0., 0., 0., 1.],\n",
              "       [0., 0., 0., 1., 0.],\n",
              "       [0., 0., 1., 0., 0.],\n",
              "       [0., 0., 1., 0., 0.],\n",
              "       [0., 1., 0., 0., 0.],\n",
              "       [0., 1., 0., 0., 0.],\n",
              "       [0., 0., 0., 0., 1.],\n",
              "       [0., 1., 0., 0., 0.],\n",
              "       [0., 0., 0., 0., 1.],\n",
              "       [0., 1., 0., 0., 0.],\n",
              "       [0., 0., 1., 0., 0.],\n",
              "       [0., 0., 0., 1., 0.],\n",
              "       [0., 1., 0., 0., 0.],\n",
              "       [1., 0., 0., 0., 0.],\n",
              "       [0., 0., 1., 0., 0.],\n",
              "       [0., 0., 0., 1., 0.],\n",
              "       [0., 0., 1., 0., 0.],\n",
              "       [0., 1., 0., 0., 0.],\n",
              "       [1., 0., 0., 0., 0.],\n",
              "       [0., 1., 0., 0., 0.],\n",
              "       [0., 0., 1., 0., 0.],\n",
              "       [1., 0., 0., 0., 0.],\n",
              "       [0., 0., 1., 0., 0.],\n",
              "       [0., 0., 0., 1., 0.],\n",
              "       [1., 0., 0., 0., 0.],\n",
              "       [0., 0., 0., 1., 0.],\n",
              "       [0., 0., 0., 0., 1.],\n",
              "       [1., 0., 0., 0., 0.],\n",
              "       [0., 0., 0., 1., 0.],\n",
              "       [0., 0., 0., 0., 1.],\n",
              "       [0., 0., 0., 1., 0.],\n",
              "       [0., 1., 0., 0., 0.],\n",
              "       [1., 0., 0., 0., 0.],\n",
              "       [0., 0., 0., 1., 0.],\n",
              "       [1., 0., 0., 0., 0.],\n",
              "       [0., 0., 0., 0., 1.],\n",
              "       [0., 0., 1., 0., 0.],\n",
              "       [0., 0., 0., 0., 1.],\n",
              "       [0., 0., 0., 0., 1.],\n",
              "       [0., 0., 0., 0., 1.],\n",
              "       [0., 0., 0., 1., 0.],\n",
              "       [0., 1., 0., 0., 0.],\n",
              "       [0., 1., 0., 0., 0.],\n",
              "       [0., 1., 0., 0., 0.],\n",
              "       [0., 0., 0., 0., 1.],\n",
              "       [0., 0., 0., 0., 1.],\n",
              "       [0., 1., 0., 0., 0.],\n",
              "       [0., 0., 0., 1., 0.],\n",
              "       [0., 1., 0., 0., 0.],\n",
              "       [0., 0., 1., 0., 0.],\n",
              "       [0., 0., 1., 0., 0.],\n",
              "       [0., 0., 1., 0., 0.],\n",
              "       [1., 0., 0., 0., 0.],\n",
              "       [1., 0., 0., 0., 0.],\n",
              "       [0., 0., 0., 0., 1.],\n",
              "       [0., 0., 0., 0., 1.],\n",
              "       [1., 0., 0., 0., 0.],\n",
              "       [0., 0., 0., 1., 0.],\n",
              "       [1., 0., 0., 0., 0.],\n",
              "       [0., 0., 1., 0., 0.],\n",
              "       [0., 1., 0., 0., 0.],\n",
              "       [0., 1., 0., 0., 0.],\n",
              "       [0., 0., 1., 0., 0.],\n",
              "       [0., 0., 1., 0., 0.],\n",
              "       [0., 0., 0., 1., 0.],\n",
              "       [1., 0., 0., 0., 0.],\n",
              "       [0., 1., 0., 0., 0.],\n",
              "       [0., 1., 0., 0., 0.],\n",
              "       [0., 0., 0., 1., 0.],\n",
              "       [1., 0., 0., 0., 0.],\n",
              "       [0., 0., 0., 1., 0.],\n",
              "       [0., 0., 0., 1., 0.],\n",
              "       [1., 0., 0., 0., 0.],\n",
              "       [0., 0., 1., 0., 0.],\n",
              "       [1., 0., 0., 0., 0.],\n",
              "       [0., 0., 0., 0., 1.],\n",
              "       [0., 0., 0., 0., 1.],\n",
              "       [0., 0., 0., 1., 0.],\n",
              "       [0., 1., 0., 0., 0.],\n",
              "       [1., 0., 0., 0., 0.],\n",
              "       [0., 1., 0., 0., 0.],\n",
              "       [1., 0., 0., 0., 0.],\n",
              "       [0., 0., 0., 1., 0.],\n",
              "       [0., 0., 1., 0., 0.],\n",
              "       [0., 0., 0., 1., 0.],\n",
              "       [0., 0., 0., 0., 1.],\n",
              "       [0., 0., 0., 1., 0.],\n",
              "       [0., 0., 1., 0., 0.],\n",
              "       [0., 0., 0., 0., 1.],\n",
              "       [1., 0., 0., 0., 0.],\n",
              "       [0., 0., 1., 0., 0.],\n",
              "       [0., 0., 0., 1., 0.],\n",
              "       [0., 1., 0., 0., 0.],\n",
              "       [1., 0., 0., 0., 0.],\n",
              "       [1., 0., 0., 0., 0.],\n",
              "       [1., 0., 0., 0., 0.],\n",
              "       [0., 0., 0., 1., 0.],\n",
              "       [0., 0., 1., 0., 0.],\n",
              "       [0., 1., 0., 0., 0.],\n",
              "       [0., 0., 1., 0., 0.],\n",
              "       [1., 0., 0., 0., 0.],\n",
              "       [0., 0., 0., 1., 0.],\n",
              "       [1., 0., 0., 0., 0.],\n",
              "       [0., 0., 0., 1., 0.],\n",
              "       [0., 0., 0., 1., 0.],\n",
              "       [0., 1., 0., 0., 0.],\n",
              "       [0., 0., 0., 1., 0.],\n",
              "       [0., 0., 0., 0., 1.],\n",
              "       [1., 0., 0., 0., 0.],\n",
              "       [1., 0., 0., 0., 0.],\n",
              "       [0., 0., 0., 1., 0.],\n",
              "       [0., 0., 1., 0., 0.],\n",
              "       [1., 0., 0., 0., 0.],\n",
              "       [0., 0., 0., 1., 0.],\n",
              "       [0., 1., 0., 0., 0.],\n",
              "       [0., 0., 1., 0., 0.],\n",
              "       [1., 0., 0., 0., 0.],\n",
              "       [0., 0., 1., 0., 0.],\n",
              "       [1., 0., 0., 0., 0.],\n",
              "       [1., 0., 0., 0., 0.],\n",
              "       [0., 1., 0., 0., 0.],\n",
              "       [0., 1., 0., 0., 0.],\n",
              "       [0., 0., 0., 1., 0.],\n",
              "       [0., 0., 0., 0., 1.],\n",
              "       [0., 0., 0., 0., 1.],\n",
              "       [1., 0., 0., 0., 0.],\n",
              "       [0., 0., 0., 0., 1.],\n",
              "       [0., 1., 0., 0., 0.],\n",
              "       [0., 0., 0., 1., 0.],\n",
              "       [0., 1., 0., 0., 0.],\n",
              "       [0., 0., 0., 1., 0.],\n",
              "       [1., 0., 0., 0., 0.],\n",
              "       [0., 0., 0., 1., 0.],\n",
              "       [0., 0., 0., 1., 0.],\n",
              "       [0., 0., 0., 1., 0.],\n",
              "       [0., 0., 1., 0., 0.],\n",
              "       [1., 0., 0., 0., 0.],\n",
              "       [0., 0., 0., 1., 0.],\n",
              "       [0., 0., 1., 0., 0.],\n",
              "       [0., 0., 1., 0., 0.],\n",
              "       [0., 1., 0., 0., 0.],\n",
              "       [0., 0., 1., 0., 0.],\n",
              "       [0., 0., 1., 0., 0.],\n",
              "       [0., 0., 0., 0., 1.],\n",
              "       [0., 0., 0., 1., 0.],\n",
              "       [0., 0., 0., 0., 1.],\n",
              "       [1., 0., 0., 0., 0.],\n",
              "       [0., 1., 0., 0., 0.],\n",
              "       [0., 1., 0., 0., 0.],\n",
              "       [0., 0., 0., 0., 1.],\n",
              "       [1., 0., 0., 0., 0.],\n",
              "       [0., 1., 0., 0., 0.],\n",
              "       [0., 0., 1., 0., 0.],\n",
              "       [0., 0., 1., 0., 0.],\n",
              "       [0., 0., 1., 0., 0.],\n",
              "       [1., 0., 0., 0., 0.],\n",
              "       [0., 0., 1., 0., 0.],\n",
              "       [0., 0., 1., 0., 0.],\n",
              "       [0., 1., 0., 0., 0.],\n",
              "       [0., 0., 0., 1., 0.],\n",
              "       [0., 0., 1., 0., 0.],\n",
              "       [0., 0., 0., 1., 0.],\n",
              "       [0., 0., 0., 0., 1.],\n",
              "       [0., 0., 1., 0., 0.],\n",
              "       [0., 0., 1., 0., 0.],\n",
              "       [1., 0., 0., 0., 0.],\n",
              "       [0., 0., 0., 1., 0.],\n",
              "       [0., 0., 1., 0., 0.],\n",
              "       [0., 0., 1., 0., 0.],\n",
              "       [1., 0., 0., 0., 0.],\n",
              "       [0., 1., 0., 0., 0.],\n",
              "       [0., 1., 0., 0., 0.],\n",
              "       [0., 0., 0., 0., 1.],\n",
              "       [0., 0., 0., 0., 1.],\n",
              "       [0., 0., 0., 1., 0.],\n",
              "       [0., 0., 1., 0., 0.],\n",
              "       [0., 0., 0., 0., 1.],\n",
              "       [0., 0., 0., 1., 0.],\n",
              "       [0., 0., 0., 1., 0.],\n",
              "       [0., 0., 0., 1., 0.],\n",
              "       [0., 1., 0., 0., 0.],\n",
              "       [0., 1., 0., 0., 0.],\n",
              "       [0., 0., 1., 0., 0.],\n",
              "       [1., 0., 0., 0., 0.],\n",
              "       [0., 0., 0., 1., 0.],\n",
              "       [0., 1., 0., 0., 0.],\n",
              "       [0., 1., 0., 0., 0.],\n",
              "       [0., 0., 0., 1., 0.],\n",
              "       [1., 0., 0., 0., 0.],\n",
              "       [0., 0., 1., 0., 0.],\n",
              "       [0., 1., 0., 0., 0.],\n",
              "       [0., 0., 1., 0., 0.],\n",
              "       [0., 0., 0., 1., 0.],\n",
              "       [0., 1., 0., 0., 0.]], dtype=float32)"
            ]
          },
          "metadata": {},
          "execution_count": 45
        }
      ],
      "source": [
        "\"\"\"Mostrar el array del y_pred\"\"\"\n",
        "y_pred.round()"
      ]
    },
    {
      "cell_type": "code",
      "execution_count": 46,
      "id": "ktnZsfQng9PV",
      "metadata": {
        "colab": {
          "base_uri": "https://localhost:8080/"
        },
        "id": "ktnZsfQng9PV",
        "outputId": "57b35e64-469e-41f2-ab39-b1b64171fab2"
      },
      "outputs": [
        {
          "output_type": "stream",
          "name": "stdout",
          "text": [
            "              precision    recall  f1-score   support\n",
            "\n",
            "           0       1.00      0.95      0.97        41\n",
            "           1       1.00      1.00      1.00        40\n",
            "           2       0.96      1.00      0.98        43\n",
            "           3       1.00      0.98      0.99        47\n",
            "           4       0.97      1.00      0.98        29\n",
            "\n",
            "   micro avg       0.98      0.98      0.98       200\n",
            "   macro avg       0.98      0.99      0.98       200\n",
            "weighted avg       0.99      0.98      0.99       200\n",
            " samples avg       0.98      0.98      0.98       200\n",
            "\n"
          ]
        }
      ],
      "source": [
        "\"\"\"Visualizar las métricas del modelo\"\"\"\n",
        "from sklearn.metrics import classification_report, confusion_matrix\n",
        "print(classification_report(y_pred.round(), y_test))"
      ]
    },
    {
      "cell_type": "code",
      "execution_count": 47,
      "id": "Tnquu-qeg_uQ",
      "metadata": {
        "colab": {
          "base_uri": "https://localhost:8080/"
        },
        "id": "Tnquu-qeg_uQ",
        "outputId": "555b8b7b-e8f6-4a1f-e406-7216e5489f4e"
      },
      "outputs": [
        {
          "output_type": "stream",
          "name": "stdout",
          "text": [
            "7/7 [==============================] - 0s 47ms/step - loss: 0.0589 - acc: 0.9850\n",
            "Accuracy:  98.50000143051147\n"
          ]
        }
      ],
      "source": [
        "\"\"\"Visualización del Accuracy\"\"\"\n",
        "accuracy = model.evaluate(x_test,y_test,batch_size=32)\n",
        "print(\"Accuracy: \",accuracy[1]*100)"
      ]
    },
    {
      "cell_type": "code",
      "source": [
        "Y_pred_classes = np.argmax(y_pred,axis = 1) \n",
        "Y_true = np.argmax(y_test,axis = 1)"
      ],
      "metadata": {
        "id": "WC1nnav6jpIb"
      },
      "id": "WC1nnav6jpIb",
      "execution_count": 48,
      "outputs": []
    },
    {
      "cell_type": "code",
      "execution_count": 49,
      "id": "adt0NN_thGqO",
      "metadata": {
        "colab": {
          "base_uri": "https://localhost:8080/"
        },
        "id": "adt0NN_thGqO",
        "outputId": "379afa19-fce3-486b-9a0f-32de9bc0a1a6"
      },
      "outputs": [
        {
          "output_type": "stream",
          "name": "stdout",
          "text": [
            "              precision    recall  f1-score   support\n",
            "\n",
            "           u       0.95      1.00      0.97        39\n",
            "           o       1.00      1.00      1.00        40\n",
            "           i       1.00      0.96      0.98        45\n",
            "           a       0.98      1.00      0.99        46\n",
            "           e       1.00      0.97      0.98        30\n",
            "\n",
            "    accuracy                           0.98       200\n",
            "   macro avg       0.99      0.98      0.98       200\n",
            "weighted avg       0.99      0.98      0.98       200\n",
            "\n"
          ]
        }
      ],
      "source": [
        "\"\"\"Reporte de clasificación de las métricas\"\"\"\n",
        "report = classification_report(Y_true, Y_pred_classes, target_names=categories)\n",
        "print(report)"
      ]
    },
    {
      "cell_type": "markdown",
      "id": "2f77bf16",
      "metadata": {
        "id": "2f77bf16"
      },
      "source": [
        "# Matriz de confusión"
      ]
    },
    {
      "cell_type": "code",
      "execution_count": 50,
      "id": "fTnpFAs-hJ_M",
      "metadata": {
        "colab": {
          "base_uri": "https://localhost:8080/"
        },
        "id": "fTnpFAs-hJ_M",
        "outputId": "55fa47f4-0b2f-431b-d5b9-b27d91e63e33"
      },
      "outputs": [
        {
          "output_type": "stream",
          "name": "stdout",
          "text": [
            "Confusion Matrix\n",
            "\n",
            "[[39  0  0  0  0]\n",
            " [ 0 40  0  0  0]\n",
            " [ 2  0 43  0  0]\n",
            " [ 0  0  0 46  0]\n",
            " [ 0  0  0  1 29]]\n"
          ]
        }
      ],
      "source": [
        "\"\"\"Estructurar la matriz de confusion\"\"\"\n",
        "confusion = confusion_matrix(Y_true,Y_pred_classes)\n",
        "print('Confusion Matrix\\n')\n",
        "print(confusion)"
      ]
    },
    {
      "cell_type": "code",
      "execution_count": 51,
      "id": "4XlbKWHPhOP3",
      "metadata": {
        "colab": {
          "base_uri": "https://localhost:8080/",
          "height": 350
        },
        "id": "4XlbKWHPhOP3",
        "outputId": "8efb07ef-bbcf-4ce7-80b8-dbc791de59f9"
      },
      "outputs": [
        {
          "output_type": "display_data",
          "data": {
            "text/plain": [
              "<Figure size 360x360 with 2 Axes>"
            ],
            "image/png": "[encoded data removed]"
          },
          "metadata": {
            "needs_background": "light"
          }
        }
      ],
      "source": [
        "\"\"\"Librería para graficar la matriz de confusion\"\"\"\n",
        "import seaborn as sns\n",
        "plt.figure(figsize=(5, 5))\n",
        "\n",
        "ma = sns.heatmap(confusion, cmap=\"YlGnBu\", annot=True)\n",
        "ma.set_title('Confusion Matrix with labels')\n",
        "ma.set_xlabel('Predicted Values')\n",
        "ma.set_ylabel('Actual Values ')\n",
        "ma.xaxis.set_ticklabels(categories)\n",
        "ma.yaxis.set_ticklabels(categories)\n",
        "\n",
        "plt.show()"
      ]
    },
    {
      "cell_type": "code",
      "execution_count": 52,
      "id": "2414db0a",
      "metadata": {
        "colab": {
          "base_uri": "https://localhost:8080/"
        },
        "id": "2414db0a",
        "outputId": "7b40be98-0cec-46cd-878c-9ecaf39b40e0"
      },
      "outputs": [
        {
          "output_type": "stream",
          "name": "stdout",
          "text": [
            "Saved model to disk\n"
          ]
        }
      ],
      "source": [
        "\"\"\"Crear un archivo de tipo json\"\"\"\n",
        "model_json = model.to_json()\n",
        "with open(\"MobileNetv2_Vocales_Classifier.json\", \"w\") as json_file:\n",
        "    json_file.write(model_json)\n",
        "model.save(\"MobileNetv2_Vocales_Classifier.h5\")\n",
        "\"\"\"Guardar en el disco duro\"\"\"\n",
        "print(\"Saved model to disk\")\n",
        "model.save_weights(\"MobileNetv2_Vocales.h5\")"
      ]
    },
    {
      "cell_type": "code",
      "execution_count": null,
      "id": "5e05e073",
      "metadata": {
        "id": "5e05e073"
      },
      "outputs": [],
      "source": []
    }
  ],
  "metadata": {
    "accelerator": "GPU",
    "colab": {
      "collapsed_sections": [],
      "provenance": []
    },
    "gpuClass": "standard",
    "kernelspec": {
      "display_name": "Python 3 (ipykernel)",
      "language": "python",
      "name": "python3"
    },
    "language_info": {
      "codemirror_mode": {
        "name": "ipython",
        "version": 3
      },
      "file_extension": ".py",
      "mimetype": "text/x-python",
      "name": "python",
      "nbconvert_exporter": "python",
      "pygments_lexer": "ipython3",
      "version": "3.9.12"
    }
  },
  "nbformat": 4,
  "nbformat_minor": 5
}